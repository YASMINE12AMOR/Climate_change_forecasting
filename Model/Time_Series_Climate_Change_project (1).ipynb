{
 "cells": [
  {
   "cell_type": "markdown",
   "id": "99d34c75-d8e0-41d1-bc41-94a54f992b2c",
   "metadata": {
    "id": "99d34c75-d8e0-41d1-bc41-94a54f992b2c"
   },
   "source": [
    "#  <center><div style=\"color:teal;\">  TIME SERIES PROJECT : CLIAMTE CHANGE  </div></center>\n"
   ]
  },
  {
   "cell_type": "markdown",
   "id": "f59c8c9b-e5c6-48fa-914e-7e5ff8b7f19d",
   "metadata": {
    "id": "f59c8c9b-e5c6-48fa-914e-7e5ff8b7f19d"
   },
   "source": [
    "## <span style=\"color: lightblue;\">I-BUSINESS UNDERSTANDING</span>"
   ]
  },
  {
   "cell_type": "markdown",
   "id": "ac8a4352-7f69-43a0-92e8-cc10ac2e5eec",
   "metadata": {
    "id": "ac8a4352-7f69-43a0-92e8-cc10ac2e5eec",
    "jp-MarkdownHeadingCollapsed": true
   },
   "source": [
    "\n",
    "**Project Goal:** Analyze the Berkeley Earth Surface Temperature data to gain insights into global climate trends.\n",
    "\n",
    "**Business Needs:**\n",
    "\n",
    "* **Understanding Climate Change:** Businesses across various sectors are significantly impacted by climate change. This project aims to leverage a robust temperature dataset to understand historical and ongoing trends. This knowledge can inform strategic decision-making for businesses in the following ways:\n",
    "    * **Risk Management:**  Identify and mitigate climate-related risks to operations, supply chains, and infrastructure. For instance, a construction company can assess the increased risk of extreme weather events on project timelines and costs.\n",
    "    * **Resource Management:**  Analyze how temperature changes affect resource availability (e.g., water, energy). Businesses can develop strategies to adapt to potential water scarcity or increased energy demand due to rising temperatures.\n",
    "    * **Sustainability Initiatives:**  Support the development and implementation of sustainable practices. Businesses can track the effectiveness of their sustainability efforts in reducing their carbon footprint and contributing to global climate change mitigation.\n",
    "\n",
    "**Data Source:**\n",
    "\n",
    "The project will utilize the Berkeley Earth Surface Temperature data, known for its:\n",
    "\n",
    "* **Large Scale:** Over 1.6 billion temperature reports, providing a comprehensive historical perspective.\n",
    "* **Data Quality:** Addresses historical inconsistencies through data cleaning and adjustment methods.\n",
    "* **Accessibility:** Well-organized data allows for easy analysis and exploration of specific regions.\n",
    "* **Transparency:**  Includes raw data and processing code, ensuring data integrity and facilitating reproducibility.\n",
    "\n",
    "**Expected Outcomes:**\n",
    "\n",
    "* **Identify trends:**  Analyze average, minimum, and maximum temperatures to identify warming or cooling patterns.\n",
    "* **Land vs. Ocean Comparison:**  Understand the differential heating of land and ocean masses and their potential interactions.\n",
    "* **Regional Variations:**  Explore temperature variations across specific regions relevant to business operations.\n",
    "* **Climate Model Validation:**  Compare observed temperatures with climate model predictions to assess their accuracy.\n",
    "\n"
   ]
  },
  {
   "cell_type": "markdown",
   "id": "0187a371-2bf9-4772-aab6-7d959da0c7b7",
   "metadata": {
    "id": "0187a371-2bf9-4772-aab6-7d959da0c7b7"
   },
   "source": [
    "## <div style=\"color:lightblue;\"> II-DATA UNDERSTANDING"
   ]
  },
  {
   "cell_type": "markdown",
   "id": "G2_VC3GrY4vt",
   "metadata": {
    "id": "G2_VC3GrY4vt"
   },
   "source": [
    "* **Date:** This helps track temperature changes over time. By looking at temperatures across decades and centuries, we can identify trends like global warming or cooling.\n",
    "\n",
    "* **LandAverageTemperature (Celsius):** This represents the average temperature across all land masses on Earth at a given point in time. Rising average land temperatures are a key indicator of climate change.\n",
    "\n",
    "* **LandAverageTemperatureUncertainty:** This uncertainty value represents the range of possible \"true\" values for the average temperature, considering the 95% confidence interval. It acknowledges the inherent variability in temperature measurements.\n",
    "\n",
    "* **LandMaxTemperature (Celsius):** This captures the average of the highest recorded temperatures across land masses on a specific date.  Increasing maximum temperatures can be linked to more frequent and intense heatwaves, impacting ecosystems and human health.\n",
    "\n",
    "* **LandMaxTemperatureUncertainty:** Similar to the average temperature, this uncertainty reflects the range of possible values for the maximum temperature within the 95% confidence interval.\n",
    "\n",
    "* **LandMinTemperature (Celsius):** This represents the average of the lowest recorded temperatures across land masses on a specific date. Changes in minimum temperatures can influence weather patterns and agricultural yields.\n",
    "\n",
    "* **LandMinTemperatureUncertainty:**  This uncertainty value reflects the range of possible \"true\" values for the minimum temperature, considering the 95% confidence interval.\n",
    "\n",
    "* **LandAndOceanAverageTemperature (Celsius):** This captures the combined average temperature of both land and ocean surfaces. Since oceans absorb a large portion of Earth's heat, changes in this value are crucial for understanding global climate trends.\n",
    "\n",
    "* **LandAndOceanAverageTemperatureUncertainty:**  Similar to land temperatures, this uncertainty reflects the range of possible \"true\" values for the combined average temperature within the 95% confidence interval.\n",
    "\n"
   ]
  },
  {
   "cell_type": "markdown",
   "id": "Rwt25e8FZO92",
   "metadata": {
    "id": "Rwt25e8FZO92"
   },
   "source": [
    "### <div style=\"color:darkcyan;\"> 1- Time series column choice justification:"
   ]
  },
  {
   "cell_type": "markdown",
   "id": "EUEXz9Zdax8x",
   "metadata": {
    "id": "EUEXz9Zdax8x"
   },
   "source": [
    "**We have chosen the LandAverageTemperature (Celsius) column to apply time series on it.**"
   ]
  },
  {
   "cell_type": "markdown",
   "id": "oW8KucqwZqPy",
   "metadata": {
    "id": "oW8KucqwZqPy"
   },
   "source": [
    "There are several reasons why LandAverageTemperature (Celsius) is a good choice for applying time series analysis:\n",
    "\n",
    "* **Captures Overall Trend:** This feature represents the average temperature across all land masses, providing a comprehensive overview of global warming or cooling trends. By analyzing changes in this value over time, you can identify long-term patterns and potential tipping points.\n",
    "\n",
    "* **Continuous Data:** Land average temperature is measured continuously. Time series analysis is specifically designed to uncover patterns and trends in data collected at regular intervals. This allows you to  identify seasonal cycles, long-term trends, and potential anomalies in temperature data.\n",
    "\n",
    "* **Strong Climate Change Indicator:** Rising average land temperatures are a well-established indicator of global climate change. By analyzing this data, you can directly assess the severity and pace of climate change.\n",
    "\n",
    "* **Comparability:**  The data starts in 1750 (for land average temperature), offering a long historical perspective. This allows you to compare past and present temperature trends and evaluate the effectiveness of any implemented climate change mitigation strategies.\n",
    "\n",
    "* **Baseline for Other Features:**  Land average temperature serves as a baseline for analyzing other features like LandMaxTemperature (Celsius) and LandMinTemperature (Celsius). You can  explore how changes in average temperatures influence the frequency and intensity of extreme temperatures.\n",
    "\n",
    "While other features like LandMaxTemperature and LandMinTemperature offer valuable insights, LandAverageTemperature provides a strong foundation for time series analysis due to its ability to capture the overall warming/cooling trend and its continuous nature.\n"
   ]
  },
  {
   "cell_type": "markdown",
   "id": "akLFDQy0ZY9g",
   "metadata": {
    "id": "akLFDQy0ZY9g"
   },
   "source": [
    "### <div style=\"color:darkcyan;\"> 2- SDGS chosen:"
   ]
  },
  {
   "cell_type": "markdown",
   "id": "xaHY-zcra-Ud",
   "metadata": {
    "id": "xaHY-zcra-Ud"
   },
   "source": [
    "\n",
    "**SDGs Impacted by LandAverageTemperature Time Series Analysis:**\n",
    "\n",
    "* **SDG 13: Climate Action:** This SDG directly targets combating climate change. Analyzing trends in LandAverageTemperature allows you to:\n",
    "    * Quantify global warming: Identify the rate and extent of temperature increase, a key indicator of climate change.\n",
    "    * Evaluate mitigation strategies: Track the effectiveness of implemented policies aimed at reducing greenhouse gas emissions.\n",
    "    * Inform future actions: Use the data to guide the development and implementation of more effective climate change mitigation strategies.\n",
    "\n",
    "* **SDG 15: Life on Land:** Rising temperatures significantly impact land ecosystems. Time series analysis of LandAverageTemperature helps us:\n",
    "    * Understand the impact on biodiversity:  Identify how temperature changes affect plant and animal life, potentially leading to habitat loss and species extinction.\n",
    "    * Develop adaptation strategies:  Use the data to create plans for protecting vulnerable ecosystems and species.\n",
    "    * Promote sustainable land management: Inform practices that can mitigate the negative impacts of climate change on land.\n",
    "\n",
    "* **SDG 11: Sustainable Cities and Communities:** Cities are particularly vulnerable to climate change. Analyzing LandAverageTemperature can help with:\n",
    "    * Assessing climate risks: Identify how rising temperatures might lead to increased heatwaves, flooding, and other extreme weather events in urban areas.\n",
    "    * Building resilience: Inform the development of city plans that incorporate measures to adapt to changing weather patterns and protect citizens.\n",
    "    * Promoting sustainable urban development: Encourage practices like green infrastructure and energy efficiency that can help cities mitigate their contribution to climate change.\n"
   ]
  },
  {
   "cell_type": "code",
   "execution_count": 1,
   "id": "d4e7b2f6-7a43-44fd-b7fb-5de368360db0",
   "metadata": {
    "id": "d4e7b2f6-7a43-44fd-b7fb-5de368360db0"
   },
   "outputs": [],
   "source": [
    "library(readr)"
   ]
  },
  {
   "cell_type": "code",
   "execution_count": 2,
   "id": "1e9bcc8f-770f-45f5-bc65-def3653023cf",
   "metadata": {
    "colab": {
     "base_uri": "https://localhost:8080/"
    },
    "id": "1e9bcc8f-770f-45f5-bc65-def3653023cf",
    "outputId": "43411c3b-2a80-46fe-f4a7-e69815b1fd1e"
   },
   "outputs": [
    {
     "name": "stderr",
     "output_type": "stream",
     "text": [
      "Parsed with column specification:\n",
      "cols(\n",
      "  dt = col_date(format = \"\"),\n",
      "  LandAverageTemperature = col_double(),\n",
      "  LandAverageTemperatureUncertainty = col_double(),\n",
      "  LandMaxTemperature = col_logical(),\n",
      "  LandMaxTemperatureUncertainty = col_logical(),\n",
      "  LandMinTemperature = col_logical(),\n",
      "  LandMinTemperatureUncertainty = col_logical(),\n",
      "  LandAndOceanAverageTemperature = col_logical(),\n",
      "  LandAndOceanAverageTemperatureUncertainty = col_logical()\n",
      ")\n",
      "Warning message:\n",
      "\"11952 parsing failures.\n",
      " row                            col           expected              actual                     file\n",
      "1201 LandMaxTemperature             1/0/T/F/TRUE/FALSE 8.241999999999999   'GlobalTemperatures.csv'\n",
      "1201 LandMaxTemperatureUncertainty  1/0/T/F/TRUE/FALSE 1.7380000000000002  'GlobalTemperatures.csv'\n",
      "1201 LandMinTemperature             1/0/T/F/TRUE/FALSE -3.2060000000000004 'GlobalTemperatures.csv'\n",
      "1201 LandMinTemperatureUncertainty  1/0/T/F/TRUE/FALSE 2.822               'GlobalTemperatures.csv'\n",
      "1201 LandAndOceanAverageTemperature 1/0/T/F/TRUE/FALSE 12.832999999999998  'GlobalTemperatures.csv'\n",
      ".... .............................. .................. ................... ........................\n",
      "See problems(...) for more details.\n",
      "\""
     ]
    }
   ],
   "source": [
    "gt <- read_csv(\"GlobalTemperatures.csv\")"
   ]
  },
  {
   "cell_type": "code",
   "execution_count": 3,
   "id": "683766d6-5730-4fb7-bba1-42653ff66966",
   "metadata": {
    "colab": {
     "base_uri": "https://localhost:8080/",
     "height": 1000
    },
    "id": "683766d6-5730-4fb7-bba1-42653ff66966",
    "outputId": "fd3aa415-56e3-4d6f-df99-8aba3b6e64d9"
   },
   "outputs": [
    {
     "data": {
      "text/html": [
       "<table>\n",
       "<thead><tr><th scope=col>dt</th><th scope=col>LandAverageTemperature</th><th scope=col>LandAverageTemperatureUncertainty</th><th scope=col>LandMaxTemperature</th><th scope=col>LandMaxTemperatureUncertainty</th><th scope=col>LandMinTemperature</th><th scope=col>LandMinTemperatureUncertainty</th><th scope=col>LandAndOceanAverageTemperature</th><th scope=col>LandAndOceanAverageTemperatureUncertainty</th></tr></thead>\n",
       "<tbody>\n",
       "\t<tr><td>1750-01-01</td><td> 3.034    </td><td>3.574     </td><td>NA        </td><td>NA        </td><td>NA        </td><td>NA        </td><td>NA        </td><td>NA        </td></tr>\n",
       "\t<tr><td>1750-02-01</td><td> 3.083    </td><td>3.702     </td><td>NA        </td><td>NA        </td><td>NA        </td><td>NA        </td><td>NA        </td><td>NA        </td></tr>\n",
       "\t<tr><td>1750-03-01</td><td> 5.626    </td><td>3.076     </td><td>NA        </td><td>NA        </td><td>NA        </td><td>NA        </td><td>NA        </td><td>NA        </td></tr>\n",
       "\t<tr><td>1750-04-01</td><td> 8.490    </td><td>2.451     </td><td>NA        </td><td>NA        </td><td>NA        </td><td>NA        </td><td>NA        </td><td>NA        </td></tr>\n",
       "\t<tr><td>1750-05-01</td><td>11.573    </td><td>2.072     </td><td>NA        </td><td>NA        </td><td>NA        </td><td>NA        </td><td>NA        </td><td>NA        </td></tr>\n",
       "\t<tr><td>1750-06-01</td><td>12.937    </td><td>1.724     </td><td>NA        </td><td>NA        </td><td>NA        </td><td>NA        </td><td>NA        </td><td>NA        </td></tr>\n",
       "\t<tr><td>1750-07-01</td><td>15.868    </td><td>1.911     </td><td>NA        </td><td>NA        </td><td>NA        </td><td>NA        </td><td>NA        </td><td>NA        </td></tr>\n",
       "\t<tr><td>1750-08-01</td><td>14.750    </td><td>2.231     </td><td>NA        </td><td>NA        </td><td>NA        </td><td>NA        </td><td>NA        </td><td>NA        </td></tr>\n",
       "\t<tr><td>1750-09-01</td><td>11.413    </td><td>2.637     </td><td>NA        </td><td>NA        </td><td>NA        </td><td>NA        </td><td>NA        </td><td>NA        </td></tr>\n",
       "\t<tr><td>1750-10-01</td><td> 6.367    </td><td>2.668     </td><td>NA        </td><td>NA        </td><td>NA        </td><td>NA        </td><td>NA        </td><td>NA        </td></tr>\n",
       "\t<tr><td>1750-11-01</td><td>    NA    </td><td>   NA     </td><td>NA        </td><td>NA        </td><td>NA        </td><td>NA        </td><td>NA        </td><td>NA        </td></tr>\n",
       "\t<tr><td>1750-12-01</td><td> 2.772    </td><td>2.970     </td><td>NA        </td><td>NA        </td><td>NA        </td><td>NA        </td><td>NA        </td><td>NA        </td></tr>\n",
       "\t<tr><td>1751-01-01</td><td> 2.495    </td><td>3.469     </td><td>NA        </td><td>NA        </td><td>NA        </td><td>NA        </td><td>NA        </td><td>NA        </td></tr>\n",
       "\t<tr><td>1751-02-01</td><td> 0.963    </td><td>3.827     </td><td>NA        </td><td>NA        </td><td>NA        </td><td>NA        </td><td>NA        </td><td>NA        </td></tr>\n",
       "\t<tr><td>1751-03-01</td><td> 5.800    </td><td>3.051     </td><td>NA        </td><td>NA        </td><td>NA        </td><td>NA        </td><td>NA        </td><td>NA        </td></tr>\n",
       "\t<tr><td>1751-04-01</td><td> 7.670    </td><td>2.368     </td><td>NA        </td><td>NA        </td><td>NA        </td><td>NA        </td><td>NA        </td><td>NA        </td></tr>\n",
       "\t<tr><td>1751-05-01</td><td>    NA    </td><td>   NA     </td><td>NA        </td><td>NA        </td><td>NA        </td><td>NA        </td><td>NA        </td><td>NA        </td></tr>\n",
       "\t<tr><td>1751-06-01</td><td>13.827    </td><td>1.801     </td><td>NA        </td><td>NA        </td><td>NA        </td><td>NA        </td><td>NA        </td><td>NA        </td></tr>\n",
       "\t<tr><td>1751-07-01</td><td>    NA    </td><td>   NA     </td><td>NA        </td><td>NA        </td><td>NA        </td><td>NA        </td><td>NA        </td><td>NA        </td></tr>\n",
       "\t<tr><td>1751-08-01</td><td>14.405    </td><td>2.296     </td><td>NA        </td><td>NA        </td><td>NA        </td><td>NA        </td><td>NA        </td><td>NA        </td></tr>\n",
       "\t<tr><td>1751-09-01</td><td>10.673    </td><td>2.656     </td><td>NA        </td><td>NA        </td><td>NA        </td><td>NA        </td><td>NA        </td><td>NA        </td></tr>\n",
       "\t<tr><td>1751-10-01</td><td>    NA    </td><td>   NA     </td><td>NA        </td><td>NA        </td><td>NA        </td><td>NA        </td><td>NA        </td><td>NA        </td></tr>\n",
       "\t<tr><td>1751-11-01</td><td>    NA    </td><td>   NA     </td><td>NA        </td><td>NA        </td><td>NA        </td><td>NA        </td><td>NA        </td><td>NA        </td></tr>\n",
       "\t<tr><td>1751-12-01</td><td>    NA    </td><td>   NA     </td><td>NA        </td><td>NA        </td><td>NA        </td><td>NA        </td><td>NA        </td><td>NA        </td></tr>\n",
       "\t<tr><td>1752-01-01</td><td> 0.348    </td><td>3.789     </td><td>NA        </td><td>NA        </td><td>NA        </td><td>NA        </td><td>NA        </td><td>NA        </td></tr>\n",
       "\t<tr><td>1752-02-01</td><td>    NA    </td><td>   NA     </td><td>NA        </td><td>NA        </td><td>NA        </td><td>NA        </td><td>NA        </td><td>NA        </td></tr>\n",
       "\t<tr><td>1752-03-01</td><td> 5.806    </td><td>3.192     </td><td>NA        </td><td>NA        </td><td>NA        </td><td>NA        </td><td>NA        </td><td>NA        </td></tr>\n",
       "\t<tr><td>1752-04-01</td><td> 8.265    </td><td>2.398     </td><td>NA        </td><td>NA        </td><td>NA        </td><td>NA        </td><td>NA        </td><td>NA        </td></tr>\n",
       "\t<tr><td>1752-05-01</td><td>    NA    </td><td>   NA     </td><td>NA        </td><td>NA        </td><td>NA        </td><td>NA        </td><td>NA        </td><td>NA        </td></tr>\n",
       "\t<tr><td>1752-06-01</td><td>    NA    </td><td>   NA     </td><td>NA        </td><td>NA        </td><td>NA        </td><td>NA        </td><td>NA        </td><td>NA        </td></tr>\n",
       "\t<tr><td>...</td><td>...</td><td>...</td><td>...</td><td>...</td><td>...</td><td>...</td><td>...</td><td>...</td></tr>\n",
       "\t<tr><td>2013-07-01</td><td>15.003    </td><td>0.126     </td><td>NA        </td><td>NA        </td><td>NA        </td><td>NA        </td><td>NA        </td><td>NA        </td></tr>\n",
       "\t<tr><td>2013-08-01</td><td>14.742    </td><td>0.129     </td><td>NA        </td><td>NA        </td><td>NA        </td><td>NA        </td><td>NA        </td><td>NA        </td></tr>\n",
       "\t<tr><td>2013-09-01</td><td>13.154    </td><td>0.104     </td><td>NA        </td><td>NA        </td><td>NA        </td><td>NA        </td><td>NA        </td><td>NA        </td></tr>\n",
       "\t<tr><td>2013-10-01</td><td>10.256    </td><td>0.077     </td><td>NA        </td><td>NA        </td><td>NA        </td><td>NA        </td><td>NA        </td><td>NA        </td></tr>\n",
       "\t<tr><td>2013-11-01</td><td> 7.424    </td><td>0.079     </td><td>NA        </td><td>NA        </td><td>NA        </td><td>NA        </td><td>NA        </td><td>NA        </td></tr>\n",
       "\t<tr><td>2013-12-01</td><td> 4.724    </td><td>0.085     </td><td>NA        </td><td>NA        </td><td>NA        </td><td>NA        </td><td>NA        </td><td>NA        </td></tr>\n",
       "\t<tr><td>2014-01-01</td><td> 3.732    </td><td>0.075     </td><td>NA        </td><td>NA        </td><td>NA        </td><td>NA        </td><td>NA        </td><td>NA        </td></tr>\n",
       "\t<tr><td>2014-02-01</td><td> 3.500    </td><td>0.068     </td><td>NA        </td><td>NA        </td><td>NA        </td><td>NA        </td><td>NA        </td><td>NA        </td></tr>\n",
       "\t<tr><td>2014-03-01</td><td> 6.378    </td><td>0.098     </td><td>NA        </td><td>NA        </td><td>NA        </td><td>NA        </td><td>NA        </td><td>NA        </td></tr>\n",
       "\t<tr><td>2014-04-01</td><td> 9.589    </td><td>0.111     </td><td>NA        </td><td>NA        </td><td>NA        </td><td>NA        </td><td>NA        </td><td>NA        </td></tr>\n",
       "\t<tr><td>2014-05-01</td><td>12.582    </td><td>0.068     </td><td>NA        </td><td>NA        </td><td>NA        </td><td>NA        </td><td>NA        </td><td>NA        </td></tr>\n",
       "\t<tr><td>2014-06-01</td><td>14.335    </td><td>0.096     </td><td>NA        </td><td>NA        </td><td>NA        </td><td>NA        </td><td>NA        </td><td>NA        </td></tr>\n",
       "\t<tr><td>2014-07-01</td><td>14.873    </td><td>0.078     </td><td>NA        </td><td>NA        </td><td>NA        </td><td>NA        </td><td>NA        </td><td>NA        </td></tr>\n",
       "\t<tr><td>2014-08-01</td><td>14.875    </td><td>0.115     </td><td>NA        </td><td>NA        </td><td>NA        </td><td>NA        </td><td>NA        </td><td>NA        </td></tr>\n",
       "\t<tr><td>2014-09-01</td><td>13.091    </td><td>0.086     </td><td>NA        </td><td>NA        </td><td>NA        </td><td>NA        </td><td>NA        </td><td>NA        </td></tr>\n",
       "\t<tr><td>2014-10-01</td><td>10.330    </td><td>0.076     </td><td>NA        </td><td>NA        </td><td>NA        </td><td>NA        </td><td>NA        </td><td>NA        </td></tr>\n",
       "\t<tr><td>2014-11-01</td><td> 6.713    </td><td>0.121     </td><td>NA        </td><td>NA        </td><td>NA        </td><td>NA        </td><td>NA        </td><td>NA        </td></tr>\n",
       "\t<tr><td>2014-12-01</td><td> 4.850    </td><td>0.090     </td><td>NA        </td><td>NA        </td><td>NA        </td><td>NA        </td><td>NA        </td><td>NA        </td></tr>\n",
       "\t<tr><td>2015-01-01</td><td> 3.881    </td><td>0.130     </td><td>NA        </td><td>NA        </td><td>NA        </td><td>NA        </td><td>NA        </td><td>NA        </td></tr>\n",
       "\t<tr><td>2015-02-01</td><td> 4.664    </td><td>0.121     </td><td>NA        </td><td>NA        </td><td>NA        </td><td>NA        </td><td>NA        </td><td>NA        </td></tr>\n",
       "\t<tr><td>2015-03-01</td><td> 6.740    </td><td>0.060     </td><td>NA        </td><td>NA        </td><td>NA        </td><td>NA        </td><td>NA        </td><td>NA        </td></tr>\n",
       "\t<tr><td>2015-04-01</td><td> 9.313    </td><td>0.088     </td><td>NA        </td><td>NA        </td><td>NA        </td><td>NA        </td><td>NA        </td><td>NA        </td></tr>\n",
       "\t<tr><td>2015-05-01</td><td>12.312    </td><td>0.081     </td><td>NA        </td><td>NA        </td><td>NA        </td><td>NA        </td><td>NA        </td><td>NA        </td></tr>\n",
       "\t<tr><td>2015-06-01</td><td>14.505    </td><td>0.068     </td><td>NA        </td><td>NA        </td><td>NA        </td><td>NA        </td><td>NA        </td><td>NA        </td></tr>\n",
       "\t<tr><td>2015-07-01</td><td>15.051    </td><td>0.086     </td><td>NA        </td><td>NA        </td><td>NA        </td><td>NA        </td><td>NA        </td><td>NA        </td></tr>\n",
       "\t<tr><td>2015-08-01</td><td>14.755    </td><td>0.072     </td><td>NA        </td><td>NA        </td><td>NA        </td><td>NA        </td><td>NA        </td><td>NA        </td></tr>\n",
       "\t<tr><td>2015-09-01</td><td>12.999    </td><td>0.079     </td><td>NA        </td><td>NA        </td><td>NA        </td><td>NA        </td><td>NA        </td><td>NA        </td></tr>\n",
       "\t<tr><td>2015-10-01</td><td>10.801    </td><td>0.102     </td><td>NA        </td><td>NA        </td><td>NA        </td><td>NA        </td><td>NA        </td><td>NA        </td></tr>\n",
       "\t<tr><td>2015-11-01</td><td> 7.433    </td><td>0.119     </td><td>NA        </td><td>NA        </td><td>NA        </td><td>NA        </td><td>NA        </td><td>NA        </td></tr>\n",
       "\t<tr><td>2015-12-01</td><td> 5.518    </td><td>0.100     </td><td>NA        </td><td>NA        </td><td>NA        </td><td>NA        </td><td>NA        </td><td>NA        </td></tr>\n",
       "</tbody>\n",
       "</table>\n"
      ],
      "text/latex": [
       "\\begin{tabular}{r|lllllllll}\n",
       " dt & LandAverageTemperature & LandAverageTemperatureUncertainty & LandMaxTemperature & LandMaxTemperatureUncertainty & LandMinTemperature & LandMinTemperatureUncertainty & LandAndOceanAverageTemperature & LandAndOceanAverageTemperatureUncertainty\\\\\n",
       "\\hline\n",
       "\t 1750-01-01 &  3.034     & 3.574      & NA         & NA         & NA         & NA         & NA         & NA        \\\\\n",
       "\t 1750-02-01 &  3.083     & 3.702      & NA         & NA         & NA         & NA         & NA         & NA        \\\\\n",
       "\t 1750-03-01 &  5.626     & 3.076      & NA         & NA         & NA         & NA         & NA         & NA        \\\\\n",
       "\t 1750-04-01 &  8.490     & 2.451      & NA         & NA         & NA         & NA         & NA         & NA        \\\\\n",
       "\t 1750-05-01 & 11.573     & 2.072      & NA         & NA         & NA         & NA         & NA         & NA        \\\\\n",
       "\t 1750-06-01 & 12.937     & 1.724      & NA         & NA         & NA         & NA         & NA         & NA        \\\\\n",
       "\t 1750-07-01 & 15.868     & 1.911      & NA         & NA         & NA         & NA         & NA         & NA        \\\\\n",
       "\t 1750-08-01 & 14.750     & 2.231      & NA         & NA         & NA         & NA         & NA         & NA        \\\\\n",
       "\t 1750-09-01 & 11.413     & 2.637      & NA         & NA         & NA         & NA         & NA         & NA        \\\\\n",
       "\t 1750-10-01 &  6.367     & 2.668      & NA         & NA         & NA         & NA         & NA         & NA        \\\\\n",
       "\t 1750-11-01 &     NA     &    NA      & NA         & NA         & NA         & NA         & NA         & NA        \\\\\n",
       "\t 1750-12-01 &  2.772     & 2.970      & NA         & NA         & NA         & NA         & NA         & NA        \\\\\n",
       "\t 1751-01-01 &  2.495     & 3.469      & NA         & NA         & NA         & NA         & NA         & NA        \\\\\n",
       "\t 1751-02-01 &  0.963     & 3.827      & NA         & NA         & NA         & NA         & NA         & NA        \\\\\n",
       "\t 1751-03-01 &  5.800     & 3.051      & NA         & NA         & NA         & NA         & NA         & NA        \\\\\n",
       "\t 1751-04-01 &  7.670     & 2.368      & NA         & NA         & NA         & NA         & NA         & NA        \\\\\n",
       "\t 1751-05-01 &     NA     &    NA      & NA         & NA         & NA         & NA         & NA         & NA        \\\\\n",
       "\t 1751-06-01 & 13.827     & 1.801      & NA         & NA         & NA         & NA         & NA         & NA        \\\\\n",
       "\t 1751-07-01 &     NA     &    NA      & NA         & NA         & NA         & NA         & NA         & NA        \\\\\n",
       "\t 1751-08-01 & 14.405     & 2.296      & NA         & NA         & NA         & NA         & NA         & NA        \\\\\n",
       "\t 1751-09-01 & 10.673     & 2.656      & NA         & NA         & NA         & NA         & NA         & NA        \\\\\n",
       "\t 1751-10-01 &     NA     &    NA      & NA         & NA         & NA         & NA         & NA         & NA        \\\\\n",
       "\t 1751-11-01 &     NA     &    NA      & NA         & NA         & NA         & NA         & NA         & NA        \\\\\n",
       "\t 1751-12-01 &     NA     &    NA      & NA         & NA         & NA         & NA         & NA         & NA        \\\\\n",
       "\t 1752-01-01 &  0.348     & 3.789      & NA         & NA         & NA         & NA         & NA         & NA        \\\\\n",
       "\t 1752-02-01 &     NA     &    NA      & NA         & NA         & NA         & NA         & NA         & NA        \\\\\n",
       "\t 1752-03-01 &  5.806     & 3.192      & NA         & NA         & NA         & NA         & NA         & NA        \\\\\n",
       "\t 1752-04-01 &  8.265     & 2.398      & NA         & NA         & NA         & NA         & NA         & NA        \\\\\n",
       "\t 1752-05-01 &     NA     &    NA      & NA         & NA         & NA         & NA         & NA         & NA        \\\\\n",
       "\t 1752-06-01 &     NA     &    NA      & NA         & NA         & NA         & NA         & NA         & NA        \\\\\n",
       "\t ... & ... & ... & ... & ... & ... & ... & ... & ...\\\\\n",
       "\t 2013-07-01 & 15.003     & 0.126      & NA         & NA         & NA         & NA         & NA         & NA        \\\\\n",
       "\t 2013-08-01 & 14.742     & 0.129      & NA         & NA         & NA         & NA         & NA         & NA        \\\\\n",
       "\t 2013-09-01 & 13.154     & 0.104      & NA         & NA         & NA         & NA         & NA         & NA        \\\\\n",
       "\t 2013-10-01 & 10.256     & 0.077      & NA         & NA         & NA         & NA         & NA         & NA        \\\\\n",
       "\t 2013-11-01 &  7.424     & 0.079      & NA         & NA         & NA         & NA         & NA         & NA        \\\\\n",
       "\t 2013-12-01 &  4.724     & 0.085      & NA         & NA         & NA         & NA         & NA         & NA        \\\\\n",
       "\t 2014-01-01 &  3.732     & 0.075      & NA         & NA         & NA         & NA         & NA         & NA        \\\\\n",
       "\t 2014-02-01 &  3.500     & 0.068      & NA         & NA         & NA         & NA         & NA         & NA        \\\\\n",
       "\t 2014-03-01 &  6.378     & 0.098      & NA         & NA         & NA         & NA         & NA         & NA        \\\\\n",
       "\t 2014-04-01 &  9.589     & 0.111      & NA         & NA         & NA         & NA         & NA         & NA        \\\\\n",
       "\t 2014-05-01 & 12.582     & 0.068      & NA         & NA         & NA         & NA         & NA         & NA        \\\\\n",
       "\t 2014-06-01 & 14.335     & 0.096      & NA         & NA         & NA         & NA         & NA         & NA        \\\\\n",
       "\t 2014-07-01 & 14.873     & 0.078      & NA         & NA         & NA         & NA         & NA         & NA        \\\\\n",
       "\t 2014-08-01 & 14.875     & 0.115      & NA         & NA         & NA         & NA         & NA         & NA        \\\\\n",
       "\t 2014-09-01 & 13.091     & 0.086      & NA         & NA         & NA         & NA         & NA         & NA        \\\\\n",
       "\t 2014-10-01 & 10.330     & 0.076      & NA         & NA         & NA         & NA         & NA         & NA        \\\\\n",
       "\t 2014-11-01 &  6.713     & 0.121      & NA         & NA         & NA         & NA         & NA         & NA        \\\\\n",
       "\t 2014-12-01 &  4.850     & 0.090      & NA         & NA         & NA         & NA         & NA         & NA        \\\\\n",
       "\t 2015-01-01 &  3.881     & 0.130      & NA         & NA         & NA         & NA         & NA         & NA        \\\\\n",
       "\t 2015-02-01 &  4.664     & 0.121      & NA         & NA         & NA         & NA         & NA         & NA        \\\\\n",
       "\t 2015-03-01 &  6.740     & 0.060      & NA         & NA         & NA         & NA         & NA         & NA        \\\\\n",
       "\t 2015-04-01 &  9.313     & 0.088      & NA         & NA         & NA         & NA         & NA         & NA        \\\\\n",
       "\t 2015-05-01 & 12.312     & 0.081      & NA         & NA         & NA         & NA         & NA         & NA        \\\\\n",
       "\t 2015-06-01 & 14.505     & 0.068      & NA         & NA         & NA         & NA         & NA         & NA        \\\\\n",
       "\t 2015-07-01 & 15.051     & 0.086      & NA         & NA         & NA         & NA         & NA         & NA        \\\\\n",
       "\t 2015-08-01 & 14.755     & 0.072      & NA         & NA         & NA         & NA         & NA         & NA        \\\\\n",
       "\t 2015-09-01 & 12.999     & 0.079      & NA         & NA         & NA         & NA         & NA         & NA        \\\\\n",
       "\t 2015-10-01 & 10.801     & 0.102      & NA         & NA         & NA         & NA         & NA         & NA        \\\\\n",
       "\t 2015-11-01 &  7.433     & 0.119      & NA         & NA         & NA         & NA         & NA         & NA        \\\\\n",
       "\t 2015-12-01 &  5.518     & 0.100      & NA         & NA         & NA         & NA         & NA         & NA        \\\\\n",
       "\\end{tabular}\n"
      ],
      "text/markdown": [
       "\n",
       "| dt | LandAverageTemperature | LandAverageTemperatureUncertainty | LandMaxTemperature | LandMaxTemperatureUncertainty | LandMinTemperature | LandMinTemperatureUncertainty | LandAndOceanAverageTemperature | LandAndOceanAverageTemperatureUncertainty |\n",
       "|---|---|---|---|---|---|---|---|---|\n",
       "| 1750-01-01 |  3.034     | 3.574      | NA         | NA         | NA         | NA         | NA         | NA         |\n",
       "| 1750-02-01 |  3.083     | 3.702      | NA         | NA         | NA         | NA         | NA         | NA         |\n",
       "| 1750-03-01 |  5.626     | 3.076      | NA         | NA         | NA         | NA         | NA         | NA         |\n",
       "| 1750-04-01 |  8.490     | 2.451      | NA         | NA         | NA         | NA         | NA         | NA         |\n",
       "| 1750-05-01 | 11.573     | 2.072      | NA         | NA         | NA         | NA         | NA         | NA         |\n",
       "| 1750-06-01 | 12.937     | 1.724      | NA         | NA         | NA         | NA         | NA         | NA         |\n",
       "| 1750-07-01 | 15.868     | 1.911      | NA         | NA         | NA         | NA         | NA         | NA         |\n",
       "| 1750-08-01 | 14.750     | 2.231      | NA         | NA         | NA         | NA         | NA         | NA         |\n",
       "| 1750-09-01 | 11.413     | 2.637      | NA         | NA         | NA         | NA         | NA         | NA         |\n",
       "| 1750-10-01 |  6.367     | 2.668      | NA         | NA         | NA         | NA         | NA         | NA         |\n",
       "| 1750-11-01 |     NA     |    NA      | NA         | NA         | NA         | NA         | NA         | NA         |\n",
       "| 1750-12-01 |  2.772     | 2.970      | NA         | NA         | NA         | NA         | NA         | NA         |\n",
       "| 1751-01-01 |  2.495     | 3.469      | NA         | NA         | NA         | NA         | NA         | NA         |\n",
       "| 1751-02-01 |  0.963     | 3.827      | NA         | NA         | NA         | NA         | NA         | NA         |\n",
       "| 1751-03-01 |  5.800     | 3.051      | NA         | NA         | NA         | NA         | NA         | NA         |\n",
       "| 1751-04-01 |  7.670     | 2.368      | NA         | NA         | NA         | NA         | NA         | NA         |\n",
       "| 1751-05-01 |     NA     |    NA      | NA         | NA         | NA         | NA         | NA         | NA         |\n",
       "| 1751-06-01 | 13.827     | 1.801      | NA         | NA         | NA         | NA         | NA         | NA         |\n",
       "| 1751-07-01 |     NA     |    NA      | NA         | NA         | NA         | NA         | NA         | NA         |\n",
       "| 1751-08-01 | 14.405     | 2.296      | NA         | NA         | NA         | NA         | NA         | NA         |\n",
       "| 1751-09-01 | 10.673     | 2.656      | NA         | NA         | NA         | NA         | NA         | NA         |\n",
       "| 1751-10-01 |     NA     |    NA      | NA         | NA         | NA         | NA         | NA         | NA         |\n",
       "| 1751-11-01 |     NA     |    NA      | NA         | NA         | NA         | NA         | NA         | NA         |\n",
       "| 1751-12-01 |     NA     |    NA      | NA         | NA         | NA         | NA         | NA         | NA         |\n",
       "| 1752-01-01 |  0.348     | 3.789      | NA         | NA         | NA         | NA         | NA         | NA         |\n",
       "| 1752-02-01 |     NA     |    NA      | NA         | NA         | NA         | NA         | NA         | NA         |\n",
       "| 1752-03-01 |  5.806     | 3.192      | NA         | NA         | NA         | NA         | NA         | NA         |\n",
       "| 1752-04-01 |  8.265     | 2.398      | NA         | NA         | NA         | NA         | NA         | NA         |\n",
       "| 1752-05-01 |     NA     |    NA      | NA         | NA         | NA         | NA         | NA         | NA         |\n",
       "| 1752-06-01 |     NA     |    NA      | NA         | NA         | NA         | NA         | NA         | NA         |\n",
       "| ... | ... | ... | ... | ... | ... | ... | ... | ... |\n",
       "| 2013-07-01 | 15.003     | 0.126      | NA         | NA         | NA         | NA         | NA         | NA         |\n",
       "| 2013-08-01 | 14.742     | 0.129      | NA         | NA         | NA         | NA         | NA         | NA         |\n",
       "| 2013-09-01 | 13.154     | 0.104      | NA         | NA         | NA         | NA         | NA         | NA         |\n",
       "| 2013-10-01 | 10.256     | 0.077      | NA         | NA         | NA         | NA         | NA         | NA         |\n",
       "| 2013-11-01 |  7.424     | 0.079      | NA         | NA         | NA         | NA         | NA         | NA         |\n",
       "| 2013-12-01 |  4.724     | 0.085      | NA         | NA         | NA         | NA         | NA         | NA         |\n",
       "| 2014-01-01 |  3.732     | 0.075      | NA         | NA         | NA         | NA         | NA         | NA         |\n",
       "| 2014-02-01 |  3.500     | 0.068      | NA         | NA         | NA         | NA         | NA         | NA         |\n",
       "| 2014-03-01 |  6.378     | 0.098      | NA         | NA         | NA         | NA         | NA         | NA         |\n",
       "| 2014-04-01 |  9.589     | 0.111      | NA         | NA         | NA         | NA         | NA         | NA         |\n",
       "| 2014-05-01 | 12.582     | 0.068      | NA         | NA         | NA         | NA         | NA         | NA         |\n",
       "| 2014-06-01 | 14.335     | 0.096      | NA         | NA         | NA         | NA         | NA         | NA         |\n",
       "| 2014-07-01 | 14.873     | 0.078      | NA         | NA         | NA         | NA         | NA         | NA         |\n",
       "| 2014-08-01 | 14.875     | 0.115      | NA         | NA         | NA         | NA         | NA         | NA         |\n",
       "| 2014-09-01 | 13.091     | 0.086      | NA         | NA         | NA         | NA         | NA         | NA         |\n",
       "| 2014-10-01 | 10.330     | 0.076      | NA         | NA         | NA         | NA         | NA         | NA         |\n",
       "| 2014-11-01 |  6.713     | 0.121      | NA         | NA         | NA         | NA         | NA         | NA         |\n",
       "| 2014-12-01 |  4.850     | 0.090      | NA         | NA         | NA         | NA         | NA         | NA         |\n",
       "| 2015-01-01 |  3.881     | 0.130      | NA         | NA         | NA         | NA         | NA         | NA         |\n",
       "| 2015-02-01 |  4.664     | 0.121      | NA         | NA         | NA         | NA         | NA         | NA         |\n",
       "| 2015-03-01 |  6.740     | 0.060      | NA         | NA         | NA         | NA         | NA         | NA         |\n",
       "| 2015-04-01 |  9.313     | 0.088      | NA         | NA         | NA         | NA         | NA         | NA         |\n",
       "| 2015-05-01 | 12.312     | 0.081      | NA         | NA         | NA         | NA         | NA         | NA         |\n",
       "| 2015-06-01 | 14.505     | 0.068      | NA         | NA         | NA         | NA         | NA         | NA         |\n",
       "| 2015-07-01 | 15.051     | 0.086      | NA         | NA         | NA         | NA         | NA         | NA         |\n",
       "| 2015-08-01 | 14.755     | 0.072      | NA         | NA         | NA         | NA         | NA         | NA         |\n",
       "| 2015-09-01 | 12.999     | 0.079      | NA         | NA         | NA         | NA         | NA         | NA         |\n",
       "| 2015-10-01 | 10.801     | 0.102      | NA         | NA         | NA         | NA         | NA         | NA         |\n",
       "| 2015-11-01 |  7.433     | 0.119      | NA         | NA         | NA         | NA         | NA         | NA         |\n",
       "| 2015-12-01 |  5.518     | 0.100      | NA         | NA         | NA         | NA         | NA         | NA         |\n",
       "\n"
      ],
      "text/plain": [
       "     dt         LandAverageTemperature LandAverageTemperatureUncertainty\n",
       "1    1750-01-01  3.034                 3.574                            \n",
       "2    1750-02-01  3.083                 3.702                            \n",
       "3    1750-03-01  5.626                 3.076                            \n",
       "4    1750-04-01  8.490                 2.451                            \n",
       "5    1750-05-01 11.573                 2.072                            \n",
       "6    1750-06-01 12.937                 1.724                            \n",
       "7    1750-07-01 15.868                 1.911                            \n",
       "8    1750-08-01 14.750                 2.231                            \n",
       "9    1750-09-01 11.413                 2.637                            \n",
       "10   1750-10-01  6.367                 2.668                            \n",
       "11   1750-11-01     NA                    NA                            \n",
       "12   1750-12-01  2.772                 2.970                            \n",
       "13   1751-01-01  2.495                 3.469                            \n",
       "14   1751-02-01  0.963                 3.827                            \n",
       "15   1751-03-01  5.800                 3.051                            \n",
       "16   1751-04-01  7.670                 2.368                            \n",
       "17   1751-05-01     NA                    NA                            \n",
       "18   1751-06-01 13.827                 1.801                            \n",
       "19   1751-07-01     NA                    NA                            \n",
       "20   1751-08-01 14.405                 2.296                            \n",
       "21   1751-09-01 10.673                 2.656                            \n",
       "22   1751-10-01     NA                    NA                            \n",
       "23   1751-11-01     NA                    NA                            \n",
       "24   1751-12-01     NA                    NA                            \n",
       "25   1752-01-01  0.348                 3.789                            \n",
       "26   1752-02-01     NA                    NA                            \n",
       "27   1752-03-01  5.806                 3.192                            \n",
       "28   1752-04-01  8.265                 2.398                            \n",
       "29   1752-05-01     NA                    NA                            \n",
       "30   1752-06-01     NA                    NA                            \n",
       "...  ...        ...                    ...                              \n",
       "3163 2013-07-01 15.003                 0.126                            \n",
       "3164 2013-08-01 14.742                 0.129                            \n",
       "3165 2013-09-01 13.154                 0.104                            \n",
       "3166 2013-10-01 10.256                 0.077                            \n",
       "3167 2013-11-01  7.424                 0.079                            \n",
       "3168 2013-12-01  4.724                 0.085                            \n",
       "3169 2014-01-01  3.732                 0.075                            \n",
       "3170 2014-02-01  3.500                 0.068                            \n",
       "3171 2014-03-01  6.378                 0.098                            \n",
       "3172 2014-04-01  9.589                 0.111                            \n",
       "3173 2014-05-01 12.582                 0.068                            \n",
       "3174 2014-06-01 14.335                 0.096                            \n",
       "3175 2014-07-01 14.873                 0.078                            \n",
       "3176 2014-08-01 14.875                 0.115                            \n",
       "3177 2014-09-01 13.091                 0.086                            \n",
       "3178 2014-10-01 10.330                 0.076                            \n",
       "3179 2014-11-01  6.713                 0.121                            \n",
       "3180 2014-12-01  4.850                 0.090                            \n",
       "3181 2015-01-01  3.881                 0.130                            \n",
       "3182 2015-02-01  4.664                 0.121                            \n",
       "3183 2015-03-01  6.740                 0.060                            \n",
       "3184 2015-04-01  9.313                 0.088                            \n",
       "3185 2015-05-01 12.312                 0.081                            \n",
       "3186 2015-06-01 14.505                 0.068                            \n",
       "3187 2015-07-01 15.051                 0.086                            \n",
       "3188 2015-08-01 14.755                 0.072                            \n",
       "3189 2015-09-01 12.999                 0.079                            \n",
       "3190 2015-10-01 10.801                 0.102                            \n",
       "3191 2015-11-01  7.433                 0.119                            \n",
       "3192 2015-12-01  5.518                 0.100                            \n",
       "     LandMaxTemperature LandMaxTemperatureUncertainty LandMinTemperature\n",
       "1    NA                 NA                            NA                \n",
       "2    NA                 NA                            NA                \n",
       "3    NA                 NA                            NA                \n",
       "4    NA                 NA                            NA                \n",
       "5    NA                 NA                            NA                \n",
       "6    NA                 NA                            NA                \n",
       "7    NA                 NA                            NA                \n",
       "8    NA                 NA                            NA                \n",
       "9    NA                 NA                            NA                \n",
       "10   NA                 NA                            NA                \n",
       "11   NA                 NA                            NA                \n",
       "12   NA                 NA                            NA                \n",
       "13   NA                 NA                            NA                \n",
       "14   NA                 NA                            NA                \n",
       "15   NA                 NA                            NA                \n",
       "16   NA                 NA                            NA                \n",
       "17   NA                 NA                            NA                \n",
       "18   NA                 NA                            NA                \n",
       "19   NA                 NA                            NA                \n",
       "20   NA                 NA                            NA                \n",
       "21   NA                 NA                            NA                \n",
       "22   NA                 NA                            NA                \n",
       "23   NA                 NA                            NA                \n",
       "24   NA                 NA                            NA                \n",
       "25   NA                 NA                            NA                \n",
       "26   NA                 NA                            NA                \n",
       "27   NA                 NA                            NA                \n",
       "28   NA                 NA                            NA                \n",
       "29   NA                 NA                            NA                \n",
       "30   NA                 NA                            NA                \n",
       "...  ...                ...                           ...               \n",
       "3163 NA                 NA                            NA                \n",
       "3164 NA                 NA                            NA                \n",
       "3165 NA                 NA                            NA                \n",
       "3166 NA                 NA                            NA                \n",
       "3167 NA                 NA                            NA                \n",
       "3168 NA                 NA                            NA                \n",
       "3169 NA                 NA                            NA                \n",
       "3170 NA                 NA                            NA                \n",
       "3171 NA                 NA                            NA                \n",
       "3172 NA                 NA                            NA                \n",
       "3173 NA                 NA                            NA                \n",
       "3174 NA                 NA                            NA                \n",
       "3175 NA                 NA                            NA                \n",
       "3176 NA                 NA                            NA                \n",
       "3177 NA                 NA                            NA                \n",
       "3178 NA                 NA                            NA                \n",
       "3179 NA                 NA                            NA                \n",
       "3180 NA                 NA                            NA                \n",
       "3181 NA                 NA                            NA                \n",
       "3182 NA                 NA                            NA                \n",
       "3183 NA                 NA                            NA                \n",
       "3184 NA                 NA                            NA                \n",
       "3185 NA                 NA                            NA                \n",
       "3186 NA                 NA                            NA                \n",
       "3187 NA                 NA                            NA                \n",
       "3188 NA                 NA                            NA                \n",
       "3189 NA                 NA                            NA                \n",
       "3190 NA                 NA                            NA                \n",
       "3191 NA                 NA                            NA                \n",
       "3192 NA                 NA                            NA                \n",
       "     LandMinTemperatureUncertainty LandAndOceanAverageTemperature\n",
       "1    NA                            NA                            \n",
       "2    NA                            NA                            \n",
       "3    NA                            NA                            \n",
       "4    NA                            NA                            \n",
       "5    NA                            NA                            \n",
       "6    NA                            NA                            \n",
       "7    NA                            NA                            \n",
       "8    NA                            NA                            \n",
       "9    NA                            NA                            \n",
       "10   NA                            NA                            \n",
       "11   NA                            NA                            \n",
       "12   NA                            NA                            \n",
       "13   NA                            NA                            \n",
       "14   NA                            NA                            \n",
       "15   NA                            NA                            \n",
       "16   NA                            NA                            \n",
       "17   NA                            NA                            \n",
       "18   NA                            NA                            \n",
       "19   NA                            NA                            \n",
       "20   NA                            NA                            \n",
       "21   NA                            NA                            \n",
       "22   NA                            NA                            \n",
       "23   NA                            NA                            \n",
       "24   NA                            NA                            \n",
       "25   NA                            NA                            \n",
       "26   NA                            NA                            \n",
       "27   NA                            NA                            \n",
       "28   NA                            NA                            \n",
       "29   NA                            NA                            \n",
       "30   NA                            NA                            \n",
       "...  ...                           ...                           \n",
       "3163 NA                            NA                            \n",
       "3164 NA                            NA                            \n",
       "3165 NA                            NA                            \n",
       "3166 NA                            NA                            \n",
       "3167 NA                            NA                            \n",
       "3168 NA                            NA                            \n",
       "3169 NA                            NA                            \n",
       "3170 NA                            NA                            \n",
       "3171 NA                            NA                            \n",
       "3172 NA                            NA                            \n",
       "3173 NA                            NA                            \n",
       "3174 NA                            NA                            \n",
       "3175 NA                            NA                            \n",
       "3176 NA                            NA                            \n",
       "3177 NA                            NA                            \n",
       "3178 NA                            NA                            \n",
       "3179 NA                            NA                            \n",
       "3180 NA                            NA                            \n",
       "3181 NA                            NA                            \n",
       "3182 NA                            NA                            \n",
       "3183 NA                            NA                            \n",
       "3184 NA                            NA                            \n",
       "3185 NA                            NA                            \n",
       "3186 NA                            NA                            \n",
       "3187 NA                            NA                            \n",
       "3188 NA                            NA                            \n",
       "3189 NA                            NA                            \n",
       "3190 NA                            NA                            \n",
       "3191 NA                            NA                            \n",
       "3192 NA                            NA                            \n",
       "     LandAndOceanAverageTemperatureUncertainty\n",
       "1    NA                                       \n",
       "2    NA                                       \n",
       "3    NA                                       \n",
       "4    NA                                       \n",
       "5    NA                                       \n",
       "6    NA                                       \n",
       "7    NA                                       \n",
       "8    NA                                       \n",
       "9    NA                                       \n",
       "10   NA                                       \n",
       "11   NA                                       \n",
       "12   NA                                       \n",
       "13   NA                                       \n",
       "14   NA                                       \n",
       "15   NA                                       \n",
       "16   NA                                       \n",
       "17   NA                                       \n",
       "18   NA                                       \n",
       "19   NA                                       \n",
       "20   NA                                       \n",
       "21   NA                                       \n",
       "22   NA                                       \n",
       "23   NA                                       \n",
       "24   NA                                       \n",
       "25   NA                                       \n",
       "26   NA                                       \n",
       "27   NA                                       \n",
       "28   NA                                       \n",
       "29   NA                                       \n",
       "30   NA                                       \n",
       "...  ...                                      \n",
       "3163 NA                                       \n",
       "3164 NA                                       \n",
       "3165 NA                                       \n",
       "3166 NA                                       \n",
       "3167 NA                                       \n",
       "3168 NA                                       \n",
       "3169 NA                                       \n",
       "3170 NA                                       \n",
       "3171 NA                                       \n",
       "3172 NA                                       \n",
       "3173 NA                                       \n",
       "3174 NA                                       \n",
       "3175 NA                                       \n",
       "3176 NA                                       \n",
       "3177 NA                                       \n",
       "3178 NA                                       \n",
       "3179 NA                                       \n",
       "3180 NA                                       \n",
       "3181 NA                                       \n",
       "3182 NA                                       \n",
       "3183 NA                                       \n",
       "3184 NA                                       \n",
       "3185 NA                                       \n",
       "3186 NA                                       \n",
       "3187 NA                                       \n",
       "3188 NA                                       \n",
       "3189 NA                                       \n",
       "3190 NA                                       \n",
       "3191 NA                                       \n",
       "3192 NA                                       "
      ]
     },
     "metadata": {},
     "output_type": "display_data"
    }
   ],
   "source": [
    "gt"
   ]
  },
  {
   "cell_type": "markdown",
   "id": "7913ceb9-8143-4687-99fa-e137c9c5a1e1",
   "metadata": {
    "id": "7913ceb9-8143-4687-99fa-e137c9c5a1e1"
   },
   "source": [
    "## <div style=\"color:lightblue;\"> III-DATA PREPARATION"
   ]
  },
  {
   "cell_type": "markdown",
   "id": "dc5c105d-1137-44be-887c-7a9ac3cbecd2",
   "metadata": {
    "id": "dc5c105d-1137-44be-887c-7a9ac3cbecd2"
   },
   "source": [
    "### <div style=\"color:darkblue;\"> Graphical analysis of time series"
   ]
  },
  {
   "cell_type": "code",
   "execution_count": 4,
   "id": "TRqnYckodtUI",
   "metadata": {
    "id": "TRqnYckodtUI"
   },
   "outputs": [],
   "source": [
    "gt.ts<-ts(gt$LandAverageTemperature,start=c(1750,1),end=c(2015,12), freq=12)"
   ]
  },
  {
   "cell_type": "code",
   "execution_count": 5,
   "id": "zKv97Cajdw4w",
   "metadata": {
    "colab": {
     "base_uri": "https://localhost:8080/",
     "height": 437
    },
    "id": "zKv97Cajdw4w",
    "outputId": "4b3deaed-1ce4-4beb-e10d-68e7cc885330"
   },
   "outputs": [
    {
     "data": {
      "image/png": "[encoded data removed]",
      "text/plain": [
       "Plot with title \"Global Temperature\""
      ]
     },
     "metadata": {},
     "output_type": "display_data"
    }
   ],
   "source": [
    "plot(gt.ts, xlab=\"Time\", ylab=\"Global Temperature\",\n",
    " main=\"Global Temperature\",\n",
    " col=\"darkblue\")"
   ]
  },
  {
   "cell_type": "markdown",
   "id": "FdpoASl2csK0",
   "metadata": {
    "id": "FdpoASl2csK0"
   },
   "source": [
    "### <div style=\"color:darkblue;\"> missing values imputation:"
   ]
  },
  {
   "cell_type": "markdown",
   "id": "ec4f3f9f-05fd-437f-9597-a19fdddcb3a1",
   "metadata": {
    "id": "ec4f3f9f-05fd-437f-9597-a19fdddcb3a1"
   },
   "source": [
    "We notice the presence of missing values, so we plan to perform linear interpolation imputation."
   ]
  },
  {
   "cell_type": "markdown",
   "id": "EuOtBls9g_1H",
   "metadata": {
    "id": "EuOtBls9g_1H"
   },
   "source": [
    "In this scenario, using na_kalman with a structural time series model makes sense because:\n",
    "\n",
    "It can capture the long-term warming trend.\n",
    "It can account for the seasonal variations.\n",
    "It can effectively impute the missing temperature values by considering the trend, seasonality, and existing data points."
   ]
  },
  {
   "cell_type": "markdown",
   "id": "2ss-o3COgWNN",
   "metadata": {
    "id": "2ss-o3COgWNN"
   },
   "source": [
    "### <div style=\"color:darkblue;\"> imputation choice explanation:\n"
   ]
  },
  {
   "cell_type": "markdown",
   "id": "8OyynBsXh-jb",
   "metadata": {
    "id": "8OyynBsXh-jb"
   },
   "source": [
    "## Advantages of `zoo::na.approx` for Imputing Missing Values in LandAverageTemperature:\n",
    "\n",
    "* **Simplicity:** This method is straightforward to implement. It requires minimal configuration and is readily available in the `zoo` package, making it easy to use for quick analysis.\n",
    "* **Computational Efficiency:**  `zoo::na.approx` is generally faster than more complex imputation methods. This can be a significant advantage if you're working with large datasets, especially when exploring different imputation approaches.\n",
    "* **Suitable for Short Gaps:** If the missing values in your LandAverageTemperature data are scattered and represent short gaps, linear interpolation (the default behavior of `zoo::na.approx`) can be a reasonable approach.  It can provide a basic estimate for these missing points without introducing significant complexities.\n",
    "* **Provides a Starting Point:** Even if you plan to explore more advanced imputation methods later, `zoo::na.approx` can be a good initial step.  You can use the imputed data to get a preliminary understanding of the trends and seasonality in your data before potentially switching to a more sophisticated technique.\n",
    "* **Interpretability:**  The underlying concept of linear interpolation is easy to understand. It fills the gaps by averaging the values before and after the missing point, making the results relatively intuitive to interpret.\n",
    "\n",
    "These advantages make `zoo::na.approx` a valuable tool for initial imputation, especially for simpler datasets or when computational efficiency is a concern."
   ]
  },
  {
   "cell_type": "code",
   "execution_count": 6,
   "id": "9e9a2a65-16a2-4ed2-890b-d24325bbc575",
   "metadata": {
    "id": "9e9a2a65-16a2-4ed2-890b-d24325bbc575"
   },
   "outputs": [],
   "source": [
    "gt$LandAverageTemperature <- zoo::na.approx(gt$LandAverageTemperature)"
   ]
  },
  {
   "cell_type": "code",
   "execution_count": 7,
   "id": "5f539e8d-3fbc-4329-a02c-f7718efd5986",
   "metadata": {
    "id": "5f539e8d-3fbc-4329-a02c-f7718efd5986"
   },
   "outputs": [],
   "source": [
    "gt.ts<-ts(gt$LandAverageTemperature,start=c(1750,1), freq=12)"
   ]
  },
  {
   "cell_type": "code",
   "execution_count": 8,
   "id": "d7317f65-8cd2-4d91-abb3-3b31bdaf3f75",
   "metadata": {
    "colab": {
     "base_uri": "https://localhost:8080/",
     "height": 1000
    },
    "id": "d7317f65-8cd2-4d91-abb3-3b31bdaf3f75",
    "outputId": "d8fa9e58-1b51-4339-cfff-799608b0807c"
   },
   "outputs": [
    {
     "name": "stderr",
     "output_type": "stream",
     "text": [
      "ERROR while rich displaying an object: Error in repr_matrix_generic(obj, \"\\n%s%s\\n\", sprintf(\"|%%s\\n|%s|\\n\", : formal argument \"cols\" matched by multiple actual arguments\n",
      "\n",
      "Traceback:\n",
      "1. FUN(X[[i]], ...)\n",
      "2. tryCatch(withCallingHandlers({\n",
      " .     if (!mime %in% names(repr::mime2repr)) \n",
      " .         stop(\"No repr_* for mimetype \", mime, \" in repr::mime2repr\")\n",
      " .     rpr <- repr::mime2repr[[mime]](obj)\n",
      " .     if (is.null(rpr)) \n",
      " .         return(NULL)\n",
      " .     prepare_content(is.raw(rpr), rpr)\n",
      " . }, error = error_handler), error = outer_handler)\n",
      "3. tryCatchList(expr, classes, parentenv, handlers)\n",
      "4. tryCatchOne(expr, names, parentenv, handlers[[1L]])\n",
      "5. doTryCatch(return(expr), name, parentenv, handler)\n",
      "6. withCallingHandlers({\n",
      " .     if (!mime %in% names(repr::mime2repr)) \n",
      " .         stop(\"No repr_* for mimetype \", mime, \" in repr::mime2repr\")\n",
      " .     rpr <- repr::mime2repr[[mime]](obj)\n",
      " .     if (is.null(rpr)) \n",
      " .         return(NULL)\n",
      " .     prepare_content(is.raw(rpr), rpr)\n",
      " . }, error = error_handler)\n",
      "7. repr::mime2repr[[mime]](obj)\n",
      "8. repr_markdown.ts(obj)\n",
      "9. repr_ts_generic(obj, repr_markdown.matrix, ...)\n",
      "10. repr_func(m, ..., rows = nrow(m), cols = ncol(m))\n"
     ]
    },
    {
     "data": {
      "text/html": [
       "<table>\n",
       "<thead><tr><th></th><th scope=col>Jan</th><th scope=col>Feb</th><th scope=col>Mar</th><th scope=col>Apr</th><th scope=col>May</th><th scope=col>Jun</th><th scope=col>Jul</th><th scope=col>Aug</th><th scope=col>Sep</th><th scope=col>Oct</th><th scope=col>Nov</th><th scope=col>Dec</th></tr></thead>\n",
       "<tbody>\n",
       "\t<tr><th scope=row>1750</th><td> 3.03400</td><td> 3.08300</td><td> 5.62600</td><td> 8.49000</td><td>11.57300</td><td>12.93700</td><td>15.86800</td><td>14.75000</td><td>11.41300</td><td> 6.36700</td><td> 4.56950</td><td> 2.77200</td></tr>\n",
       "\t<tr><th scope=row>1751</th><td> 2.49500</td><td> 0.96300</td><td> 5.80000</td><td> 7.67000</td><td>10.74850</td><td>13.82700</td><td>14.11600</td><td>14.40500</td><td>10.67300</td><td> 8.09175</td><td> 5.51050</td><td> 2.92925</td></tr>\n",
       "\t<tr><th scope=row>1752</th><td> 0.34800</td><td> 3.07700</td><td> 5.80600</td><td> 8.26500</td><td> 8.19400</td><td> 8.12300</td><td> 8.05200</td><td> 7.98100</td><td> 7.91000</td><td> 7.83900</td><td> 7.33500</td><td> 5.08600</td></tr>\n",
       "\t<tr><th scope=row>1753</th><td> 2.03900</td><td> 0.71500</td><td> 5.42400</td><td> 8.27200</td><td>12.18600</td><td>14.58500</td><td>15.09200</td><td>14.14800</td><td>13.32200</td><td> 8.96200</td><td> 5.35300</td><td> 0.55900</td></tr>\n",
       "\t<tr><th scope=row>1754</th><td> 1.57400</td><td>-1.24900</td><td> 3.67700</td><td>11.61000</td><td>11.93600</td><td>14.38800</td><td>14.68100</td><td>13.55600</td><td>11.12900</td><td> 9.58200</td><td> 6.16100</td><td> 4.58700</td></tr>\n",
       "\t<tr><th scope=row>1755</th><td> 1.06700</td><td>-0.10800</td><td> 3.60700</td><td> 9.26300</td><td>12.88100</td><td>15.38000</td><td>14.39700</td><td>13.51500</td><td>11.77300</td><td> 9.97000</td><td> 5.95800</td><td> 2.56400</td></tr>\n",
       "\t<tr><th scope=row>1756</th><td> 3.88700</td><td> 5.66600</td><td> 4.19200</td><td>10.04200</td><td>14.16400</td><td>14.54700</td><td>13.90600</td><td>13.43700</td><td>12.65200</td><td> 7.31200</td><td> 4.22500</td><td> 2.16500</td></tr>\n",
       "\t<tr><th scope=row>1757</th><td>-0.27600</td><td> 3.70400</td><td> 4.52900</td><td> 8.24600</td><td>13.03900</td><td>17.11500</td><td>17.61000</td><td>17.91000</td><td>14.85200</td><td> 6.48200</td><td> 4.03200</td><td> 1.02100</td></tr>\n",
       "\t<tr><th scope=row>1758</th><td>-1.50300</td><td> 0.80600</td><td> 3.76500</td><td> 7.21000</td><td> 9.71500</td><td>13.13900</td><td>13.84700</td><td>11.81800</td><td>10.02800</td><td> 1.89400</td><td> 6.95500</td><td> 3.24900</td></tr>\n",
       "\t<tr><th scope=row>1759</th><td> 5.01400</td><td> 4.08200</td><td> 4.52000</td><td> 5.98300</td><td>10.18900</td><td>13.51200</td><td>12.52600</td><td>14.58700</td><td>12.62600</td><td> 8.26700</td><td> 4.26800</td><td> 0.24700</td></tr>\n",
       "\t<tr><th scope=row>1760</th><td>-0.81100</td><td> 2.43600</td><td> 1.86400</td><td> 7.43600</td><td>10.66100</td><td>11.94500</td><td>12.88700</td><td>13.91700</td><td>11.19700</td><td> 6.70100</td><td> 5.43600</td><td> 2.55300</td></tr>\n",
       "\t<tr><th scope=row>1761</th><td> 0.60000</td><td> 2.73500</td><td> 5.97600</td><td> 7.32100</td><td>13.45100</td><td>16.82100</td><td>19.02100</td><td>15.33100</td><td>12.53500</td><td> 7.22700</td><td> 5.08900</td><td>-0.83700</td></tr>\n",
       "\t<tr><th scope=row>1762</th><td> 6.86600</td><td> 4.80100</td><td> 3.52800</td><td> 9.01900</td><td>10.88100</td><td>13.49900</td><td>14.72000</td><td>13.99200</td><td>10.32600</td><td> 6.15600</td><td> 6.36700</td><td> 3.12300</td></tr>\n",
       "\t<tr><th scope=row>1763</th><td> 1.36900</td><td> 0.77100</td><td> 1.57600</td><td> 7.87100</td><td>10.70100</td><td>12.27100</td><td>16.39100</td><td>14.12600</td><td>11.37800</td><td> 5.53500</td><td> 4.58800</td><td> 3.38400</td></tr>\n",
       "\t<tr><th scope=row>1764</th><td> 1.74100</td><td> 6.16200</td><td> 5.52100</td><td> 7.88000</td><td>11.17500</td><td>11.72300</td><td>12.50700</td><td>12.28200</td><td>10.69600</td><td>10.01100</td><td> 5.79100</td><td> 5.31500</td></tr>\n",
       "\t<tr><th scope=row>1765</th><td> 3.78000</td><td> 3.83200</td><td> 6.85900</td><td> 9.01300</td><td>10.73400</td><td>10.83300</td><td>13.95300</td><td>13.12000</td><td>10.99300</td><td> 7.90400</td><td> 5.60300</td><td> 2.39900</td></tr>\n",
       "\t<tr><th scope=row>1766</th><td>-0.79300</td><td> 4.89600</td><td> 6.06200</td><td> 8.00700</td><td>11.22800</td><td>13.65300</td><td>13.55500</td><td>13.75800</td><td>12.25000</td><td> 8.46500</td><td> 7.45400</td><td> 2.33300</td></tr>\n",
       "\t<tr><th scope=row>1767</th><td>-0.64300</td><td> 3.93200</td><td> 7.02200</td><td> 6.27800</td><td>10.19300</td><td>14.11200</td><td>13.36100</td><td>14.59700</td><td>11.67500</td><td> 9.02700</td><td> 7.91500</td><td> 1.18900</td></tr>\n",
       "\t<tr><th scope=row>1768</th><td>-2.08000</td><td> 0.50600</td><td> 2.44600</td><td> 6.92000</td><td> 9.06600</td><td>12.49000</td><td>13.87500</td><td>12.35200</td><td>10.82400</td><td> 7.72900</td><td> 4.58100</td><td> 2.66700</td></tr>\n",
       "\t<tr><th scope=row>1769</th><td> 2.30500</td><td> 2.16400</td><td> 4.57000</td><td> 8.96700</td><td>12.87300</td><td>15.14200</td><td>14.46100</td><td>13.49400</td><td>11.25000</td><td> 5.29700</td><td> 2.79000</td><td>-0.97800</td></tr>\n",
       "\t<tr><th scope=row>1770</th><td> 1.97400</td><td> 4.10500</td><td> 1.61200</td><td> 9.78800</td><td> 9.99600</td><td>11.88400</td><td>11.62100</td><td>11.41300</td><td>10.72400</td><td> 8.66100</td><td> 5.79100</td><td> 4.73400</td></tr>\n",
       "\t<tr><th scope=row>1771</th><td> 5.10100</td><td>-0.27400</td><td> 2.81400</td><td> 5.71700</td><td> 9.62600</td><td>14.10400</td><td>13.82800</td><td>14.20400</td><td>11.36300</td><td>10.31700</td><td> 4.91600</td><td> 2.52200</td></tr>\n",
       "\t<tr><th scope=row>1772</th><td> 1.25300</td><td> 1.47800</td><td> 3.05700</td><td> 8.85800</td><td> 9.53100</td><td>12.64700</td><td>14.58100</td><td>14.09800</td><td>10.30300</td><td> 9.26800</td><td> 7.73600</td><td> 5.51200</td></tr>\n",
       "\t<tr><th scope=row>1773</th><td>-0.43700</td><td> 1.42100</td><td> 4.42200</td><td> 9.41500</td><td>12.76400</td><td>12.81100</td><td>14.48400</td><td>13.62400</td><td>12.48800</td><td> 9.20600</td><td> 3.36900</td><td> 5.09100</td></tr>\n",
       "\t<tr><th scope=row>1774</th><td>-0.32500</td><td> 4.91400</td><td> 5.64300</td><td>10.15300</td><td>16.02500</td><td>15.37100</td><td>16.52100</td><td>14.09900</td><td>10.93600</td><td> 8.59000</td><td> 3.02900</td><td> 0.31000</td></tr>\n",
       "\t<tr><th scope=row>1775</th><td> 4.26100</td><td> 6.42700</td><td> 7.75900</td><td> 7.95200</td><td>11.39900</td><td>12.31400</td><td>14.71900</td><td>14.43500</td><td>11.09600</td><td>10.37200</td><td> 8.17900</td><td> 1.28400</td></tr>\n",
       "\t<tr><th scope=row>1776</th><td>-0.80600</td><td> 4.82500</td><td> 4.65200</td><td> 7.44000</td><td>10.47500</td><td>14.56400</td><td>14.10800</td><td>14.83700</td><td>10.60200</td><td> 8.06000</td><td> 5.87000</td><td> 5.02100</td></tr>\n",
       "\t<tr><th scope=row>1777</th><td> 6.02100</td><td> 4.91900</td><td> 5.57200</td><td> 6.36200</td><td>11.38900</td><td>12.32300</td><td>12.74300</td><td>12.81500</td><td>11.37900</td><td> 6.95600</td><td> 5.52900</td><td> 3.06700</td></tr>\n",
       "\t<tr><th scope=row>1778</th><td> 2.52100</td><td> 6.09400</td><td> 4.60400</td><td>10.98400</td><td>11.28600</td><td>11.73100</td><td>15.03700</td><td>12.86900</td><td>13.37700</td><td> 8.04900</td><td> 3.85400</td><td> 2.10100</td></tr>\n",
       "\t<tr><th scope=row>1779</th><td> 1.47000</td><td> 5.14000</td><td> 6.96700</td><td> 9.96500</td><td>14.18000</td><td>12.54700</td><td>13.65900</td><td>13.79900</td><td>12.68300</td><td> 9.35000</td><td> 5.77000</td><td> 2.26900</td></tr>\n",
       "\t<tr><th scope=row>1780</th><td> 2.51500</td><td> 4.08000</td><td> 5.72400</td><td>13.73200</td><td>15.75700</td><td>14.74700</td><td>16.18300</td><td>12.94700</td><td> 8.84400</td><td> 9.37600</td><td> 6.70600</td><td> 2.58400</td></tr>\n",
       "\t<tr><th scope=row>1781</th><td> 2.40100</td><td> 2.26700</td><td> 4.77200</td><td> 6.92300</td><td>11.10200</td><td>11.67800</td><td>14.28500</td><td>14.14100</td><td>10.30400</td><td> 8.54700</td><td> 7.52300</td><td> 3.28800</td></tr>\n",
       "\t<tr><th scope=row>1782</th><td> 0.34100</td><td> 0.63900</td><td> 2.56500</td><td> 8.61800</td><td>10.99000</td><td>13.80100</td><td>13.92500</td><td>15.68300</td><td>12.39800</td><td> 8.97800</td><td> 4.95600</td><td> 1.92100</td></tr>\n",
       "\t<tr><th scope=row>1783</th><td>-1.43100</td><td> 5.29400</td><td> 4.79900</td><td> 8.57400</td><td>11.81900</td><td>14.34000</td><td>13.06900</td><td>13.97100</td><td> 9.95800</td><td> 7.35700</td><td> 2.19600</td><td> 2.22400</td></tr>\n",
       "\t<tr><th scope=row>1784</th><td> 2.59600</td><td> 0.98900</td><td> 3.91900</td><td> 8.14200</td><td>10.01300</td><td>12.80300</td><td>14.94700</td><td>15.86100</td><td>10.26600</td><td> 6.83600</td><td> 4.55700</td><td> 3.41500</td></tr>\n",
       "\t<tr><th scope=row>1785</th><td> 0.86500</td><td> 1.04500</td><td> 2.28900</td><td> 6.37900</td><td> 9.85300</td><td>13.74400</td><td>14.46800</td><td>14.46600</td><td>10.49700</td><td> 7.35100</td><td> 5.52600</td><td> 1.87300</td></tr>\n",
       "\t<tr><th scope=row>1786</th><td> 0.76300</td><td> 2.65700</td><td> 5.64800</td><td> 9.31800</td><td>11.58300</td><td>13.03500</td><td>15.29400</td><td>14.45500</td><td>12.15800</td><td> 7.71200</td><td> 5.74100</td><td> 0.73400</td></tr>\n",
       "\t<tr><th scope=row>1787</th><td> 2.84500</td><td> 2.56300</td><td> 4.69800</td><td> 7.77200</td><td>11.40300</td><td>14.36900</td><td>13.45100</td><td>13.55500</td><td>10.35700</td><td> 7.77200</td><td> 5.80100</td><td> 1.79600</td></tr>\n",
       "\t<tr><th scope=row>1788</th><td> 0.73500</td><td> 3.58100</td><td> 5.33600</td><td> 8.71400</td><td>10.42800</td><td>13.80800</td><td>16.46800</td><td>13.88500</td><td>11.69900</td><td> 9.34900</td><td> 6.11100</td><td> 1.25200</td></tr>\n",
       "\t<tr><th scope=row>1789</th><td> 3.70600</td><td> 1.67500</td><td> 3.98900</td><td> 7.69400</td><td>11.66600</td><td>13.50700</td><td>15.46200</td><td>13.84000</td><td>12.01800</td><td> 7.39000</td><td> 5.96400</td><td> 3.09900</td></tr>\n",
       "\t<tr><th scope=row>1790</th><td> 2.44400</td><td> 2.97300</td><td> 4.58200</td><td> 6.05300</td><td>10.35700</td><td>13.74600</td><td>13.81200</td><td>13.92500</td><td>11.23300</td><td> 8.57700</td><td> 5.33100</td><td> 2.75500</td></tr>\n",
       "\t<tr><th scope=row>1791</th><td> 1.49300</td><td> 3.46600</td><td> 4.79000</td><td> 9.12700</td><td> 9.85900</td><td>13.23100</td><td>13.61200</td><td>13.74400</td><td>11.67700</td><td> 8.08000</td><td> 6.20600</td><td> 3.52600</td></tr>\n",
       "\t<tr><th scope=row>1792</th><td> 0.34800</td><td> 3.62000</td><td> 4.42900</td><td> 7.99400</td><td>11.32100</td><td>13.58100</td><td>14.21200</td><td>12.28100</td><td>12.49100</td><td> 8.09700</td><td> 5.30600</td><td> 3.38800</td></tr>\n",
       "\t<tr><th scope=row>1793</th><td> 0.52100</td><td> 4.74500</td><td> 5.04200</td><td> 8.64300</td><td>11.05900</td><td>13.14600</td><td>14.33600</td><td>13.16000</td><td>12.00200</td><td> 8.39300</td><td> 5.66600</td><td> 2.03700</td></tr>\n",
       "\t<tr><th scope=row>1794</th><td> 3.71000</td><td> 3.60500</td><td> 5.69600</td><td> 9.36700</td><td>12.37600</td><td>11.99400</td><td>12.87400</td><td>13.48400</td><td>11.89600</td><td> 9.10800</td><td> 5.28400</td><td> 2.91800</td></tr>\n",
       "\t<tr><th scope=row>1795</th><td> 2.73100</td><td> 4.39000</td><td> 5.70900</td><td> 8.91800</td><td>11.02900</td><td>13.29300</td><td>14.29500</td><td>13.14000</td><td>11.13300</td><td> 7.78600</td><td> 5.20700</td><td> 2.57300</td></tr>\n",
       "\t<tr><th scope=row>1796</th><td> 2.84400</td><td> 2.73600</td><td> 3.47700</td><td> 7.77300</td><td>11.27300</td><td>14.21600</td><td>14.31400</td><td>14.72200</td><td>12.01200</td><td> 8.92400</td><td> 5.70200</td><td> 1.25900</td></tr>\n",
       "\t<tr><th scope=row>1797</th><td> 4.39600</td><td> 4.95700</td><td> 4.05600</td><td> 6.60000</td><td>10.41700</td><td>13.85200</td><td>14.10700</td><td>14.04000</td><td>12.45900</td><td> 9.19100</td><td> 4.77700</td><td> 3.27500</td></tr>\n",
       "\t<tr><th scope=row>1798</th><td> 2.67900</td><td> 3.21300</td><td> 7.00800</td><td> 8.08300</td><td>11.76900</td><td>13.24600</td><td>14.95100</td><td>14.75400</td><td>11.62700</td><td> 8.65500</td><td> 6.03100</td><td> 2.02700</td></tr>\n",
       "\t<tr><th scope=row>1799</th><td> 1.92300</td><td> 2.07800</td><td> 3.98600</td><td> 8.78600</td><td>11.35300</td><td>13.68000</td><td>14.86900</td><td>14.08600</td><td>12.31100</td><td> 9.60600</td><td> 5.90400</td><td> 3.48700</td></tr>\n",
       "\t<tr><th scope=row>1800</th><td> 2.81500</td><td> 3.63400</td><td> 4.45200</td><td> 9.12500</td><td>11.09700</td><td>13.60600</td><td>13.76300</td><td>13.61900</td><td>10.79500</td><td> 9.46900</td><td> 5.57200</td><td> 3.86400</td></tr>\n",
       "\t<tr><th scope=row>1801</th><td> 2.68700</td><td> 3.14900</td><td> 6.45500</td><td> 7.40400</td><td>12.12300</td><td>12.53600</td><td>14.67600</td><td>13.18700</td><td>11.46200</td><td> 9.09900</td><td> 5.72000</td><td> 4.57800</td></tr>\n",
       "\t<tr><th scope=row>1802</th><td> 3.74000</td><td> 2.82800</td><td> 5.20100</td><td> 7.62300</td><td>10.45700</td><td>14.47100</td><td>14.62800</td><td>14.03900</td><td>11.78800</td><td> 9.74700</td><td> 5.53500</td><td> 2.88100</td></tr>\n",
       "\t<tr><th scope=row>1803</th><td> 0.60200</td><td> 1.44300</td><td> 4.87500</td><td> 9.29100</td><td>11.79500</td><td>13.82100</td><td>15.10600</td><td>15.36600</td><td>12.33000</td><td> 9.11900</td><td> 5.96100</td><td> 2.32700</td></tr>\n",
       "\t<tr><th scope=row>1804</th><td> 2.44500</td><td> 1.93900</td><td> 4.42500</td><td>10.05700</td><td>12.10700</td><td>13.77400</td><td>15.77400</td><td>14.51100</td><td>12.46800</td><td> 9.28200</td><td> 7.13200</td><td> 2.22400</td></tr>\n",
       "\t<tr><th scope=row>1805</th><td> 2.82200</td><td> 2.55700</td><td> 5.76000</td><td> 8.12300</td><td>11.10400</td><td>14.02700</td><td>14.70200</td><td>15.27000</td><td>12.03900</td><td> 7.63600</td><td> 4.55500</td><td> 4.15800</td></tr>\n",
       "\t<tr><th scope=row>1806</th><td> 2.91700</td><td> 2.93700</td><td> 4.69100</td><td> 8.03200</td><td>11.50300</td><td>12.41800</td><td>13.92300</td><td>14.59300</td><td>12.54900</td><td> 8.42600</td><td> 5.23100</td><td> 3.98900</td></tr>\n",
       "\t<tr><th scope=row>1807</th><td> 1.05500</td><td> 4.09400</td><td> 4.78800</td><td> 6.97100</td><td> 9.33100</td><td>13.29300</td><td>14.13800</td><td>13.79900</td><td>12.61500</td><td> 8.85700</td><td> 6.01500</td><td> 4.42100</td></tr>\n",
       "\t<tr><th scope=row>1808</th><td> 1.13100</td><td> 2.14200</td><td> 4.36100</td><td> 7.48200</td><td> 9.35700</td><td>13.42900</td><td>14.49100</td><td>13.04700</td><td>12.71100</td><td> 7.97200</td><td> 4.51200</td><td> 0.88700</td></tr>\n",
       "\t<tr><th scope=row>1809</th><td> 0.20800</td><td> 0.85600</td><td> 3.42500</td><td> 7.83300</td><td> 9.24300</td><td>12.99800</td><td>12.65600</td><td>12.90500</td><td>10.96700</td><td> 8.65000</td><td> 3.09900</td><td> 2.07700</td></tr>\n",
       "\t<tr><th scope=row>1810</th><td> 0.88800</td><td> 2.39100</td><td> 5.01400</td><td> 6.53300</td><td> 9.06900</td><td>11.93400</td><td>12.55100</td><td>12.04100</td><td> 9.53200</td><td> 6.63200</td><td> 3.82700</td><td> 2.66000</td></tr>\n",
       "\t<tr><th scope=row>1811</th><td> 1.37400</td><td> 0.45000</td><td> 3.70100</td><td> 6.30200</td><td> 9.44300</td><td>12.13700</td><td>11.95600</td><td>13.32600</td><td>10.36800</td><td> 6.58000</td><td> 3.50300</td><td> 3.17400</td></tr>\n",
       "\t<tr><th scope=row>1812</th><td> 0.97700</td><td> 0.13100</td><td> 2.04400</td><td> 6.95000</td><td> 9.58000</td><td>12.00500</td><td>14.35500</td><td>15.01800</td><td>10.18500</td><td> 7.59300</td><td> 4.36900</td><td> 1.34800</td></tr>\n",
       "\t<tr><th scope=row>1813</th><td>-1.38500</td><td> 2.25800</td><td> 1.59600</td><td> 8.18200</td><td>11.36700</td><td>13.24200</td><td>14.52100</td><td>13.09700</td><td>12.33900</td><td> 8.66600</td><td> 6.82500</td><td> 2.17100</td></tr>\n",
       "\t<tr><th scope=row>1814</th><td> 1.50200</td><td> 1.68900</td><td> 2.66400</td><td> 7.19300</td><td> 9.41700</td><td>12.81800</td><td>12.53200</td><td>12.66800</td><td>10.67600</td><td> 7.37400</td><td> 6.73900</td><td> 5.82900</td></tr>\n",
       "\t<tr><th scope=row>1815</th><td> 2.05100</td><td> 2.27300</td><td> 3.66300</td><td> 6.58800</td><td> 9.84500</td><td>11.16200</td><td>14.39400</td><td>13.20900</td><td>11.15100</td><td> 7.13700</td><td> 4.17800</td><td> 1.22100</td></tr>\n",
       "\t<tr><th scope=row>1816</th><td> 2.73700</td><td> 0.67600</td><td> 3.90500</td><td> 7.60600</td><td>10.59400</td><td>11.79000</td><td>12.26700</td><td>12.57000</td><td>10.39000</td><td> 5.69900</td><td> 4.05800</td><td> 0.95800</td></tr>\n",
       "\t<tr><th scope=row>1817</th><td> 1.54000</td><td> 3.64900</td><td> 4.56900</td><td> 7.88900</td><td> 9.47600</td><td>11.28700</td><td>12.07200</td><td>13.40300</td><td> 8.81200</td><td> 6.20300</td><td> 4.63800</td><td> 0.17000</td></tr>\n",
       "\t<tr><th scope=row>1818</th><td> 1.20400</td><td> 0.75500</td><td> 5.56500</td><td> 9.90100</td><td>11.24700</td><td>13.82500</td><td>13.51000</td><td>13.16600</td><td>10.57800</td><td> 6.65400</td><td> 5.03500</td><td> 2.50700</td></tr>\n",
       "\t<tr><th scope=row>1819</th><td> 1.01400</td><td> 2.28600</td><td> 2.93100</td><td> 7.02900</td><td> 9.85100</td><td>12.52600</td><td>13.03800</td><td>12.55700</td><td>10.89400</td><td> 9.31200</td><td> 5.15000</td><td> 1.84200</td></tr>\n",
       "\t<tr><th scope=row>1820</th><td> 1.23600</td><td> 2.14500</td><td> 4.61800</td><td> 8.70000</td><td>11.62000</td><td>13.32300</td><td>13.31100</td><td>11.97800</td><td>11.16000</td><td> 7.58800</td><td> 4.44300</td><td> 1.27300</td></tr>\n",
       "\t<tr><th scope=row>1821</th><td> 2.99900</td><td> 3.75800</td><td> 5.46200</td><td> 7.73900</td><td>11.30000</td><td>12.60800</td><td>13.03900</td><td>13.14500</td><td>10.17800</td><td> 8.53500</td><td> 5.60100</td><td> 2.71700</td></tr>\n",
       "\t<tr><th scope=row>1822</th><td> 2.75900</td><td> 4.46500</td><td> 7.78700</td><td> 8.27800</td><td>10.48600</td><td>13.06700</td><td>14.21200</td><td>13.21500</td><td>10.69500</td><td> 7.77400</td><td> 4.50100</td><td> 1.02100</td></tr>\n",
       "\t<tr><th scope=row>1823</th><td> 1.75800</td><td> 1.96600</td><td> 5.06800</td><td> 7.66500</td><td>10.56300</td><td>13.95800</td><td>14.19700</td><td>13.13000</td><td>10.19800</td><td> 7.64200</td><td> 4.50800</td><td> 1.97100</td></tr>\n",
       "\t<tr><th scope=row>1824</th><td> 2.65100</td><td> 2.67900</td><td> 5.35700</td><td> 8.37500</td><td>11.13200</td><td>13.42700</td><td>14.83000</td><td>13.43700</td><td>11.52800</td><td> 8.19700</td><td> 5.87700</td><td> 5.07600</td></tr>\n",
       "\t<tr><th scope=row>1825</th><td> 3.21300</td><td> 3.09200</td><td> 5.36500</td><td> 8.98800</td><td>10.75100</td><td>13.76500</td><td>14.00700</td><td>13.26900</td><td>11.14800</td><td> 7.97900</td><td> 6.05800</td><td> 3.03700</td></tr>\n",
       "\t<tr><th scope=row>1826</th><td> 1.89300</td><td> 1.53300</td><td> 4.88800</td><td> 8.40300</td><td>11.80400</td><td>13.02000</td><td>14.48200</td><td>13.10900</td><td>11.17800</td><td> 8.45900</td><td> 6.63400</td><td> 4.87600</td></tr>\n",
       "\t<tr><th scope=row>1827</th><td> 3.59300</td><td> 4.41500</td><td> 6.14100</td><td> 9.42900</td><td>11.80700</td><td>13.54800</td><td>14.68400</td><td>13.69400</td><td>10.88300</td><td> 8.51000</td><td> 6.27900</td><td> 2.72200</td></tr>\n",
       "\t<tr><th scope=row>1828</th><td> 0.59500</td><td> 1.85300</td><td> 5.72900</td><td> 8.73700</td><td>11.28100</td><td>14.12400</td><td>14.38400</td><td>13.63500</td><td>10.08000</td><td> 8.65600</td><td> 5.95700</td><td> 2.95300</td></tr>\n",
       "\t<tr><th scope=row>1829</th><td> 2.03200</td><td> 1.71500</td><td> 5.06100</td><td> 7.81500</td><td>11.33600</td><td>12.86000</td><td>14.22500</td><td>13.39900</td><td>10.59800</td><td> 8.80600</td><td> 5.00300</td><td> 2.45200</td></tr>\n",
       "\t<tr><th scope=row>1830</th><td> 2.95700</td><td> 4.08500</td><td> 4.45400</td><td> 8.84100</td><td>10.20200</td><td>12.82700</td><td>14.94200</td><td>13.38600</td><td>10.54000</td><td> 7.99300</td><td> 7.49300</td><td> 4.48100</td></tr>\n",
       "\t<tr><th scope=row>1831</th><td> 2.18200</td><td> 2.47900</td><td> 4.55800</td><td> 7.73100</td><td>10.99400</td><td>13.20300</td><td>13.58000</td><td>12.49000</td><td> 9.94600</td><td> 7.83000</td><td> 4.41200</td><td> 2.26500</td></tr>\n",
       "\t<tr><th scope=row>1832</th><td> 1.71700</td><td> 1.83300</td><td> 4.65000</td><td> 8.05900</td><td>10.48900</td><td>12.85700</td><td>13.72700</td><td>11.96600</td><td>10.42600</td><td> 8.63400</td><td> 4.26200</td><td> 0.78200</td></tr>\n",
       "\t<tr><th scope=row>1833</th><td> 2.00600</td><td> 2.81500</td><td> 4.52100</td><td> 7.86900</td><td>10.58100</td><td>13.04900</td><td>13.80300</td><td>13.22200</td><td>11.23600</td><td> 7.90000</td><td> 6.59600</td><td> 2.55800</td></tr>\n",
       "\t<tr><th scope=row>1834</th><td> 0.33400</td><td> 2.32900</td><td> 5.73600</td><td> 8.08500</td><td>11.23400</td><td>12.79900</td><td>14.19700</td><td>13.41200</td><td>11.57100</td><td> 8.61700</td><td> 6.35500</td><td> 3.09200</td></tr>\n",
       "\t<tr><th scope=row>1835</th><td> 2.55100</td><td> 2.96700</td><td> 4.50700</td><td> 7.76900</td><td>10.17100</td><td>12.00700</td><td>13.12900</td><td>12.32200</td><td> 9.94200</td><td> 7.83500</td><td> 4.31200</td><td> 1.19800</td></tr>\n",
       "\t<tr><th scope=row>1836</th><td> 1.67000</td><td> 2.37100</td><td> 5.44800</td><td> 7.31500</td><td>10.27900</td><td>12.54900</td><td>13.64600</td><td>12.83000</td><td>10.81200</td><td> 8.75600</td><td> 3.81400</td><td> 2.86000</td></tr>\n",
       "\t<tr><th scope=row>1837</th><td> 1.94000</td><td> 2.61900</td><td> 3.86500</td><td> 6.55600</td><td> 9.97300</td><td>12.09900</td><td>13.52600</td><td>13.01800</td><td>10.80500</td><td> 7.65300</td><td> 4.16900</td><td> 2.28500</td></tr>\n",
       "\t<tr><th scope=row>1838</th><td>-0.55700</td><td> 1.56300</td><td> 3.72300</td><td> 7.38300</td><td> 9.98500</td><td>12.74200</td><td>14.36700</td><td>13.56800</td><td>11.10600</td><td> 8.52600</td><td> 5.16000</td><td> 2.61300</td></tr>\n",
       "\t<tr><th scope=row>1839</th><td> 2.15600</td><td> 3.48200</td><td> 2.67300</td><td> 7.89200</td><td>10.28900</td><td>12.54800</td><td>14.41100</td><td>14.07000</td><td>10.85300</td><td> 8.21900</td><td> 3.92000</td><td> 1.07400</td></tr>\n",
       "\t<tr><th scope=row>1840</th><td> 2.56100</td><td> 2.10200</td><td> 4.04000</td><td> 7.94300</td><td>11.17300</td><td>13.41100</td><td>14.71400</td><td>13.08600</td><td>11.01000</td><td> 7.50500</td><td> 4.10100</td><td> 1.90900</td></tr>\n",
       "\t<tr><th scope=row>1841</th><td> 0.64900</td><td> 2.46800</td><td> 3.30700</td><td> 6.77000</td><td>10.76400</td><td>13.06200</td><td>14.55200</td><td>13.70800</td><td>10.92100</td><td> 8.76500</td><td> 4.74400</td><td> 2.54800</td></tr>\n",
       "\t<tr><th scope=row>1842</th><td> 1.63600</td><td> 2.78700</td><td> 5.75000</td><td> 8.31000</td><td>10.53500</td><td>12.62900</td><td>13.58400</td><td>13.24100</td><td>10.94000</td><td> 8.30700</td><td> 4.82400</td><td> 3.73000</td></tr>\n",
       "\t<tr><th scope=row>1843</th><td> 2.97400</td><td> 3.92000</td><td> 4.74400</td><td> 7.83000</td><td>10.04000</td><td>12.53000</td><td>13.99100</td><td>13.29500</td><td>11.32600</td><td> 8.72200</td><td> 4.94700</td><td> 3.76500</td></tr>\n",
       "\t<tr><th scope=row>1844</th><td> 1.86800</td><td> 2.03800</td><td> 4.73400</td><td> 7.38900</td><td>10.10900</td><td>12.84000</td><td>13.92100</td><td>13.04600</td><td>10.81900</td><td> 8.70000</td><td> 4.40100</td><td> 1.89100</td></tr>\n",
       "\t<tr><th scope=row>1845</th><td> 2.66100</td><td> 1.62700</td><td> 4.65100</td><td> 8.15800</td><td>10.43300</td><td>12.86300</td><td>14.31900</td><td>13.55600</td><td>11.23400</td><td> 7.78200</td><td> 5.19400</td><td> 1.73600</td></tr>\n",
       "\t<tr><th scope=row>1846</th><td> 3.21300</td><td> 3.37600</td><td> 6.31400</td><td> 7.47300</td><td>10.89600</td><td>13.53000</td><td>14.92300</td><td>14.12100</td><td>11.73800</td><td> 8.22900</td><td> 5.04400</td><td> 3.77600</td></tr>\n",
       "\t<tr><th scope=row>1847</th><td> 2.75300</td><td> 3.60200</td><td> 4.04600</td><td> 7.98000</td><td>10.62200</td><td>12.82800</td><td>14.25000</td><td>13.41400</td><td>11.61900</td><td> 8.61800</td><td> 5.57400</td><td> 1.72600</td></tr>\n",
       "\t<tr><th scope=row>1848</th><td> 0.51000</td><td> 3.72600</td><td> 4.80600</td><td> 8.11000</td><td>10.58000</td><td>13.24700</td><td>14.46600</td><td>13.26800</td><td>10.99700</td><td> 8.65500</td><td> 5.29000</td><td> 2.09900</td></tr>\n",
       "\t<tr><th scope=row>1849</th><td> 1.94100</td><td> 2.63800</td><td> 5.30200</td><td> 7.02800</td><td>10.15900</td><td>13.00000</td><td>14.45800</td><td>13.60300</td><td>11.09300</td><td> 8.89000</td><td> 5.77800</td><td> 1.92300</td></tr>\n",
       "\t<tr><th scope=row>1850</th><td> 0.74900</td><td> 3.07100</td><td> 4.95400</td><td> 7.21700</td><td>10.00400</td><td>13.15000</td><td>14.49200</td><td>14.03900</td><td>11.50500</td><td> 8.09100</td><td> 4.73300</td><td> 2.80300</td></tr>\n",
       "\t<tr><th scope=row>1851</th><td> 2.43100</td><td> 2.50800</td><td> 4.19200</td><td> 7.28700</td><td>11.11300</td><td>13.41800</td><td>14.53100</td><td>13.75100</td><td>11.67700</td><td> 9.12200</td><td> 4.97300</td><td> 3.14000</td></tr>\n",
       "\t<tr><th scope=row>1852</th><td> 2.37600</td><td> 2.54000</td><td> 3.88400</td><td> 7.48700</td><td>11.16900</td><td>13.16400</td><td>14.51200</td><td>13.30400</td><td>11.47800</td><td> 8.91000</td><td> 4.59300</td><td> 3.78500</td></tr>\n",
       "\t<tr><th scope=row>1853</th><td> 1.78600</td><td> 2.22800</td><td> 4.07800</td><td> 7.54100</td><td>10.97500</td><td>13.41000</td><td>14.64500</td><td>13.95300</td><td>11.71000</td><td> 8.53500</td><td> 4.78300</td><td> 2.85800</td></tr>\n",
       "\t<tr><th scope=row>1854</th><td> 1.28100</td><td> 1.94100</td><td> 4.69800</td><td> 7.62200</td><td>11.09500</td><td>12.82900</td><td>14.69200</td><td>13.88900</td><td>11.51400</td><td> 9.76300</td><td> 5.74500</td><td> 3.45700</td></tr>\n",
       "\t<tr><th scope=row>1855</th><td> 2.52200</td><td> 2.98200</td><td> 4.61700</td><td> 8.58000</td><td>11.18600</td><td>12.98400</td><td>13.92600</td><td>13.54700</td><td>11.14100</td><td> 8.44400</td><td> 5.18600</td><td> 2.21400</td></tr>\n",
       "\t<tr><th scope=row>1856</th><td> 2.76000</td><td> 2.22600</td><td> 4.37200</td><td> 7.75100</td><td>10.53000</td><td>13.49600</td><td>14.01900</td><td>13.02100</td><td>10.94800</td><td> 8.08700</td><td> 5.36000</td><td> 3.38100</td></tr>\n",
       "\t<tr><th scope=row>1857</th><td> 1.82100</td><td> 2.48100</td><td> 4.31200</td><td> 6.82700</td><td> 9.88500</td><td>12.61100</td><td>13.95300</td><td>13.20300</td><td>11.05600</td><td> 8.19800</td><td> 5.23600</td><td> 3.51500</td></tr>\n",
       "\t<tr><th scope=row>1858</th><td> 2.73900</td><td> 2.28400</td><td> 4.83400</td><td> 8.25000</td><td>10.85100</td><td>12.95600</td><td>13.67700</td><td>13.22000</td><td>11.14800</td><td> 8.81000</td><td> 5.99000</td><td> 2.44400</td></tr>\n",
       "\t<tr><th scope=row>1859</th><td> 2.01500</td><td> 2.61100</td><td> 5.02300</td><td> 8.54200</td><td>11.45600</td><td>13.14200</td><td>13.82700</td><td>13.21700</td><td>11.08000</td><td> 8.83400</td><td> 5.91200</td><td> 3.36500</td></tr>\n",
       "\t<tr><th scope=row>1860</th><td> 2.07700</td><td> 2.63200</td><td> 3.49400</td><td> 7.76000</td><td>11.06200</td><td>13.27200</td><td>14.20300</td><td>13.76500</td><td>11.89200</td><td> 8.71200</td><td> 5.02700</td><td> 1.63400</td></tr>\n",
       "\t<tr><th scope=row>1861</th><td> 0.40400</td><td> 2.13700</td><td> 4.48900</td><td> 7.48700</td><td>10.51600</td><td>13.01700</td><td>13.96700</td><td>13.65600</td><td>11.40900</td><td> 8.47500</td><td> 5.70700</td><td> 2.89400</td></tr>\n",
       "\t<tr><th scope=row>1862</th><td> 0.68500</td><td> 1.76900</td><td> 4.48500</td><td> 7.32300</td><td>10.73900</td><td>12.86000</td><td>13.92800</td><td>13.18800</td><td>11.02800</td><td> 8.28300</td><td> 4.79200</td><td> 1.62300</td></tr>\n",
       "\t<tr><th scope=row>1863</th><td> 3.03400</td><td> 3.25300</td><td> 4.68200</td><td> 7.93100</td><td>11.08100</td><td>12.79400</td><td>13.76500</td><td>13.29400</td><td>11.23000</td><td> 8.23500</td><td> 5.39200</td><td> 2.65100</td></tr>\n",
       "\t<tr><th scope=row>1864</th><td> 1.55100</td><td> 2.50600</td><td> 4.65100</td><td> 7.51500</td><td>10.95600</td><td>13.36500</td><td>14.16200</td><td>13.43400</td><td>11.37000</td><td> 8.79500</td><td> 5.23200</td><td> 2.26600</td></tr>\n",
       "\t<tr><th scope=row>1865</th><td> 2.97500</td><td> 2.15200</td><td> 4.03900</td><td> 7.31400</td><td>10.91700</td><td>13.21400</td><td>14.22000</td><td>13.58000</td><td>11.79700</td><td> 9.13600</td><td> 6.14400</td><td> 2.64600</td></tr>\n",
       "\t<tr><th scope=row>1866</th><td> 2.93200</td><td> 2.27400</td><td> 4.42100</td><td> 7.91400</td><td>10.89800</td><td>12.85300</td><td>14.60200</td><td>13.53200</td><td>11.52700</td><td> 8.50600</td><td> 5.89500</td><td> 4.15200</td></tr>\n",
       "\t<tr><th scope=row>1867</th><td> 2.48200</td><td> 2.66400</td><td> 4.45400</td><td> 8.25800</td><td>10.49500</td><td>13.30300</td><td>14.22300</td><td>13.50600</td><td>11.76300</td><td> 9.21200</td><td> 6.93900</td><td> 3.93700</td></tr>\n",
       "\t<tr><th scope=row>1868</th><td> 1.83400</td><td> 2.03900</td><td> 4.53800</td><td> 8.18300</td><td>11.30800</td><td>13.16200</td><td>14.51400</td><td>13.74400</td><td>11.66900</td><td> 9.44800</td><td> 5.19200</td><td> 3.34400</td></tr>\n",
       "\t<tr><th scope=row>1869</th><td> 2.11500</td><td> 3.86400</td><td> 4.37400</td><td> 7.92100</td><td>11.29500</td><td>13.53700</td><td>14.33700</td><td>14.01000</td><td>12.24700</td><td> 9.00600</td><td> 5.77300</td><td> 2.70600</td></tr>\n",
       "\t<tr><th scope=row>1870</th><td> 2.08200</td><td> 2.13400</td><td> 4.65600</td><td> 7.87900</td><td>11.33900</td><td>13.65300</td><td>14.59900</td><td>13.48400</td><td>11.95200</td><td> 8.81000</td><td> 5.60000</td><td> 2.22800</td></tr>\n",
       "\t<tr><th scope=row>1871</th><td> 1.44700</td><td> 1.73600</td><td> 4.68500</td><td> 8.34000</td><td>10.78800</td><td>13.08000</td><td>14.29000</td><td>13.93200</td><td>11.71100</td><td> 9.09600</td><td> 5.11300</td><td> 3.16300</td></tr>\n",
       "\t<tr><th scope=row>1872</th><td> 1.65200</td><td> 2.35000</td><td> 4.92200</td><td> 7.84600</td><td>11.19800</td><td>13.05500</td><td>14.28500</td><td>13.82100</td><td>11.95800</td><td> 9.24000</td><td> 5.37200</td><td> 2.62700</td></tr>\n",
       "\t<tr><th scope=row>1873</th><td> 2.01300</td><td> 3.19500</td><td> 4.70400</td><td> 7.46200</td><td>11.00600</td><td>13.40500</td><td>14.28700</td><td>13.75500</td><td>11.48700</td><td> 9.23400</td><td> 5.81900</td><td> 3.84600</td></tr>\n",
       "\t<tr><th scope=row>1874</th><td> 2.68500</td><td> 3.06900</td><td> 4.22100</td><td> 8.23100</td><td>11.30600</td><td>13.30600</td><td>14.12200</td><td>13.81500</td><td>12.11100</td><td> 9.12000</td><td> 5.80900</td><td> 3.40700</td></tr>\n",
       "\t<tr><th scope=row>1875</th><td> 1.53300</td><td> 2.25900</td><td> 4.25600</td><td> 7.63600</td><td>10.74600</td><td>13.15700</td><td>14.14400</td><td>13.40100</td><td>11.31900</td><td> 8.58500</td><td> 4.61400</td><td> 2.66500</td></tr>\n",
       "\t<tr><th scope=row>1876</th><td> 1.85600</td><td> 2.61700</td><td> 4.74800</td><td> 8.19900</td><td>10.69000</td><td>13.13100</td><td>14.31900</td><td>13.48100</td><td>11.68700</td><td> 8.94600</td><td> 5.09300</td><td> 2.19400</td></tr>\n",
       "\t<tr><th scope=row>1877</th><td> 2.28600</td><td> 2.92800</td><td> 5.29700</td><td> 8.03900</td><td>11.05600</td><td>13.38400</td><td>14.64200</td><td>14.15100</td><td>12.07500</td><td> 9.27300</td><td> 6.34800</td><td> 2.99600</td></tr>\n",
       "\t<tr><th scope=row>1878</th><td> 2.01700</td><td> 3.72800</td><td> 6.60800</td><td> 8.89900</td><td>11.01700</td><td>13.79600</td><td>14.74200</td><td>14.09400</td><td>12.09300</td><td> 9.17300</td><td> 6.44600</td><td> 3.34400</td></tr>\n",
       "\t<tr><th scope=row>1879</th><td> 2.30300</td><td> 2.73700</td><td> 4.92400</td><td> 7.76800</td><td>10.80300</td><td>13.23000</td><td>14.23800</td><td>13.24500</td><td>11.44900</td><td> 9.22900</td><td> 5.52600</td><td> 2.53800</td></tr>\n",
       "\t<tr><th scope=row>1880</th><td> 1.75500</td><td> 2.05200</td><td> 4.63000</td><td> 7.55900</td><td>11.09600</td><td>13.32700</td><td>14.14100</td><td>13.80700</td><td>11.38600</td><td> 8.67300</td><td> 5.89300</td><td> 3.10600</td></tr>\n",
       "\t<tr><th scope=row>1881</th><td> 2.46100</td><td> 2.62600</td><td> 5.01000</td><td> 8.32300</td><td>11.16500</td><td>12.74500</td><td>14.20300</td><td>13.71000</td><td>11.68900</td><td> 8.85100</td><td> 5.27200</td><td> 3.19600</td></tr>\n",
       "\t<tr><th scope=row>1882</th><td> 2.99000</td><td> 3.23100</td><td> 5.04000</td><td> 7.69100</td><td>10.88800</td><td>12.80500</td><td>13.74700</td><td>13.70300</td><td>11.73600</td><td> 8.44500</td><td> 5.06600</td><td> 2.20500</td></tr>\n",
       "\t<tr><th scope=row>1883</th><td> 1.46000</td><td> 1.85600</td><td> 4.92900</td><td> 7.69100</td><td>10.83200</td><td>13.30200</td><td>14.01100</td><td>13.22400</td><td>11.34300</td><td> 8.90900</td><td> 4.90500</td><td> 3.26100</td></tr>\n",
       "\t<tr><th scope=row>1884</th><td> 2.12000</td><td> 2.47400</td><td> 3.89200</td><td> 7.18600</td><td>10.19800</td><td>12.52700</td><td>13.62200</td><td>13.25700</td><td>11.23500</td><td> 8.58100</td><td> 5.16400</td><td> 3.02800</td></tr>\n",
       "\t<tr><th scope=row>1885</th><td> 1.00300</td><td> 2.24300</td><td> 4.62200</td><td> 7.33600</td><td>10.56700</td><td>12.71600</td><td>13.97200</td><td>13.35100</td><td>11.43500</td><td> 8.72200</td><td> 5.42500</td><td> 3.64400</td></tr>\n",
       "\t<tr><th scope=row>1886</th><td> 1.43600</td><td> 1.79300</td><td> 4.26200</td><td> 7.90900</td><td>10.78400</td><td>12.78900</td><td>14.22600</td><td>13.32300</td><td>11.60000</td><td> 8.60400</td><td> 5.22600</td><td> 3.50200</td></tr>\n",
       "\t<tr><th scope=row>1887</th><td> 0.82400</td><td> 2.05400</td><td> 4.55200</td><td> 7.78900</td><td>10.84000</td><td>12.89000</td><td>14.02100</td><td>13.09700</td><td>11.70700</td><td> 8.73800</td><td> 5.59200</td><td> 2.87500</td></tr>\n",
       "\t<tr><th scope=row>1888</th><td> 1.70800</td><td> 2.03900</td><td> 4.30000</td><td> 7.84500</td><td>10.62000</td><td>12.92100</td><td>14.24200</td><td>13.51100</td><td>11.68500</td><td> 9.20100</td><td> 5.79200</td><td> 3.22200</td></tr>\n",
       "\t<tr><th scope=row>1889</th><td> 1.76200</td><td> 3.40900</td><td> 5.29900</td><td> 8.58900</td><td>11.24200</td><td>13.28800</td><td>14.22500</td><td>13.50400</td><td>11.54700</td><td> 8.86500</td><td> 4.99900</td><td> 3.09900</td></tr>\n",
       "\t<tr><th scope=row>1890</th><td> 1.83600</td><td> 2.51600</td><td> 4.21000</td><td> 7.73900</td><td>10.46400</td><td>12.87200</td><td>14.03400</td><td>13.26600</td><td>11.54600</td><td> 9.17800</td><td> 5.03000</td><td> 2.96900</td></tr>\n",
       "\t<tr><th scope=row>1891</th><td> 1.67800</td><td> 1.88000</td><td> 4.75500</td><td> 7.61800</td><td>10.78500</td><td>12.88800</td><td>13.93000</td><td>13.49600</td><td>11.76300</td><td> 8.72200</td><td> 5.11500</td><td> 3.60200</td></tr>\n",
       "\t<tr><th scope=row>1892</th><td> 2.01800</td><td> 2.80500</td><td> 4.36200</td><td> 7.56200</td><td>10.62200</td><td>13.26300</td><td>13.89000</td><td>13.42000</td><td>11.76400</td><td> 9.29000</td><td> 4.85900</td><td> 2.93500</td></tr>\n",
       "\t<tr><th scope=row>1893</th><td> 0.50000</td><td> 1.65400</td><td> 4.97900</td><td> 7.99400</td><td>10.74700</td><td>13.05100</td><td>14.31800</td><td>13.45400</td><td>11.76700</td><td> 9.16000</td><td> 5.90200</td><td> 3.15500</td></tr>\n",
       "\t<tr><th scope=row>1894</th><td> 1.69100</td><td> 2.92300</td><td> 5.11800</td><td> 7.66300</td><td>10.94400</td><td>12.85800</td><td>14.00400</td><td>13.48800</td><td>11.58000</td><td> 9.12500</td><td> 5.40500</td><td> 3.13300</td></tr>\n",
       "\t<tr><th scope=row>1895</th><td> 1.29500</td><td> 2.00000</td><td> 4.68900</td><td> 8.24700</td><td>10.86700</td><td>13.05800</td><td>14.05300</td><td>13.48900</td><td>11.74300</td><td> 9.11700</td><td> 5.74400</td><td> 3.46200</td></tr>\n",
       "\t<tr><th scope=row>1896</th><td> 2.29100</td><td> 2.70700</td><td> 4.27900</td><td> 7.33000</td><td>10.89300</td><td>13.30400</td><td>14.23300</td><td>13.62400</td><td>11.82400</td><td> 9.41600</td><td> 5.36600</td><td> 3.31200</td></tr>\n",
       "\t<tr><th scope=row>1897</th><td> 1.89300</td><td> 2.42900</td><td> 4.34500</td><td> 8.27800</td><td>11.37700</td><td>13.31900</td><td>14.31000</td><td>13.66800</td><td>11.92500</td><td> 9.19700</td><td> 5.60800</td><td> 3.17100</td></tr>\n",
       "\t<tr><th scope=row>1898</th><td> 2.73700</td><td> 2.35400</td><td> 3.75100</td><td> 7.90700</td><td>10.83500</td><td>13.39500</td><td>14.13800</td><td>13.57900</td><td>11.75300</td><td> 8.82800</td><td> 5.45200</td><td> 3.40700</td></tr>\n",
       "\t<tr><th scope=row>1899</th><td> 2.51500</td><td> 2.38000</td><td> 4.61800</td><td> 8.28100</td><td>11.02300</td><td>12.85600</td><td>14.15900</td><td>13.77700</td><td>12.12800</td><td> 9.40900</td><td> 6.60500</td><td> 3.00500</td></tr>\n",
       "\t<tr><th scope=row>1900</th><td> 1.46100</td><td> 3.09800</td><td> 5.49200</td><td> 8.22300</td><td>11.38500</td><td>13.29300</td><td>14.17100</td><td>13.81600</td><td>11.95500</td><td> 9.66600</td><td> 5.80400</td><td> 3.65500</td></tr>\n",
       "\t<tr><th scope=row>1901</th><td> 2.19100</td><td> 3.09200</td><td> 5.67100</td><td> 8.52200</td><td>11.17800</td><td>13.42300</td><td>14.33900</td><td>13.78900</td><td>11.98400</td><td> 9.00300</td><td> 5.97600</td><td> 3.33500</td></tr>\n",
       "\t<tr><th scope=row>1902</th><td> 2.68400</td><td> 3.60600</td><td> 4.88300</td><td> 7.95600</td><td>10.89300</td><td>13.21400</td><td>14.23100</td><td>13.59900</td><td>11.79900</td><td> 8.80100</td><td> 5.27400</td><td> 2.71300</td></tr>\n",
       "\t<tr><th scope=row>1903</th><td> 2.51400</td><td> 3.55500</td><td> 4.93000</td><td> 7.83200</td><td>10.79400</td><td>12.88600</td><td>13.99200</td><td>13.41200</td><td>11.50100</td><td> 8.81200</td><td> 5.51600</td><td> 2.89800</td></tr>\n",
       "\t<tr><th scope=row>1904</th><td> 1.63700</td><td> 2.29700</td><td> 4.50600</td><td> 7.68400</td><td>10.84000</td><td>13.01400</td><td>13.83600</td><td>13.45900</td><td>11.38100</td><td> 8.83300</td><td> 6.23000</td><td> 3.37400</td></tr>\n",
       "\t<tr><th scope=row>1905</th><td> 2.25400</td><td> 1.92700</td><td> 4.63500</td><td> 7.75500</td><td>10.98200</td><td>13.11200</td><td>14.07700</td><td>13.57800</td><td>11.80400</td><td> 9.04100</td><td> 6.18300</td><td> 3.35400</td></tr>\n",
       "\t<tr><th scope=row>1906</th><td> 2.06800</td><td> 2.30100</td><td> 4.86600</td><td> 8.62600</td><td>11.24000</td><td>13.33400</td><td>14.12200</td><td>13.69100</td><td>11.77200</td><td> 9.26700</td><td> 5.50100</td><td> 3.76100</td></tr>\n",
       "\t<tr><th scope=row>1907</th><td> 1.79800</td><td> 2.11700</td><td> 4.57500</td><td> 7.57900</td><td>10.37500</td><td>12.72900</td><td>13.76900</td><td>13.36200</td><td>11.66500</td><td> 9.23400</td><td> 5.20700</td><td> 2.95600</td></tr>\n",
       "\t<tr><th scope=row>1908</th><td> 2.30400</td><td> 2.76900</td><td> 4.13600</td><td> 7.83200</td><td>11.14100</td><td>13.29300</td><td>14.19700</td><td>13.37600</td><td>11.97700</td><td> 8.86500</td><td> 5.27200</td><td> 3.07100</td></tr>\n",
       "\t<tr><th scope=row>1909</th><td> 1.39500</td><td> 2.70600</td><td> 4.58900</td><td> 7.53400</td><td>10.61100</td><td>12.96200</td><td>14.06000</td><td>13.75200</td><td>11.87900</td><td> 9.19200</td><td> 6.23600</td><td> 3.22300</td></tr>\n",
       "\t<tr><th scope=row>1910</th><td> 2.33300</td><td> 2.77900</td><td> 4.60600</td><td> 8.10500</td><td>11.00500</td><td>13.15100</td><td>14.27900</td><td>13.67700</td><td>11.73300</td><td> 9.00600</td><td> 5.31800</td><td> 2.68400</td></tr>\n",
       "\t<tr><th scope=row>1911</th><td> 1.66000</td><td> 2.45300</td><td> 4.34700</td><td> 7.99000</td><td>10.82900</td><td>13.00900</td><td>14.08200</td><td>13.49900</td><td>11.63800</td><td> 9.26300</td><td> 5.96400</td><td> 3.39000</td></tr>\n",
       "\t<tr><th scope=row>1912</th><td> 2.40200</td><td> 3.35400</td><td> 4.35600</td><td> 8.22900</td><td>11.25400</td><td>13.43500</td><td>13.72300</td><td>13.05300</td><td>11.22200</td><td> 8.36700</td><td> 5.52100</td><td> 3.06900</td></tr>\n",
       "\t<tr><th scope=row>1913</th><td> 2.08300</td><td> 2.37600</td><td> 4.51700</td><td> 8.02300</td><td>10.74500</td><td>13.00500</td><td>14.13700</td><td>13.72400</td><td>11.75900</td><td> 9.07700</td><td> 6.02400</td><td> 4.10300</td></tr>\n",
       "\t<tr><th scope=row>1914</th><td> 3.37600</td><td> 3.20000</td><td> 4.94200</td><td> 8.09800</td><td>11.28500</td><td>13.49600</td><td>14.29800</td><td>13.73000</td><td>11.91500</td><td> 9.38700</td><td> 5.75900</td><td> 3.60000</td></tr>\n",
       "\t<tr><th scope=row>1915</th><td> 2.29900</td><td> 3.26500</td><td> 5.14300</td><td> 8.70500</td><td>11.49300</td><td>13.30000</td><td>14.44300</td><td>13.77000</td><td>11.86700</td><td> 8.98400</td><td> 6.21600</td><td> 3.63300</td></tr>\n",
       "\t<tr><th scope=row>1916</th><td> 2.61600</td><td> 2.95700</td><td> 4.84600</td><td> 8.04700</td><td>10.97200</td><td>12.94200</td><td>14.05200</td><td>13.58000</td><td>11.72600</td><td> 9.05300</td><td> 5.59600</td><td> 2.31600</td></tr>\n",
       "\t<tr><th scope=row>1917</th><td> 2.13300</td><td> 2.36000</td><td> 4.48800</td><td> 7.85500</td><td>10.44300</td><td>12.91500</td><td>14.25900</td><td>13.47100</td><td>11.74500</td><td> 8.54400</td><td> 5.82000</td><td> 2.24700</td></tr>\n",
       "\t<tr><th scope=row>1918</th><td> 1.93400</td><td> 2.45500</td><td> 4.81100</td><td> 7.64400</td><td>10.54000</td><td>12.90800</td><td>14.00200</td><td>13.43100</td><td>11.88100</td><td> 9.43300</td><td> 5.68300</td><td> 2.84800</td></tr>\n",
       "\t<tr><th scope=row>1919</th><td> 2.18400</td><td> 2.85200</td><td> 4.74300</td><td> 8.48700</td><td>10.96900</td><td>13.22800</td><td>14.27400</td><td>13.78600</td><td>11.99000</td><td> 9.36100</td><td> 5.48900</td><td> 3.22400</td></tr>\n",
       "\t<tr><th scope=row>1920</th><td> 2.84100</td><td> 2.75500</td><td> 5.22700</td><td> 8.29300</td><td>11.13100</td><td>13.10500</td><td>14.24500</td><td>13.69800</td><td>11.79400</td><td> 9.02100</td><td> 5.56600</td><td> 2.62900</td></tr>\n",
       "\t<tr><th scope=row>1921</th><td> 2.98000</td><td> 3.12500</td><td> 5.08100</td><td> 8.32400</td><td>11.24500</td><td>13.44000</td><td>14.43600</td><td>13.56100</td><td>11.86900</td><td> 9.26400</td><td> 5.86400</td><td> 3.66300</td></tr>\n",
       "\t<tr><th scope=row>1922</th><td> 2.15000</td><td> 2.37600</td><td> 5.15600</td><td> 8.38000</td><td>11.09700</td><td>13.33100</td><td>14.27800</td><td>13.58400</td><td>11.77500</td><td> 9.05600</td><td> 6.04600</td><td> 3.66700</td></tr>\n",
       "\t<tr><th scope=row>1923</th><td> 2.48700</td><td> 2.56300</td><td> 4.86600</td><td> 7.74900</td><td>10.84900</td><td>13.29600</td><td>13.98400</td><td>13.61100</td><td>11.88300</td><td> 9.52000</td><td> 6.37800</td><td> 3.88000</td></tr>\n",
       "\t<tr><th scope=row>1924</th><td> 2.33900</td><td> 2.88800</td><td> 5.35200</td><td> 7.97000</td><td>11.18800</td><td>13.34200</td><td>14.30400</td><td>13.65400</td><td>11.95700</td><td> 9.20300</td><td> 6.40000</td><td> 3.48500</td></tr>\n",
       "\t<tr><th scope=row>1925</th><td> 2.26800</td><td> 2.70100</td><td> 5.12600</td><td> 8.44200</td><td>11.03900</td><td>13.08900</td><td>14.06600</td><td>13.76900</td><td>11.97900</td><td> 9.19600</td><td> 6.34000</td><td> 4.39800</td></tr>\n",
       "\t<tr><th scope=row>1926</th><td> 3.45300</td><td> 3.71700</td><td> 5.83100</td><td> 8.19300</td><td>10.93100</td><td>13.28500</td><td>14.16800</td><td>13.87700</td><td>12.07500</td><td> 9.55000</td><td> 6.30000</td><td> 3.36600</td></tr>\n",
       "\t<tr><th scope=row>1927</th><td> 2.37200</td><td> 3.03900</td><td> 4.66800</td><td> 8.03500</td><td>11.10400</td><td>13.27200</td><td>14.32300</td><td>13.69800</td><td>12.25400</td><td> 9.88700</td><td> 6.34600</td><td> 3.26700</td></tr>\n",
       "\t<tr><th scope=row>1928</th><td> 3.04600</td><td> 3.33300</td><td> 4.95900</td><td> 8.24400</td><td>11.16900</td><td>13.11300</td><td>14.31000</td><td>13.68700</td><td>12.03000</td><td> 9.48600</td><td> 6.33600</td><td> 3.87300</td></tr>\n",
       "\t<tr><th scope=row>1929</th><td> 2.05400</td><td> 2.17200</td><td> 5.09900</td><td> 8.09400</td><td>10.91500</td><td>12.92800</td><td>13.95700</td><td>13.68000</td><td>11.80700</td><td> 9.46000</td><td> 6.17200</td><td> 2.57100</td></tr>\n",
       "\t<tr><th scope=row>1930</th><td> 2.40100</td><td> 3.15200</td><td> 5.48300</td><td> 8.18200</td><td>11.10500</td><td>13.34700</td><td>14.46500</td><td>13.92800</td><td>11.87400</td><td> 9.26100</td><td> 6.57400</td><td> 3.83100</td></tr>\n",
       "\t<tr><th scope=row>1931</th><td> 2.76100</td><td> 2.70800</td><td> 5.22000</td><td> 8.16300</td><td>11.02000</td><td>13.57300</td><td>14.57600</td><td>14.12000</td><td>12.28300</td><td> 9.93700</td><td> 6.24300</td><td> 4.02700</td></tr>\n",
       "\t<tr><th scope=row>1932</th><td> 3.60400</td><td> 2.98900</td><td> 4.94000</td><td> 8.76900</td><td>11.23900</td><td>13.38300</td><td>14.37200</td><td>13.74000</td><td>12.31000</td><td> 9.68200</td><td> 5.90800</td><td> 3.52700</td></tr>\n",
       "\t<tr><th scope=row>1933</th><td> 2.16900</td><td> 2.65700</td><td> 4.86900</td><td> 8.12500</td><td>11.04700</td><td>13.11000</td><td>14.23600</td><td>13.76000</td><td>11.85400</td><td> 9.23800</td><td> 5.89000</td><td> 3.10400</td></tr>\n",
       "\t<tr><th scope=row>1934</th><td> 2.47600</td><td> 3.69900</td><td> 4.81800</td><td> 8.01600</td><td>11.47800</td><td>13.40200</td><td>14.34300</td><td>13.77800</td><td>11.72700</td><td> 9.42100</td><td> 6.39700</td><td> 3.98500</td></tr>\n",
       "\t<tr><th scope=row>1935</th><td> 2.17500</td><td> 4.12500</td><td> 5.39900</td><td> 7.77100</td><td>10.90600</td><td>13.32600</td><td>14.33100</td><td>13.77500</td><td>11.99900</td><td> 9.51600</td><td> 5.44300</td><td> 3.42300</td></tr>\n",
       "\t<tr><th scope=row>1936</th><td> 2.24900</td><td> 2.50600</td><td> 5.03100</td><td> 8.12700</td><td>11.25100</td><td>13.36300</td><td>14.62900</td><td>13.86000</td><td>12.02100</td><td> 9.45700</td><td> 6.23300</td><td> 3.92100</td></tr>\n",
       "\t<tr><th scope=row>1937</th><td> 2.45300</td><td> 3.55300</td><td> 4.85100</td><td> 8.14000</td><td>11.42200</td><td>13.60300</td><td>14.37500</td><td>14.00700</td><td>12.41300</td><td> 9.72900</td><td> 6.35600</td><td> 3.47800</td></tr>\n",
       "\t<tr><th scope=row>1938</th><td> 2.91000</td><td> 3.41700</td><td> 5.65100</td><td> 8.91300</td><td>11.45600</td><td>13.32100</td><td>14.48200</td><td>13.96300</td><td>12.42700</td><td> 9.78400</td><td> 6.53000</td><td> 3.51000</td></tr>\n",
       "\t<tr><th scope=row>1939</th><td> 2.93200</td><td> 3.23200</td><td> 4.92600</td><td> 8.32800</td><td>11.52400</td><td>13.53100</td><td>14.39500</td><td>13.93200</td><td>11.95800</td><td> 9.21800</td><td> 6.18900</td><td> 4.95900</td></tr>\n",
       "\t<tr><th scope=row>1940</th><td> 2.33500</td><td> 3.42300</td><td> 5.42400</td><td> 8.75600</td><td>11.33800</td><td>13.58300</td><td>14.57100</td><td>13.81100</td><td>12.26800</td><td> 9.45700</td><td> 6.07600</td><td> 4.13400</td></tr>\n",
       "\t<tr><th scope=row>1941</th><td> 2.73500</td><td> 3.67000</td><td> 5.21300</td><td> 8.57500</td><td>11.49300</td><td>13.63000</td><td>14.69400</td><td>14.02800</td><td>11.81600</td><td> 9.71000</td><td> 5.95300</td><td> 3.70700</td></tr>\n",
       "\t<tr><th scope=row>1942</th><td> 3.10300</td><td> 2.85700</td><td> 5.30800</td><td> 8.41600</td><td>11.33800</td><td>13.57800</td><td>14.24200</td><td>13.78600</td><td>12.14600</td><td> 9.62700</td><td> 6.39500</td><td> 3.94500</td></tr>\n",
       "\t<tr><th scope=row>1943</th><td> 2.39600</td><td> 3.51300</td><td> 5.13800</td><td> 8.63800</td><td>11.48500</td><td>13.16100</td><td>14.46000</td><td>13.77400</td><td>12.09600</td><td> 9.90700</td><td> 6.26000</td><td> 4.23300</td></tr>\n",
       "\t<tr><th scope=row>1944</th><td> 3.50400</td><td> 3.59100</td><td> 5.53100</td><td> 8.43400</td><td>11.33400</td><td>13.47800</td><td>14.46800</td><td>14.01700</td><td>12.45000</td><td> 9.80800</td><td> 6.09100</td><td> 3.43400</td></tr>\n",
       "\t<tr><th scope=row>1945</th><td> 2.52500</td><td> 2.64600</td><td> 5.18400</td><td> 8.68100</td><td>11.09700</td><td>13.32800</td><td>14.21300</td><td>14.31300</td><td>12.22500</td><td> 9.57500</td><td> 6.07300</td><td> 3.15800</td></tr>\n",
       "\t<tr><th scope=row>1946</th><td> 2.97900</td><td> 3.46100</td><td> 5.23600</td><td> 8.83700</td><td>11.35500</td><td>13.29800</td><td>14.40900</td><td>13.83400</td><td>12.06400</td><td> 9.28100</td><td> 6.23500</td><td> 3.13400</td></tr>\n",
       "\t<tr><th scope=row>1947</th><td> 2.59700</td><td> 3.27700</td><td> 5.80100</td><td> 8.68600</td><td>11.32900</td><td>13.45900</td><td>14.34900</td><td>13.82700</td><td>12.16600</td><td>10.01100</td><td> 6.40700</td><td> 3.65600</td></tr>\n",
       "\t<tr><th scope=row>1948</th><td> 3.36600</td><td> 3.22000</td><td> 4.91900</td><td> 8.49900</td><td>11.53700</td><td>13.66400</td><td>14.44500</td><td>13.89600</td><td>12.15500</td><td> 9.58400</td><td> 6.18500</td><td> 3.49100</td></tr>\n",
       "\t<tr><th scope=row>1949</th><td> 3.21900</td><td> 2.75900</td><td> 5.07700</td><td> 8.34400</td><td>11.30900</td><td>13.22300</td><td>14.19900</td><td>13.82600</td><td>11.95700</td><td> 9.53100</td><td> 6.14800</td><td> 3.44900</td></tr>\n",
       "\t<tr><th scope=row>1950</th><td> 2.00800</td><td> 2.72100</td><td> 5.24700</td><td> 8.12300</td><td>11.29700</td><td>13.38200</td><td>14.14000</td><td>13.46000</td><td>11.95200</td><td> 9.15300</td><td> 5.37200</td><td> 3.52800</td></tr>\n",
       "\t<tr><th scope=row>1951</th><td> 2.13800</td><td> 2.33200</td><td> 5.09100</td><td> 8.36700</td><td>11.43800</td><td>13.25000</td><td>14.32400</td><td>14.02100</td><td>12.32400</td><td> 9.67000</td><td> 6.22500</td><td> 4.32800</td></tr>\n",
       "\t<tr><th scope=row>1952</th><td> 3.04900</td><td> 3.39600</td><td> 4.96700</td><td> 8.46100</td><td>11.35200</td><td>13.44200</td><td>14.54900</td><td>13.96400</td><td>12.23800</td><td> 9.15700</td><td> 5.42500</td><td> 3.65900</td></tr>\n",
       "\t<tr><th scope=row>1953</th><td> 2.96400</td><td> 3.62900</td><td> 5.71200</td><td> 8.89200</td><td>11.51400</td><td>13.61200</td><td>14.39200</td><td>14.05900</td><td>12.19900</td><td> 9.59000</td><td> 5.92400</td><td> 3.99800</td></tr>\n",
       "\t<tr><th scope=row>1954</th><td> 2.05900</td><td> 3.08400</td><td> 5.14800</td><td> 8.15800</td><td>10.98800</td><td>13.40000</td><td>14.24100</td><td>13.86800</td><td>12.09800</td><td> 9.54600</td><td> 6.57900</td><td> 3.55900</td></tr>\n",
       "\t<tr><th scope=row>1955</th><td> 3.41200</td><td> 3.13700</td><td> 4.58500</td><td> 8.13600</td><td>11.19200</td><td>13.56000</td><td>14.24200</td><td>14.28300</td><td>11.95400</td><td> 9.73500</td><td> 5.97300</td><td> 3.30600</td></tr>\n",
       "\t<tr><th scope=row>1956</th><td> 2.46600</td><td> 2.78100</td><td> 4.88900</td><td> 7.92200</td><td>10.72100</td><td>13.16000</td><td>14.18000</td><td>13.18900</td><td>11.78300</td><td> 8.92800</td><td> 5.73800</td><td> 3.59800</td></tr>\n",
       "\t<tr><th scope=row>1957</th><td> 2.48800</td><td> 3.12000</td><td> 5.03600</td><td> 8.36600</td><td>11.25900</td><td>13.78300</td><td>14.12900</td><td>14.08200</td><td>12.31200</td><td> 9.49600</td><td> 6.39100</td><td> 4.32800</td></tr>\n",
       "\t<tr><th scope=row>1958</th><td> 3.57400</td><td> 3.69500</td><td> 5.45300</td><td> 8.52000</td><td>11.51900</td><td>13.18700</td><td>14.43800</td><td>13.59700</td><td>11.84500</td><td> 9.37500</td><td> 6.26000</td><td> 3.82200</td></tr>\n",
       "\t<tr><th scope=row>1959</th><td> 2.95900</td><td> 3.33000</td><td> 5.85400</td><td> 8.81900</td><td>11.32300</td><td>13.57700</td><td>14.44900</td><td>13.85300</td><td>11.94600</td><td> 9.16000</td><td> 5.75200</td><td> 3.77000</td></tr>\n",
       "\t<tr><th scope=row>1960</th><td> 2.71300</td><td> 3.79800</td><td> 4.30300</td><td> 8.13300</td><td>10.87200</td><td>13.48400</td><td>14.19800</td><td>13.82500</td><td>12.09500</td><td> 9.49700</td><td> 5.82800</td><td> 4.25900</td></tr>\n",
       "\t<tr><th scope=row>1961</th><td> 2.92600</td><td> 3.68300</td><td> 5.58900</td><td> 8.63100</td><td>11.62400</td><td>13.70200</td><td>14.28800</td><td>13.84900</td><td>12.24700</td><td> 9.32800</td><td> 6.20500</td><td> 3.50000</td></tr>\n",
       "\t<tr><th scope=row>1962</th><td> 3.00300</td><td> 3.69600</td><td> 5.53000</td><td> 8.54000</td><td>11.12800</td><td>13.42700</td><td>14.20500</td><td>13.71300</td><td>12.01800</td><td> 9.46800</td><td> 6.28300</td><td> 3.94000</td></tr>\n",
       "\t<tr><th scope=row>1963</th><td> 2.90100</td><td> 4.02000</td><td> 5.09700</td><td> 8.17300</td><td>11.04500</td><td>13.41200</td><td>14.50600</td><td>14.30900</td><td>12.55500</td><td> 9.94300</td><td> 6.56100</td><td> 3.75000</td></tr>\n",
       "\t<tr><th scope=row>1964</th><td> 2.88100</td><td> 3.02800</td><td> 4.86500</td><td> 7.92200</td><td>10.90500</td><td>13.45900</td><td>14.30100</td><td>13.67800</td><td>11.60400</td><td> 8.83200</td><td> 5.98300</td><td> 3.45800</td></tr>\n",
       "\t<tr><th scope=row>1965</th><td> 2.86200</td><td> 3.03600</td><td> 5.18200</td><td> 7.99000</td><td>11.22200</td><td>13.30800</td><td>14.07800</td><td>13.80700</td><td>11.73000</td><td> 9.48800</td><td> 5.86000</td><td> 3.76600</td></tr>\n",
       "\t<tr><th scope=row>1966</th><td> 2.49000</td><td> 3.29000</td><td> 5.52700</td><td> 8.16100</td><td>11.20000</td><td>13.58700</td><td>14.56900</td><td>13.73100</td><td>12.13300</td><td> 9.15300</td><td> 5.96900</td><td> 3.38200</td></tr>\n",
       "\t<tr><th scope=row>1967</th><td> 2.71000</td><td> 2.90500</td><td> 5.39600</td><td> 8.45800</td><td>11.63200</td><td>13.19400</td><td>14.33100</td><td>13.82100</td><td>12.05400</td><td> 9.80900</td><td> 6.17600</td><td> 3.91500</td></tr>\n",
       "\t<tr><th scope=row>1968</th><td> 2.35300</td><td> 3.24500</td><td> 6.11700</td><td> 8.45500</td><td>11.06800</td><td>13.20400</td><td>14.02600</td><td>13.52400</td><td>11.62000</td><td> 9.45300</td><td> 5.89100</td><td> 3.24000</td></tr>\n",
       "\t<tr><th scope=row>1969</th><td> 1.96600</td><td> 2.45000</td><td> 5.13100</td><td> 8.57600</td><td>11.35400</td><td>13.47500</td><td>14.21800</td><td>13.80400</td><td>12.04800</td><td> 9.48900</td><td> 6.42000</td><td> 4.21000</td></tr>\n",
       "\t<tr><th scope=row>1970</th><td> 2.83600</td><td> 3.73500</td><td> 5.27200</td><td> 8.60300</td><td>11.20600</td><td>13.51300</td><td>14.39500</td><td>13.65800</td><td>12.27700</td><td> 9.34800</td><td> 6.04700</td><td> 3.52100</td></tr>\n",
       "\t<tr><th scope=row>1971</th><td> 2.96700</td><td> 2.86700</td><td> 5.00100</td><td> 8.33900</td><td>11.21100</td><td>13.09900</td><td>14.13900</td><td>13.87900</td><td>12.13900</td><td> 9.38800</td><td> 6.29500</td><td> 3.86700</td></tr>\n",
       "\t<tr><th scope=row>1972</th><td> 1.88200</td><td> 2.60900</td><td> 5.28700</td><td> 8.33700</td><td>11.15500</td><td>13.50100</td><td>14.23100</td><td>14.17100</td><td>11.90100</td><td> 9.34600</td><td> 5.79700</td><td> 3.77800</td></tr>\n",
       "\t<tr><th scope=row>1973</th><td> 3.03800</td><td> 3.89800</td><td> 5.82000</td><td> 8.93800</td><td>11.76900</td><td>13.82400</td><td>14.43500</td><td>13.86900</td><td>12.12500</td><td> 9.60900</td><td> 6.22200</td><td> 3.83200</td></tr>\n",
       "\t<tr><th scope=row>1974</th><td> 2.26100</td><td> 2.58200</td><td> 5.19000</td><td> 8.38600</td><td>11.19800</td><td>13.38200</td><td>14.28800</td><td>14.01600</td><td>11.74400</td><td> 9.09800</td><td> 5.91500</td><td> 3.55000</td></tr>\n",
       "\t<tr><th scope=row>1975</th><td> 3.05900</td><td> 3.39500</td><td> 5.70600</td><td> 8.58400</td><td>11.74200</td><td>13.55700</td><td>14.35100</td><td>13.51400</td><td>12.15200</td><td> 9.31800</td><td> 5.89300</td><td> 3.66700</td></tr>\n",
       "\t<tr><th scope=row>1976</th><td> 2.88400</td><td> 3.03100</td><td> 4.51700</td><td> 8.29400</td><td>10.94200</td><td>13.08600</td><td>14.15500</td><td>13.51100</td><td>11.89500</td><td> 8.51100</td><td> 5.66000</td><td> 3.68100</td></tr>\n",
       "\t<tr><th scope=row>1977</th><td> 2.49200</td><td> 3.47100</td><td> 5.70200</td><td> 8.85000</td><td>11.78000</td><td>13.87600</td><td>14.63100</td><td>14.09000</td><td>11.86200</td><td> 9.15600</td><td> 6.54400</td><td> 3.74900</td></tr>\n",
       "\t<tr><th scope=row>1978</th><td> 2.70500</td><td> 3.45600</td><td> 5.60700</td><td> 8.79100</td><td>11.41400</td><td>13.22000</td><td>14.36400</td><td>13.29700</td><td>12.03000</td><td> 9.33900</td><td> 6.35000</td><td> 3.74000</td></tr>\n",
       "\t<tr><th scope=row>1979</th><td> 2.67900</td><td> 2.84100</td><td> 5.47400</td><td> 8.45500</td><td>11.19900</td><td>13.48700</td><td>14.11400</td><td>13.83300</td><td>12.24700</td><td> 9.58600</td><td> 6.28600</td><td> 4.60000</td></tr>\n",
       "\t<tr><th scope=row>1980</th><td> 2.95600</td><td> 3.65200</td><td> 5.36700</td><td> 8.93500</td><td>11.77000</td><td>13.58200</td><td>14.74200</td><td>14.18900</td><td>12.32100</td><td> 9.55000</td><td> 6.68400</td><td> 4.01600</td></tr>\n",
       "\t<tr><th scope=row>1981</th><td> 3.78500</td><td> 4.02100</td><td> 6.23900</td><td> 8.95300</td><td>11.56500</td><td>13.76500</td><td>14.73800</td><td>14.50200</td><td>12.23600</td><td> 9.39400</td><td> 6.27300</td><td> 4.51900</td></tr>\n",
       "\t<tr><th scope=row>1982</th><td> 2.55800</td><td> 3.28100</td><td> 4.87300</td><td> 8.46500</td><td>11.34800</td><td>13.24500</td><td>14.54500</td><td>13.79600</td><td>12.03900</td><td> 9.23200</td><td> 5.96100</td><td> 4.32700</td></tr>\n",
       "\t<tr><th scope=row>1983</th><td> 3.44500</td><td> 3.81400</td><td> 5.69900</td><td> 8.69300</td><td>11.72900</td><td>13.47800</td><td>14.40800</td><td>14.30200</td><td>12.69800</td><td> 9.47800</td><td> 6.76500</td><td> 3.82900</td></tr>\n",
       "\t<tr><th scope=row>1984</th><td> 2.94100</td><td> 3.09300</td><td> 5.67100</td><td> 8.43200</td><td>11.97600</td><td>13.38700</td><td>14.42900</td><td>13.98400</td><td>12.01500</td><td> 9.37800</td><td> 5.81100</td><td> 3.18500</td></tr>\n",
       "\t<tr><th scope=row>1985</th><td> 3.01000</td><td> 2.70400</td><td> 5.45100</td><td> 8.63300</td><td>11.42600</td><td>13.56900</td><td>13.97300</td><td>14.05900</td><td>11.98000</td><td> 9.33800</td><td> 5.96800</td><td> 3.78500</td></tr>\n",
       "\t<tr><th scope=row>1986</th><td> 3.31500</td><td> 3.99100</td><td> 5.75500</td><td> 8.87100</td><td>11.58100</td><td>13.43900</td><td>14.29300</td><td>13.97200</td><td>11.81700</td><td> 9.29900</td><td> 5.91900</td><td> 3.75100</td></tr>\n",
       "\t<tr><th scope=row>1987</th><td> 3.13900</td><td> 4.13400</td><td> 5.24500</td><td> 8.59500</td><td>11.52500</td><td>13.92700</td><td>14.89000</td><td>13.89600</td><td>12.44700</td><td> 9.59000</td><td> 6.05600</td><td> 4.48900</td></tr>\n",
       "\t<tr><th scope=row>1988</th><td> 3.45400</td><td> 3.42200</td><td> 5.93100</td><td> 8.99200</td><td>11.85200</td><td>14.09900</td><td>14.79800</td><td>14.55300</td><td>12.68100</td><td> 9.97900</td><td> 6.29500</td><td> 4.36300</td></tr>\n",
       "\t<tr><th scope=row>1989</th><td> 2.71000</td><td> 3.62700</td><td> 5.79200</td><td> 8.68900</td><td>11.28000</td><td>13.44700</td><td>14.61200</td><td>14.13500</td><td>12.40300</td><td> 9.76000</td><td> 6.17900</td><td> 4.43000</td></tr>\n",
       "\t<tr><th scope=row>1990</th><td> 3.24300</td><td> 3.64300</td><td> 6.73000</td><td> 9.16900</td><td>11.83100</td><td>13.89300</td><td>14.78400</td><td>14.09500</td><td>12.19500</td><td> 9.88200</td><td> 6.92000</td><td> 4.42500</td></tr>\n",
       "\t<tr><th scope=row>1991</th><td> 3.19500</td><td> 4.04400</td><td> 5.57400</td><td> 9.22600</td><td>11.61600</td><td>14.26300</td><td>14.98700</td><td>14.31900</td><td>12.67700</td><td> 9.75300</td><td> 6.44000</td><td> 4.05900</td></tr>\n",
       "\t<tr><th scope=row>1992</th><td> 3.57900</td><td> 3.93100</td><td> 5.95200</td><td> 8.57200</td><td>11.53500</td><td>13.57600</td><td>14.13900</td><td>13.76600</td><td>11.67200</td><td> 9.35300</td><td> 5.88900</td><td> 4.07500</td></tr>\n",
       "\t<tr><th scope=row>1993</th><td> 3.30100</td><td> 3.74500</td><td> 5.92300</td><td> 8.69000</td><td>11.47500</td><td>13.51800</td><td>14.59500</td><td>13.83500</td><td>11.93000</td><td> 9.61400</td><td> 5.73800</td><td> 4.03500</td></tr>\n",
       "\t<tr><th scope=row>1994</th><td> 3.02400</td><td> 2.81000</td><td> 5.73100</td><td> 9.01800</td><td>11.68400</td><td>14.14400</td><td>14.65800</td><td>13.97700</td><td>12.51600</td><td>10.00200</td><td> 6.78800</td><td> 4.11300</td></tr>\n",
       "\t<tr><th scope=row>1995</th><td> 3.54000</td><td> 4.65600</td><td> 5.95600</td><td> 8.97200</td><td>11.57000</td><td>14.16400</td><td>15.11600</td><td>14.63600</td><td>12.56500</td><td>10.10600</td><td> 6.76100</td><td> 4.12300</td></tr>\n",
       "\t<tr><th scope=row>1996</th><td> 2.86200</td><td> 4.01200</td><td> 5.52400</td><td> 8.67900</td><td>11.58800</td><td>13.68100</td><td>14.82700</td><td>14.60300</td><td>12.29400</td><td> 9.52500</td><td> 6.54700</td><td> 4.32500</td></tr>\n",
       "\t<tr><th scope=row>1997</th><td> 3.16500</td><td> 3.76600</td><td> 6.01200</td><td> 8.89100</td><td>11.59300</td><td>14.13100</td><td>14.56500</td><td>14.25600</td><td>12.68500</td><td>10.10900</td><td> 6.84100</td><td> 4.41700</td></tr>\n",
       "\t<tr><th scope=row>1998</th><td> 3.35200</td><td> 4.82600</td><td> 6.02300</td><td> 9.35800</td><td>12.29100</td><td>14.52100</td><td>15.34000</td><td>14.87400</td><td>12.67300</td><td> 9.94100</td><td> 6.40400</td><td> 4.66900</td></tr>\n",
       "\t<tr><th scope=row>1999</th><td> 3.54400</td><td> 4.69400</td><td> 5.53000</td><td> 8.83800</td><td>11.70600</td><td>14.03100</td><td>14.85300</td><td>14.34800</td><td>12.72300</td><td> 9.99700</td><td> 6.59200</td><td> 4.56500</td></tr>\n",
       "\t<tr><th scope=row>2000</th><td> 2.95000</td><td> 4.18400</td><td> 6.21900</td><td> 9.55200</td><td>11.87400</td><td>14.06000</td><td>14.84800</td><td>14.51900</td><td>12.54700</td><td> 9.48600</td><td> 6.31200</td><td> 3.86300</td></tr>\n",
       "\t<tr><th scope=row>2001</th><td> 3.33600</td><td> 3.72000</td><td> 6.20800</td><td> 9.24500</td><td>12.27100</td><td>14.11000</td><td>15.16100</td><td>14.42700</td><td>12.73600</td><td> 9.93500</td><td> 7.31900</td><td> 4.50700</td></tr>\n",
       "\t<tr><th scope=row>2002</th><td> 4.02600</td><td> 4.70400</td><td> 6.77200</td><td> 9.22900</td><td>12.24800</td><td>14.08400</td><td>15.35400</td><td>14.56000</td><td>12.95000</td><td> 9.98800</td><td> 6.89200</td><td> 4.03800</td></tr>\n",
       "\t<tr><th scope=row>2003</th><td> 3.98100</td><td> 4.08500</td><td> 6.04800</td><td> 9.15400</td><td>12.15300</td><td>14.01700</td><td>14.98300</td><td>14.69100</td><td>12.91100</td><td>10.42400</td><td> 6.72700</td><td> 5.13300</td></tr>\n",
       "\t<tr><th scope=row>2004</th><td> 3.52500</td><td> 4.49900</td><td> 6.32100</td><td> 9.24900</td><td>11.57100</td><td>13.88900</td><td>14.31200</td><td>14.18800</td><td>12.64200</td><td>10.12700</td><td> 7.31500</td><td> 4.25700</td></tr>\n",
       "\t<tr><th scope=row>2005</th><td> 3.80800</td><td> 3.92000</td><td> 6.54400</td><td> 9.61800</td><td>12.22600</td><td>14.47600</td><td>15.19000</td><td>14.51000</td><td>13.21700</td><td>10.60100</td><td> 7.42300</td><td> 4.87800</td></tr>\n",
       "\t<tr><th scope=row>2006</th><td> 3.28600</td><td> 4.43000</td><td> 6.32900</td><td> 9.05500</td><td>11.78600</td><td>14.44300</td><td>15.04200</td><td>14.91300</td><td>12.87500</td><td>10.28900</td><td> 6.95500</td><td> 4.98700</td></tr>\n",
       "\t<tr><th scope=row>2007</th><td> 4.57900</td><td> 4.22100</td><td> 6.48500</td><td> 9.82300</td><td>12.51800</td><td>14.30900</td><td>15.23000</td><td>14.75200</td><td>12.93000</td><td>10.33200</td><td> 7.08400</td><td> 4.52300</td></tr>\n",
       "\t<tr><th scope=row>2008</th><td> 2.84400</td><td> 3.57600</td><td> 6.90600</td><td> 9.29500</td><td>12.05400</td><td>14.14500</td><td>15.17400</td><td>14.37700</td><td>12.80200</td><td>10.39900</td><td> 7.22400</td><td> 4.38500</td></tr>\n",
       "\t<tr><th scope=row>2009</th><td> 3.68700</td><td> 4.09400</td><td> 6.08600</td><td> 9.36700</td><td>12.11200</td><td>14.20100</td><td>15.23100</td><td>14.65500</td><td>13.15300</td><td>10.13600</td><td> 7.03100</td><td> 4.31000</td></tr>\n",
       "\t<tr><th scope=row>2010</th><td> 3.73700</td><td> 4.39900</td><td> 6.73800</td><td> 9.67100</td><td>12.40600</td><td>14.42100</td><td>15.21300</td><td>14.76800</td><td>12.86300</td><td>10.44200</td><td> 7.48700</td><td> 4.29200</td></tr>\n",
       "\t<tr><th scope=row>2011</th><td> 3.28200</td><td> 3.74300</td><td> 6.10100</td><td> 9.48300</td><td>11.98600</td><td>14.37000</td><td>15.48200</td><td>15.01200</td><td>12.91200</td><td>10.35200</td><td> 6.81400</td><td> 4.65500</td></tr>\n",
       "\t<tr><th scope=row>2012</th><td> 3.15700</td><td> 3.62800</td><td> 6.02300</td><td> 9.67600</td><td>12.59000</td><td>14.49200</td><td>15.07600</td><td>14.72000</td><td>13.04000</td><td>10.42800</td><td> 7.15600</td><td> 4.10200</td></tr>\n",
       "\t<tr><th scope=row>2013</th><td> 3.68500</td><td> 4.22200</td><td> 6.26100</td><td> 9.04400</td><td>12.19500</td><td>14.56800</td><td>15.00300</td><td>14.74200</td><td>13.15400</td><td>10.25600</td><td> 7.42400</td><td> 4.72400</td></tr>\n",
       "\t<tr><th scope=row>2014</th><td> 3.73200</td><td> 3.50000</td><td> 6.37800</td><td> 9.58900</td><td>12.58200</td><td>14.33500</td><td>14.87300</td><td>14.87500</td><td>13.09100</td><td>10.33000</td><td> 6.71300</td><td> 4.85000</td></tr>\n",
       "\t<tr><th scope=row>2015</th><td> 3.88100</td><td> 4.66400</td><td> 6.74000</td><td> 9.31300</td><td>12.31200</td><td>14.50500</td><td>15.05100</td><td>14.75500</td><td>12.99900</td><td>10.80100</td><td> 7.43300</td><td> 5.51800</td></tr>\n",
       "</tbody>\n",
       "</table>\n"
      ],
      "text/latex": [
       "\\begin{tabular}{r|llllllllllll}\n",
       "  & Jan & Feb & Mar & Apr & May & Jun & Jul & Aug & Sep & Oct & Nov & Dec\\\\\n",
       "\\hline\n",
       "\t1750 &  3.03400 &  3.08300 &  5.62600 &  8.49000 & 11.57300 & 12.93700 & 15.86800 & 14.75000 & 11.41300 &  6.36700 &  4.56950 &  2.77200\\\\\n",
       "\t1751 &  2.49500 &  0.96300 &  5.80000 &  7.67000 & 10.74850 & 13.82700 & 14.11600 & 14.40500 & 10.67300 &  8.09175 &  5.51050 &  2.92925\\\\\n",
       "\t1752 &  0.34800 &  3.07700 &  5.80600 &  8.26500 &  8.19400 &  8.12300 &  8.05200 &  7.98100 &  7.91000 &  7.83900 &  7.33500 &  5.08600\\\\\n",
       "\t1753 &  2.03900 &  0.71500 &  5.42400 &  8.27200 & 12.18600 & 14.58500 & 15.09200 & 14.14800 & 13.32200 &  8.96200 &  5.35300 &  0.55900\\\\\n",
       "\t1754 &  1.57400 & -1.24900 &  3.67700 & 11.61000 & 11.93600 & 14.38800 & 14.68100 & 13.55600 & 11.12900 &  9.58200 &  6.16100 &  4.58700\\\\\n",
       "\t1755 &  1.06700 & -0.10800 &  3.60700 &  9.26300 & 12.88100 & 15.38000 & 14.39700 & 13.51500 & 11.77300 &  9.97000 &  5.95800 &  2.56400\\\\\n",
       "\t1756 &  3.88700 &  5.66600 &  4.19200 & 10.04200 & 14.16400 & 14.54700 & 13.90600 & 13.43700 & 12.65200 &  7.31200 &  4.22500 &  2.16500\\\\\n",
       "\t1757 & -0.27600 &  3.70400 &  4.52900 &  8.24600 & 13.03900 & 17.11500 & 17.61000 & 17.91000 & 14.85200 &  6.48200 &  4.03200 &  1.02100\\\\\n",
       "\t1758 & -1.50300 &  0.80600 &  3.76500 &  7.21000 &  9.71500 & 13.13900 & 13.84700 & 11.81800 & 10.02800 &  1.89400 &  6.95500 &  3.24900\\\\\n",
       "\t1759 &  5.01400 &  4.08200 &  4.52000 &  5.98300 & 10.18900 & 13.51200 & 12.52600 & 14.58700 & 12.62600 &  8.26700 &  4.26800 &  0.24700\\\\\n",
       "\t1760 & -0.81100 &  2.43600 &  1.86400 &  7.43600 & 10.66100 & 11.94500 & 12.88700 & 13.91700 & 11.19700 &  6.70100 &  5.43600 &  2.55300\\\\\n",
       "\t1761 &  0.60000 &  2.73500 &  5.97600 &  7.32100 & 13.45100 & 16.82100 & 19.02100 & 15.33100 & 12.53500 &  7.22700 &  5.08900 & -0.83700\\\\\n",
       "\t1762 &  6.86600 &  4.80100 &  3.52800 &  9.01900 & 10.88100 & 13.49900 & 14.72000 & 13.99200 & 10.32600 &  6.15600 &  6.36700 &  3.12300\\\\\n",
       "\t1763 &  1.36900 &  0.77100 &  1.57600 &  7.87100 & 10.70100 & 12.27100 & 16.39100 & 14.12600 & 11.37800 &  5.53500 &  4.58800 &  3.38400\\\\\n",
       "\t1764 &  1.74100 &  6.16200 &  5.52100 &  7.88000 & 11.17500 & 11.72300 & 12.50700 & 12.28200 & 10.69600 & 10.01100 &  5.79100 &  5.31500\\\\\n",
       "\t1765 &  3.78000 &  3.83200 &  6.85900 &  9.01300 & 10.73400 & 10.83300 & 13.95300 & 13.12000 & 10.99300 &  7.90400 &  5.60300 &  2.39900\\\\\n",
       "\t1766 & -0.79300 &  4.89600 &  6.06200 &  8.00700 & 11.22800 & 13.65300 & 13.55500 & 13.75800 & 12.25000 &  8.46500 &  7.45400 &  2.33300\\\\\n",
       "\t1767 & -0.64300 &  3.93200 &  7.02200 &  6.27800 & 10.19300 & 14.11200 & 13.36100 & 14.59700 & 11.67500 &  9.02700 &  7.91500 &  1.18900\\\\\n",
       "\t1768 & -2.08000 &  0.50600 &  2.44600 &  6.92000 &  9.06600 & 12.49000 & 13.87500 & 12.35200 & 10.82400 &  7.72900 &  4.58100 &  2.66700\\\\\n",
       "\t1769 &  2.30500 &  2.16400 &  4.57000 &  8.96700 & 12.87300 & 15.14200 & 14.46100 & 13.49400 & 11.25000 &  5.29700 &  2.79000 & -0.97800\\\\\n",
       "\t1770 &  1.97400 &  4.10500 &  1.61200 &  9.78800 &  9.99600 & 11.88400 & 11.62100 & 11.41300 & 10.72400 &  8.66100 &  5.79100 &  4.73400\\\\\n",
       "\t1771 &  5.10100 & -0.27400 &  2.81400 &  5.71700 &  9.62600 & 14.10400 & 13.82800 & 14.20400 & 11.36300 & 10.31700 &  4.91600 &  2.52200\\\\\n",
       "\t1772 &  1.25300 &  1.47800 &  3.05700 &  8.85800 &  9.53100 & 12.64700 & 14.58100 & 14.09800 & 10.30300 &  9.26800 &  7.73600 &  5.51200\\\\\n",
       "\t1773 & -0.43700 &  1.42100 &  4.42200 &  9.41500 & 12.76400 & 12.81100 & 14.48400 & 13.62400 & 12.48800 &  9.20600 &  3.36900 &  5.09100\\\\\n",
       "\t1774 & -0.32500 &  4.91400 &  5.64300 & 10.15300 & 16.02500 & 15.37100 & 16.52100 & 14.09900 & 10.93600 &  8.59000 &  3.02900 &  0.31000\\\\\n",
       "\t1775 &  4.26100 &  6.42700 &  7.75900 &  7.95200 & 11.39900 & 12.31400 & 14.71900 & 14.43500 & 11.09600 & 10.37200 &  8.17900 &  1.28400\\\\\n",
       "\t1776 & -0.80600 &  4.82500 &  4.65200 &  7.44000 & 10.47500 & 14.56400 & 14.10800 & 14.83700 & 10.60200 &  8.06000 &  5.87000 &  5.02100\\\\\n",
       "\t1777 &  6.02100 &  4.91900 &  5.57200 &  6.36200 & 11.38900 & 12.32300 & 12.74300 & 12.81500 & 11.37900 &  6.95600 &  5.52900 &  3.06700\\\\\n",
       "\t1778 &  2.52100 &  6.09400 &  4.60400 & 10.98400 & 11.28600 & 11.73100 & 15.03700 & 12.86900 & 13.37700 &  8.04900 &  3.85400 &  2.10100\\\\\n",
       "\t1779 &  1.47000 &  5.14000 &  6.96700 &  9.96500 & 14.18000 & 12.54700 & 13.65900 & 13.79900 & 12.68300 &  9.35000 &  5.77000 &  2.26900\\\\\n",
       "\t1780 &  2.51500 &  4.08000 &  5.72400 & 13.73200 & 15.75700 & 14.74700 & 16.18300 & 12.94700 &  8.84400 &  9.37600 &  6.70600 &  2.58400\\\\\n",
       "\t1781 &  2.40100 &  2.26700 &  4.77200 &  6.92300 & 11.10200 & 11.67800 & 14.28500 & 14.14100 & 10.30400 &  8.54700 &  7.52300 &  3.28800\\\\\n",
       "\t1782 &  0.34100 &  0.63900 &  2.56500 &  8.61800 & 10.99000 & 13.80100 & 13.92500 & 15.68300 & 12.39800 &  8.97800 &  4.95600 &  1.92100\\\\\n",
       "\t1783 & -1.43100 &  5.29400 &  4.79900 &  8.57400 & 11.81900 & 14.34000 & 13.06900 & 13.97100 &  9.95800 &  7.35700 &  2.19600 &  2.22400\\\\\n",
       "\t1784 &  2.59600 &  0.98900 &  3.91900 &  8.14200 & 10.01300 & 12.80300 & 14.94700 & 15.86100 & 10.26600 &  6.83600 &  4.55700 &  3.41500\\\\\n",
       "\t1785 &  0.86500 &  1.04500 &  2.28900 &  6.37900 &  9.85300 & 13.74400 & 14.46800 & 14.46600 & 10.49700 &  7.35100 &  5.52600 &  1.87300\\\\\n",
       "\t1786 &  0.76300 &  2.65700 &  5.64800 &  9.31800 & 11.58300 & 13.03500 & 15.29400 & 14.45500 & 12.15800 &  7.71200 &  5.74100 &  0.73400\\\\\n",
       "\t1787 &  2.84500 &  2.56300 &  4.69800 &  7.77200 & 11.40300 & 14.36900 & 13.45100 & 13.55500 & 10.35700 &  7.77200 &  5.80100 &  1.79600\\\\\n",
       "\t1788 &  0.73500 &  3.58100 &  5.33600 &  8.71400 & 10.42800 & 13.80800 & 16.46800 & 13.88500 & 11.69900 &  9.34900 &  6.11100 &  1.25200\\\\\n",
       "\t1789 &  3.70600 &  1.67500 &  3.98900 &  7.69400 & 11.66600 & 13.50700 & 15.46200 & 13.84000 & 12.01800 &  7.39000 &  5.96400 &  3.09900\\\\\n",
       "\t1790 &  2.44400 &  2.97300 &  4.58200 &  6.05300 & 10.35700 & 13.74600 & 13.81200 & 13.92500 & 11.23300 &  8.57700 &  5.33100 &  2.75500\\\\\n",
       "\t1791 &  1.49300 &  3.46600 &  4.79000 &  9.12700 &  9.85900 & 13.23100 & 13.61200 & 13.74400 & 11.67700 &  8.08000 &  6.20600 &  3.52600\\\\\n",
       "\t1792 &  0.34800 &  3.62000 &  4.42900 &  7.99400 & 11.32100 & 13.58100 & 14.21200 & 12.28100 & 12.49100 &  8.09700 &  5.30600 &  3.38800\\\\\n",
       "\t1793 &  0.52100 &  4.74500 &  5.04200 &  8.64300 & 11.05900 & 13.14600 & 14.33600 & 13.16000 & 12.00200 &  8.39300 &  5.66600 &  2.03700\\\\\n",
       "\t1794 &  3.71000 &  3.60500 &  5.69600 &  9.36700 & 12.37600 & 11.99400 & 12.87400 & 13.48400 & 11.89600 &  9.10800 &  5.28400 &  2.91800\\\\\n",
       "\t1795 &  2.73100 &  4.39000 &  5.70900 &  8.91800 & 11.02900 & 13.29300 & 14.29500 & 13.14000 & 11.13300 &  7.78600 &  5.20700 &  2.57300\\\\\n",
       "\t1796 &  2.84400 &  2.73600 &  3.47700 &  7.77300 & 11.27300 & 14.21600 & 14.31400 & 14.72200 & 12.01200 &  8.92400 &  5.70200 &  1.25900\\\\\n",
       "\t1797 &  4.39600 &  4.95700 &  4.05600 &  6.60000 & 10.41700 & 13.85200 & 14.10700 & 14.04000 & 12.45900 &  9.19100 &  4.77700 &  3.27500\\\\\n",
       "\t1798 &  2.67900 &  3.21300 &  7.00800 &  8.08300 & 11.76900 & 13.24600 & 14.95100 & 14.75400 & 11.62700 &  8.65500 &  6.03100 &  2.02700\\\\\n",
       "\t1799 &  1.92300 &  2.07800 &  3.98600 &  8.78600 & 11.35300 & 13.68000 & 14.86900 & 14.08600 & 12.31100 &  9.60600 &  5.90400 &  3.48700\\\\\n",
       "\t1800 &  2.81500 &  3.63400 &  4.45200 &  9.12500 & 11.09700 & 13.60600 & 13.76300 & 13.61900 & 10.79500 &  9.46900 &  5.57200 &  3.86400\\\\\n",
       "\t1801 &  2.68700 &  3.14900 &  6.45500 &  7.40400 & 12.12300 & 12.53600 & 14.67600 & 13.18700 & 11.46200 &  9.09900 &  5.72000 &  4.57800\\\\\n",
       "\t1802 &  3.74000 &  2.82800 &  5.20100 &  7.62300 & 10.45700 & 14.47100 & 14.62800 & 14.03900 & 11.78800 &  9.74700 &  5.53500 &  2.88100\\\\\n",
       "\t1803 &  0.60200 &  1.44300 &  4.87500 &  9.29100 & 11.79500 & 13.82100 & 15.10600 & 15.36600 & 12.33000 &  9.11900 &  5.96100 &  2.32700\\\\\n",
       "\t1804 &  2.44500 &  1.93900 &  4.42500 & 10.05700 & 12.10700 & 13.77400 & 15.77400 & 14.51100 & 12.46800 &  9.28200 &  7.13200 &  2.22400\\\\\n",
       "\t1805 &  2.82200 &  2.55700 &  5.76000 &  8.12300 & 11.10400 & 14.02700 & 14.70200 & 15.27000 & 12.03900 &  7.63600 &  4.55500 &  4.15800\\\\\n",
       "\t1806 &  2.91700 &  2.93700 &  4.69100 &  8.03200 & 11.50300 & 12.41800 & 13.92300 & 14.59300 & 12.54900 &  8.42600 &  5.23100 &  3.98900\\\\\n",
       "\t1807 &  1.05500 &  4.09400 &  4.78800 &  6.97100 &  9.33100 & 13.29300 & 14.13800 & 13.79900 & 12.61500 &  8.85700 &  6.01500 &  4.42100\\\\\n",
       "\t1808 &  1.13100 &  2.14200 &  4.36100 &  7.48200 &  9.35700 & 13.42900 & 14.49100 & 13.04700 & 12.71100 &  7.97200 &  4.51200 &  0.88700\\\\\n",
       "\t1809 &  0.20800 &  0.85600 &  3.42500 &  7.83300 &  9.24300 & 12.99800 & 12.65600 & 12.90500 & 10.96700 &  8.65000 &  3.09900 &  2.07700\\\\\n",
       "\t1810 &  0.88800 &  2.39100 &  5.01400 &  6.53300 &  9.06900 & 11.93400 & 12.55100 & 12.04100 &  9.53200 &  6.63200 &  3.82700 &  2.66000\\\\\n",
       "\t1811 &  1.37400 &  0.45000 &  3.70100 &  6.30200 &  9.44300 & 12.13700 & 11.95600 & 13.32600 & 10.36800 &  6.58000 &  3.50300 &  3.17400\\\\\n",
       "\t1812 &  0.97700 &  0.13100 &  2.04400 &  6.95000 &  9.58000 & 12.00500 & 14.35500 & 15.01800 & 10.18500 &  7.59300 &  4.36900 &  1.34800\\\\\n",
       "\t1813 & -1.38500 &  2.25800 &  1.59600 &  8.18200 & 11.36700 & 13.24200 & 14.52100 & 13.09700 & 12.33900 &  8.66600 &  6.82500 &  2.17100\\\\\n",
       "\t1814 &  1.50200 &  1.68900 &  2.66400 &  7.19300 &  9.41700 & 12.81800 & 12.53200 & 12.66800 & 10.67600 &  7.37400 &  6.73900 &  5.82900\\\\\n",
       "\t1815 &  2.05100 &  2.27300 &  3.66300 &  6.58800 &  9.84500 & 11.16200 & 14.39400 & 13.20900 & 11.15100 &  7.13700 &  4.17800 &  1.22100\\\\\n",
       "\t1816 &  2.73700 &  0.67600 &  3.90500 &  7.60600 & 10.59400 & 11.79000 & 12.26700 & 12.57000 & 10.39000 &  5.69900 &  4.05800 &  0.95800\\\\\n",
       "\t1817 &  1.54000 &  3.64900 &  4.56900 &  7.88900 &  9.47600 & 11.28700 & 12.07200 & 13.40300 &  8.81200 &  6.20300 &  4.63800 &  0.17000\\\\\n",
       "\t1818 &  1.20400 &  0.75500 &  5.56500 &  9.90100 & 11.24700 & 13.82500 & 13.51000 & 13.16600 & 10.57800 &  6.65400 &  5.03500 &  2.50700\\\\\n",
       "\t1819 &  1.01400 &  2.28600 &  2.93100 &  7.02900 &  9.85100 & 12.52600 & 13.03800 & 12.55700 & 10.89400 &  9.31200 &  5.15000 &  1.84200\\\\\n",
       "\t1820 &  1.23600 &  2.14500 &  4.61800 &  8.70000 & 11.62000 & 13.32300 & 13.31100 & 11.97800 & 11.16000 &  7.58800 &  4.44300 &  1.27300\\\\\n",
       "\t1821 &  2.99900 &  3.75800 &  5.46200 &  7.73900 & 11.30000 & 12.60800 & 13.03900 & 13.14500 & 10.17800 &  8.53500 &  5.60100 &  2.71700\\\\\n",
       "\t1822 &  2.75900 &  4.46500 &  7.78700 &  8.27800 & 10.48600 & 13.06700 & 14.21200 & 13.21500 & 10.69500 &  7.77400 &  4.50100 &  1.02100\\\\\n",
       "\t1823 &  1.75800 &  1.96600 &  5.06800 &  7.66500 & 10.56300 & 13.95800 & 14.19700 & 13.13000 & 10.19800 &  7.64200 &  4.50800 &  1.97100\\\\\n",
       "\t1824 &  2.65100 &  2.67900 &  5.35700 &  8.37500 & 11.13200 & 13.42700 & 14.83000 & 13.43700 & 11.52800 &  8.19700 &  5.87700 &  5.07600\\\\\n",
       "\t1825 &  3.21300 &  3.09200 &  5.36500 &  8.98800 & 10.75100 & 13.76500 & 14.00700 & 13.26900 & 11.14800 &  7.97900 &  6.05800 &  3.03700\\\\\n",
       "\t1826 &  1.89300 &  1.53300 &  4.88800 &  8.40300 & 11.80400 & 13.02000 & 14.48200 & 13.10900 & 11.17800 &  8.45900 &  6.63400 &  4.87600\\\\\n",
       "\t1827 &  3.59300 &  4.41500 &  6.14100 &  9.42900 & 11.80700 & 13.54800 & 14.68400 & 13.69400 & 10.88300 &  8.51000 &  6.27900 &  2.72200\\\\\n",
       "\t1828 &  0.59500 &  1.85300 &  5.72900 &  8.73700 & 11.28100 & 14.12400 & 14.38400 & 13.63500 & 10.08000 &  8.65600 &  5.95700 &  2.95300\\\\\n",
       "\t1829 &  2.03200 &  1.71500 &  5.06100 &  7.81500 & 11.33600 & 12.86000 & 14.22500 & 13.39900 & 10.59800 &  8.80600 &  5.00300 &  2.45200\\\\\n",
       "\t1830 &  2.95700 &  4.08500 &  4.45400 &  8.84100 & 10.20200 & 12.82700 & 14.94200 & 13.38600 & 10.54000 &  7.99300 &  7.49300 &  4.48100\\\\\n",
       "\t1831 &  2.18200 &  2.47900 &  4.55800 &  7.73100 & 10.99400 & 13.20300 & 13.58000 & 12.49000 &  9.94600 &  7.83000 &  4.41200 &  2.26500\\\\\n",
       "\t1832 &  1.71700 &  1.83300 &  4.65000 &  8.05900 & 10.48900 & 12.85700 & 13.72700 & 11.96600 & 10.42600 &  8.63400 &  4.26200 &  0.78200\\\\\n",
       "\t1833 &  2.00600 &  2.81500 &  4.52100 &  7.86900 & 10.58100 & 13.04900 & 13.80300 & 13.22200 & 11.23600 &  7.90000 &  6.59600 &  2.55800\\\\\n",
       "\t1834 &  0.33400 &  2.32900 &  5.73600 &  8.08500 & 11.23400 & 12.79900 & 14.19700 & 13.41200 & 11.57100 &  8.61700 &  6.35500 &  3.09200\\\\\n",
       "\t1835 &  2.55100 &  2.96700 &  4.50700 &  7.76900 & 10.17100 & 12.00700 & 13.12900 & 12.32200 &  9.94200 &  7.83500 &  4.31200 &  1.19800\\\\\n",
       "\t1836 &  1.67000 &  2.37100 &  5.44800 &  7.31500 & 10.27900 & 12.54900 & 13.64600 & 12.83000 & 10.81200 &  8.75600 &  3.81400 &  2.86000\\\\\n",
       "\t1837 &  1.94000 &  2.61900 &  3.86500 &  6.55600 &  9.97300 & 12.09900 & 13.52600 & 13.01800 & 10.80500 &  7.65300 &  4.16900 &  2.28500\\\\\n",
       "\t1838 & -0.55700 &  1.56300 &  3.72300 &  7.38300 &  9.98500 & 12.74200 & 14.36700 & 13.56800 & 11.10600 &  8.52600 &  5.16000 &  2.61300\\\\\n",
       "\t1839 &  2.15600 &  3.48200 &  2.67300 &  7.89200 & 10.28900 & 12.54800 & 14.41100 & 14.07000 & 10.85300 &  8.21900 &  3.92000 &  1.07400\\\\\n",
       "\t1840 &  2.56100 &  2.10200 &  4.04000 &  7.94300 & 11.17300 & 13.41100 & 14.71400 & 13.08600 & 11.01000 &  7.50500 &  4.10100 &  1.90900\\\\\n",
       "\t1841 &  0.64900 &  2.46800 &  3.30700 &  6.77000 & 10.76400 & 13.06200 & 14.55200 & 13.70800 & 10.92100 &  8.76500 &  4.74400 &  2.54800\\\\\n",
       "\t1842 &  1.63600 &  2.78700 &  5.75000 &  8.31000 & 10.53500 & 12.62900 & 13.58400 & 13.24100 & 10.94000 &  8.30700 &  4.82400 &  3.73000\\\\\n",
       "\t1843 &  2.97400 &  3.92000 &  4.74400 &  7.83000 & 10.04000 & 12.53000 & 13.99100 & 13.29500 & 11.32600 &  8.72200 &  4.94700 &  3.76500\\\\\n",
       "\t1844 &  1.86800 &  2.03800 &  4.73400 &  7.38900 & 10.10900 & 12.84000 & 13.92100 & 13.04600 & 10.81900 &  8.70000 &  4.40100 &  1.89100\\\\\n",
       "\t1845 &  2.66100 &  1.62700 &  4.65100 &  8.15800 & 10.43300 & 12.86300 & 14.31900 & 13.55600 & 11.23400 &  7.78200 &  5.19400 &  1.73600\\\\\n",
       "\t1846 &  3.21300 &  3.37600 &  6.31400 &  7.47300 & 10.89600 & 13.53000 & 14.92300 & 14.12100 & 11.73800 &  8.22900 &  5.04400 &  3.77600\\\\\n",
       "\t1847 &  2.75300 &  3.60200 &  4.04600 &  7.98000 & 10.62200 & 12.82800 & 14.25000 & 13.41400 & 11.61900 &  8.61800 &  5.57400 &  1.72600\\\\\n",
       "\t1848 &  0.51000 &  3.72600 &  4.80600 &  8.11000 & 10.58000 & 13.24700 & 14.46600 & 13.26800 & 10.99700 &  8.65500 &  5.29000 &  2.09900\\\\\n",
       "\t1849 &  1.94100 &  2.63800 &  5.30200 &  7.02800 & 10.15900 & 13.00000 & 14.45800 & 13.60300 & 11.09300 &  8.89000 &  5.77800 &  1.92300\\\\\n",
       "\t1850 &  0.74900 &  3.07100 &  4.95400 &  7.21700 & 10.00400 & 13.15000 & 14.49200 & 14.03900 & 11.50500 &  8.09100 &  4.73300 &  2.80300\\\\\n",
       "\t1851 &  2.43100 &  2.50800 &  4.19200 &  7.28700 & 11.11300 & 13.41800 & 14.53100 & 13.75100 & 11.67700 &  9.12200 &  4.97300 &  3.14000\\\\\n",
       "\t1852 &  2.37600 &  2.54000 &  3.88400 &  7.48700 & 11.16900 & 13.16400 & 14.51200 & 13.30400 & 11.47800 &  8.91000 &  4.59300 &  3.78500\\\\\n",
       "\t1853 &  1.78600 &  2.22800 &  4.07800 &  7.54100 & 10.97500 & 13.41000 & 14.64500 & 13.95300 & 11.71000 &  8.53500 &  4.78300 &  2.85800\\\\\n",
       "\t1854 &  1.28100 &  1.94100 &  4.69800 &  7.62200 & 11.09500 & 12.82900 & 14.69200 & 13.88900 & 11.51400 &  9.76300 &  5.74500 &  3.45700\\\\\n",
       "\t1855 &  2.52200 &  2.98200 &  4.61700 &  8.58000 & 11.18600 & 12.98400 & 13.92600 & 13.54700 & 11.14100 &  8.44400 &  5.18600 &  2.21400\\\\\n",
       "\t1856 &  2.76000 &  2.22600 &  4.37200 &  7.75100 & 10.53000 & 13.49600 & 14.01900 & 13.02100 & 10.94800 &  8.08700 &  5.36000 &  3.38100\\\\\n",
       "\t1857 &  1.82100 &  2.48100 &  4.31200 &  6.82700 &  9.88500 & 12.61100 & 13.95300 & 13.20300 & 11.05600 &  8.19800 &  5.23600 &  3.51500\\\\\n",
       "\t1858 &  2.73900 &  2.28400 &  4.83400 &  8.25000 & 10.85100 & 12.95600 & 13.67700 & 13.22000 & 11.14800 &  8.81000 &  5.99000 &  2.44400\\\\\n",
       "\t1859 &  2.01500 &  2.61100 &  5.02300 &  8.54200 & 11.45600 & 13.14200 & 13.82700 & 13.21700 & 11.08000 &  8.83400 &  5.91200 &  3.36500\\\\\n",
       "\t1860 &  2.07700 &  2.63200 &  3.49400 &  7.76000 & 11.06200 & 13.27200 & 14.20300 & 13.76500 & 11.89200 &  8.71200 &  5.02700 &  1.63400\\\\\n",
       "\t1861 &  0.40400 &  2.13700 &  4.48900 &  7.48700 & 10.51600 & 13.01700 & 13.96700 & 13.65600 & 11.40900 &  8.47500 &  5.70700 &  2.89400\\\\\n",
       "\t1862 &  0.68500 &  1.76900 &  4.48500 &  7.32300 & 10.73900 & 12.86000 & 13.92800 & 13.18800 & 11.02800 &  8.28300 &  4.79200 &  1.62300\\\\\n",
       "\t1863 &  3.03400 &  3.25300 &  4.68200 &  7.93100 & 11.08100 & 12.79400 & 13.76500 & 13.29400 & 11.23000 &  8.23500 &  5.39200 &  2.65100\\\\\n",
       "\t1864 &  1.55100 &  2.50600 &  4.65100 &  7.51500 & 10.95600 & 13.36500 & 14.16200 & 13.43400 & 11.37000 &  8.79500 &  5.23200 &  2.26600\\\\\n",
       "\t1865 &  2.97500 &  2.15200 &  4.03900 &  7.31400 & 10.91700 & 13.21400 & 14.22000 & 13.58000 & 11.79700 &  9.13600 &  6.14400 &  2.64600\\\\\n",
       "\t1866 &  2.93200 &  2.27400 &  4.42100 &  7.91400 & 10.89800 & 12.85300 & 14.60200 & 13.53200 & 11.52700 &  8.50600 &  5.89500 &  4.15200\\\\\n",
       "\t1867 &  2.48200 &  2.66400 &  4.45400 &  8.25800 & 10.49500 & 13.30300 & 14.22300 & 13.50600 & 11.76300 &  9.21200 &  6.93900 &  3.93700\\\\\n",
       "\t1868 &  1.83400 &  2.03900 &  4.53800 &  8.18300 & 11.30800 & 13.16200 & 14.51400 & 13.74400 & 11.66900 &  9.44800 &  5.19200 &  3.34400\\\\\n",
       "\t1869 &  2.11500 &  3.86400 &  4.37400 &  7.92100 & 11.29500 & 13.53700 & 14.33700 & 14.01000 & 12.24700 &  9.00600 &  5.77300 &  2.70600\\\\\n",
       "\t1870 &  2.08200 &  2.13400 &  4.65600 &  7.87900 & 11.33900 & 13.65300 & 14.59900 & 13.48400 & 11.95200 &  8.81000 &  5.60000 &  2.22800\\\\\n",
       "\t1871 &  1.44700 &  1.73600 &  4.68500 &  8.34000 & 10.78800 & 13.08000 & 14.29000 & 13.93200 & 11.71100 &  9.09600 &  5.11300 &  3.16300\\\\\n",
       "\t1872 &  1.65200 &  2.35000 &  4.92200 &  7.84600 & 11.19800 & 13.05500 & 14.28500 & 13.82100 & 11.95800 &  9.24000 &  5.37200 &  2.62700\\\\\n",
       "\t1873 &  2.01300 &  3.19500 &  4.70400 &  7.46200 & 11.00600 & 13.40500 & 14.28700 & 13.75500 & 11.48700 &  9.23400 &  5.81900 &  3.84600\\\\\n",
       "\t1874 &  2.68500 &  3.06900 &  4.22100 &  8.23100 & 11.30600 & 13.30600 & 14.12200 & 13.81500 & 12.11100 &  9.12000 &  5.80900 &  3.40700\\\\\n",
       "\t1875 &  1.53300 &  2.25900 &  4.25600 &  7.63600 & 10.74600 & 13.15700 & 14.14400 & 13.40100 & 11.31900 &  8.58500 &  4.61400 &  2.66500\\\\\n",
       "\t1876 &  1.85600 &  2.61700 &  4.74800 &  8.19900 & 10.69000 & 13.13100 & 14.31900 & 13.48100 & 11.68700 &  8.94600 &  5.09300 &  2.19400\\\\\n",
       "\t1877 &  2.28600 &  2.92800 &  5.29700 &  8.03900 & 11.05600 & 13.38400 & 14.64200 & 14.15100 & 12.07500 &  9.27300 &  6.34800 &  2.99600\\\\\n",
       "\t1878 &  2.01700 &  3.72800 &  6.60800 &  8.89900 & 11.01700 & 13.79600 & 14.74200 & 14.09400 & 12.09300 &  9.17300 &  6.44600 &  3.34400\\\\\n",
       "\t1879 &  2.30300 &  2.73700 &  4.92400 &  7.76800 & 10.80300 & 13.23000 & 14.23800 & 13.24500 & 11.44900 &  9.22900 &  5.52600 &  2.53800\\\\\n",
       "\t1880 &  1.75500 &  2.05200 &  4.63000 &  7.55900 & 11.09600 & 13.32700 & 14.14100 & 13.80700 & 11.38600 &  8.67300 &  5.89300 &  3.10600\\\\\n",
       "\t1881 &  2.46100 &  2.62600 &  5.01000 &  8.32300 & 11.16500 & 12.74500 & 14.20300 & 13.71000 & 11.68900 &  8.85100 &  5.27200 &  3.19600\\\\\n",
       "\t1882 &  2.99000 &  3.23100 &  5.04000 &  7.69100 & 10.88800 & 12.80500 & 13.74700 & 13.70300 & 11.73600 &  8.44500 &  5.06600 &  2.20500\\\\\n",
       "\t1883 &  1.46000 &  1.85600 &  4.92900 &  7.69100 & 10.83200 & 13.30200 & 14.01100 & 13.22400 & 11.34300 &  8.90900 &  4.90500 &  3.26100\\\\\n",
       "\t1884 &  2.12000 &  2.47400 &  3.89200 &  7.18600 & 10.19800 & 12.52700 & 13.62200 & 13.25700 & 11.23500 &  8.58100 &  5.16400 &  3.02800\\\\\n",
       "\t1885 &  1.00300 &  2.24300 &  4.62200 &  7.33600 & 10.56700 & 12.71600 & 13.97200 & 13.35100 & 11.43500 &  8.72200 &  5.42500 &  3.64400\\\\\n",
       "\t1886 &  1.43600 &  1.79300 &  4.26200 &  7.90900 & 10.78400 & 12.78900 & 14.22600 & 13.32300 & 11.60000 &  8.60400 &  5.22600 &  3.50200\\\\\n",
       "\t1887 &  0.82400 &  2.05400 &  4.55200 &  7.78900 & 10.84000 & 12.89000 & 14.02100 & 13.09700 & 11.70700 &  8.73800 &  5.59200 &  2.87500\\\\\n",
       "\t1888 &  1.70800 &  2.03900 &  4.30000 &  7.84500 & 10.62000 & 12.92100 & 14.24200 & 13.51100 & 11.68500 &  9.20100 &  5.79200 &  3.22200\\\\\n",
       "\t1889 &  1.76200 &  3.40900 &  5.29900 &  8.58900 & 11.24200 & 13.28800 & 14.22500 & 13.50400 & 11.54700 &  8.86500 &  4.99900 &  3.09900\\\\\n",
       "\t1890 &  1.83600 &  2.51600 &  4.21000 &  7.73900 & 10.46400 & 12.87200 & 14.03400 & 13.26600 & 11.54600 &  9.17800 &  5.03000 &  2.96900\\\\\n",
       "\t1891 &  1.67800 &  1.88000 &  4.75500 &  7.61800 & 10.78500 & 12.88800 & 13.93000 & 13.49600 & 11.76300 &  8.72200 &  5.11500 &  3.60200\\\\\n",
       "\t1892 &  2.01800 &  2.80500 &  4.36200 &  7.56200 & 10.62200 & 13.26300 & 13.89000 & 13.42000 & 11.76400 &  9.29000 &  4.85900 &  2.93500\\\\\n",
       "\t1893 &  0.50000 &  1.65400 &  4.97900 &  7.99400 & 10.74700 & 13.05100 & 14.31800 & 13.45400 & 11.76700 &  9.16000 &  5.90200 &  3.15500\\\\\n",
       "\t1894 &  1.69100 &  2.92300 &  5.11800 &  7.66300 & 10.94400 & 12.85800 & 14.00400 & 13.48800 & 11.58000 &  9.12500 &  5.40500 &  3.13300\\\\\n",
       "\t1895 &  1.29500 &  2.00000 &  4.68900 &  8.24700 & 10.86700 & 13.05800 & 14.05300 & 13.48900 & 11.74300 &  9.11700 &  5.74400 &  3.46200\\\\\n",
       "\t1896 &  2.29100 &  2.70700 &  4.27900 &  7.33000 & 10.89300 & 13.30400 & 14.23300 & 13.62400 & 11.82400 &  9.41600 &  5.36600 &  3.31200\\\\\n",
       "\t1897 &  1.89300 &  2.42900 &  4.34500 &  8.27800 & 11.37700 & 13.31900 & 14.31000 & 13.66800 & 11.92500 &  9.19700 &  5.60800 &  3.17100\\\\\n",
       "\t1898 &  2.73700 &  2.35400 &  3.75100 &  7.90700 & 10.83500 & 13.39500 & 14.13800 & 13.57900 & 11.75300 &  8.82800 &  5.45200 &  3.40700\\\\\n",
       "\t1899 &  2.51500 &  2.38000 &  4.61800 &  8.28100 & 11.02300 & 12.85600 & 14.15900 & 13.77700 & 12.12800 &  9.40900 &  6.60500 &  3.00500\\\\\n",
       "\t1900 &  1.46100 &  3.09800 &  5.49200 &  8.22300 & 11.38500 & 13.29300 & 14.17100 & 13.81600 & 11.95500 &  9.66600 &  5.80400 &  3.65500\\\\\n",
       "\t1901 &  2.19100 &  3.09200 &  5.67100 &  8.52200 & 11.17800 & 13.42300 & 14.33900 & 13.78900 & 11.98400 &  9.00300 &  5.97600 &  3.33500\\\\\n",
       "\t1902 &  2.68400 &  3.60600 &  4.88300 &  7.95600 & 10.89300 & 13.21400 & 14.23100 & 13.59900 & 11.79900 &  8.80100 &  5.27400 &  2.71300\\\\\n",
       "\t1903 &  2.51400 &  3.55500 &  4.93000 &  7.83200 & 10.79400 & 12.88600 & 13.99200 & 13.41200 & 11.50100 &  8.81200 &  5.51600 &  2.89800\\\\\n",
       "\t1904 &  1.63700 &  2.29700 &  4.50600 &  7.68400 & 10.84000 & 13.01400 & 13.83600 & 13.45900 & 11.38100 &  8.83300 &  6.23000 &  3.37400\\\\\n",
       "\t1905 &  2.25400 &  1.92700 &  4.63500 &  7.75500 & 10.98200 & 13.11200 & 14.07700 & 13.57800 & 11.80400 &  9.04100 &  6.18300 &  3.35400\\\\\n",
       "\t1906 &  2.06800 &  2.30100 &  4.86600 &  8.62600 & 11.24000 & 13.33400 & 14.12200 & 13.69100 & 11.77200 &  9.26700 &  5.50100 &  3.76100\\\\\n",
       "\t1907 &  1.79800 &  2.11700 &  4.57500 &  7.57900 & 10.37500 & 12.72900 & 13.76900 & 13.36200 & 11.66500 &  9.23400 &  5.20700 &  2.95600\\\\\n",
       "\t1908 &  2.30400 &  2.76900 &  4.13600 &  7.83200 & 11.14100 & 13.29300 & 14.19700 & 13.37600 & 11.97700 &  8.86500 &  5.27200 &  3.07100\\\\\n",
       "\t1909 &  1.39500 &  2.70600 &  4.58900 &  7.53400 & 10.61100 & 12.96200 & 14.06000 & 13.75200 & 11.87900 &  9.19200 &  6.23600 &  3.22300\\\\\n",
       "\t1910 &  2.33300 &  2.77900 &  4.60600 &  8.10500 & 11.00500 & 13.15100 & 14.27900 & 13.67700 & 11.73300 &  9.00600 &  5.31800 &  2.68400\\\\\n",
       "\t1911 &  1.66000 &  2.45300 &  4.34700 &  7.99000 & 10.82900 & 13.00900 & 14.08200 & 13.49900 & 11.63800 &  9.26300 &  5.96400 &  3.39000\\\\\n",
       "\t1912 &  2.40200 &  3.35400 &  4.35600 &  8.22900 & 11.25400 & 13.43500 & 13.72300 & 13.05300 & 11.22200 &  8.36700 &  5.52100 &  3.06900\\\\\n",
       "\t1913 &  2.08300 &  2.37600 &  4.51700 &  8.02300 & 10.74500 & 13.00500 & 14.13700 & 13.72400 & 11.75900 &  9.07700 &  6.02400 &  4.10300\\\\\n",
       "\t1914 &  3.37600 &  3.20000 &  4.94200 &  8.09800 & 11.28500 & 13.49600 & 14.29800 & 13.73000 & 11.91500 &  9.38700 &  5.75900 &  3.60000\\\\\n",
       "\t1915 &  2.29900 &  3.26500 &  5.14300 &  8.70500 & 11.49300 & 13.30000 & 14.44300 & 13.77000 & 11.86700 &  8.98400 &  6.21600 &  3.63300\\\\\n",
       "\t1916 &  2.61600 &  2.95700 &  4.84600 &  8.04700 & 10.97200 & 12.94200 & 14.05200 & 13.58000 & 11.72600 &  9.05300 &  5.59600 &  2.31600\\\\\n",
       "\t1917 &  2.13300 &  2.36000 &  4.48800 &  7.85500 & 10.44300 & 12.91500 & 14.25900 & 13.47100 & 11.74500 &  8.54400 &  5.82000 &  2.24700\\\\\n",
       "\t1918 &  1.93400 &  2.45500 &  4.81100 &  7.64400 & 10.54000 & 12.90800 & 14.00200 & 13.43100 & 11.88100 &  9.43300 &  5.68300 &  2.84800\\\\\n",
       "\t1919 &  2.18400 &  2.85200 &  4.74300 &  8.48700 & 10.96900 & 13.22800 & 14.27400 & 13.78600 & 11.99000 &  9.36100 &  5.48900 &  3.22400\\\\\n",
       "\t1920 &  2.84100 &  2.75500 &  5.22700 &  8.29300 & 11.13100 & 13.10500 & 14.24500 & 13.69800 & 11.79400 &  9.02100 &  5.56600 &  2.62900\\\\\n",
       "\t1921 &  2.98000 &  3.12500 &  5.08100 &  8.32400 & 11.24500 & 13.44000 & 14.43600 & 13.56100 & 11.86900 &  9.26400 &  5.86400 &  3.66300\\\\\n",
       "\t1922 &  2.15000 &  2.37600 &  5.15600 &  8.38000 & 11.09700 & 13.33100 & 14.27800 & 13.58400 & 11.77500 &  9.05600 &  6.04600 &  3.66700\\\\\n",
       "\t1923 &  2.48700 &  2.56300 &  4.86600 &  7.74900 & 10.84900 & 13.29600 & 13.98400 & 13.61100 & 11.88300 &  9.52000 &  6.37800 &  3.88000\\\\\n",
       "\t1924 &  2.33900 &  2.88800 &  5.35200 &  7.97000 & 11.18800 & 13.34200 & 14.30400 & 13.65400 & 11.95700 &  9.20300 &  6.40000 &  3.48500\\\\\n",
       "\t1925 &  2.26800 &  2.70100 &  5.12600 &  8.44200 & 11.03900 & 13.08900 & 14.06600 & 13.76900 & 11.97900 &  9.19600 &  6.34000 &  4.39800\\\\\n",
       "\t1926 &  3.45300 &  3.71700 &  5.83100 &  8.19300 & 10.93100 & 13.28500 & 14.16800 & 13.87700 & 12.07500 &  9.55000 &  6.30000 &  3.36600\\\\\n",
       "\t1927 &  2.37200 &  3.03900 &  4.66800 &  8.03500 & 11.10400 & 13.27200 & 14.32300 & 13.69800 & 12.25400 &  9.88700 &  6.34600 &  3.26700\\\\\n",
       "\t1928 &  3.04600 &  3.33300 &  4.95900 &  8.24400 & 11.16900 & 13.11300 & 14.31000 & 13.68700 & 12.03000 &  9.48600 &  6.33600 &  3.87300\\\\\n",
       "\t1929 &  2.05400 &  2.17200 &  5.09900 &  8.09400 & 10.91500 & 12.92800 & 13.95700 & 13.68000 & 11.80700 &  9.46000 &  6.17200 &  2.57100\\\\\n",
       "\t1930 &  2.40100 &  3.15200 &  5.48300 &  8.18200 & 11.10500 & 13.34700 & 14.46500 & 13.92800 & 11.87400 &  9.26100 &  6.57400 &  3.83100\\\\\n",
       "\t1931 &  2.76100 &  2.70800 &  5.22000 &  8.16300 & 11.02000 & 13.57300 & 14.57600 & 14.12000 & 12.28300 &  9.93700 &  6.24300 &  4.02700\\\\\n",
       "\t1932 &  3.60400 &  2.98900 &  4.94000 &  8.76900 & 11.23900 & 13.38300 & 14.37200 & 13.74000 & 12.31000 &  9.68200 &  5.90800 &  3.52700\\\\\n",
       "\t1933 &  2.16900 &  2.65700 &  4.86900 &  8.12500 & 11.04700 & 13.11000 & 14.23600 & 13.76000 & 11.85400 &  9.23800 &  5.89000 &  3.10400\\\\\n",
       "\t1934 &  2.47600 &  3.69900 &  4.81800 &  8.01600 & 11.47800 & 13.40200 & 14.34300 & 13.77800 & 11.72700 &  9.42100 &  6.39700 &  3.98500\\\\\n",
       "\t1935 &  2.17500 &  4.12500 &  5.39900 &  7.77100 & 10.90600 & 13.32600 & 14.33100 & 13.77500 & 11.99900 &  9.51600 &  5.44300 &  3.42300\\\\\n",
       "\t1936 &  2.24900 &  2.50600 &  5.03100 &  8.12700 & 11.25100 & 13.36300 & 14.62900 & 13.86000 & 12.02100 &  9.45700 &  6.23300 &  3.92100\\\\\n",
       "\t1937 &  2.45300 &  3.55300 &  4.85100 &  8.14000 & 11.42200 & 13.60300 & 14.37500 & 14.00700 & 12.41300 &  9.72900 &  6.35600 &  3.47800\\\\\n",
       "\t1938 &  2.91000 &  3.41700 &  5.65100 &  8.91300 & 11.45600 & 13.32100 & 14.48200 & 13.96300 & 12.42700 &  9.78400 &  6.53000 &  3.51000\\\\\n",
       "\t1939 &  2.93200 &  3.23200 &  4.92600 &  8.32800 & 11.52400 & 13.53100 & 14.39500 & 13.93200 & 11.95800 &  9.21800 &  6.18900 &  4.95900\\\\\n",
       "\t1940 &  2.33500 &  3.42300 &  5.42400 &  8.75600 & 11.33800 & 13.58300 & 14.57100 & 13.81100 & 12.26800 &  9.45700 &  6.07600 &  4.13400\\\\\n",
       "\t1941 &  2.73500 &  3.67000 &  5.21300 &  8.57500 & 11.49300 & 13.63000 & 14.69400 & 14.02800 & 11.81600 &  9.71000 &  5.95300 &  3.70700\\\\\n",
       "\t1942 &  3.10300 &  2.85700 &  5.30800 &  8.41600 & 11.33800 & 13.57800 & 14.24200 & 13.78600 & 12.14600 &  9.62700 &  6.39500 &  3.94500\\\\\n",
       "\t1943 &  2.39600 &  3.51300 &  5.13800 &  8.63800 & 11.48500 & 13.16100 & 14.46000 & 13.77400 & 12.09600 &  9.90700 &  6.26000 &  4.23300\\\\\n",
       "\t1944 &  3.50400 &  3.59100 &  5.53100 &  8.43400 & 11.33400 & 13.47800 & 14.46800 & 14.01700 & 12.45000 &  9.80800 &  6.09100 &  3.43400\\\\\n",
       "\t1945 &  2.52500 &  2.64600 &  5.18400 &  8.68100 & 11.09700 & 13.32800 & 14.21300 & 14.31300 & 12.22500 &  9.57500 &  6.07300 &  3.15800\\\\\n",
       "\t1946 &  2.97900 &  3.46100 &  5.23600 &  8.83700 & 11.35500 & 13.29800 & 14.40900 & 13.83400 & 12.06400 &  9.28100 &  6.23500 &  3.13400\\\\\n",
       "\t1947 &  2.59700 &  3.27700 &  5.80100 &  8.68600 & 11.32900 & 13.45900 & 14.34900 & 13.82700 & 12.16600 & 10.01100 &  6.40700 &  3.65600\\\\\n",
       "\t1948 &  3.36600 &  3.22000 &  4.91900 &  8.49900 & 11.53700 & 13.66400 & 14.44500 & 13.89600 & 12.15500 &  9.58400 &  6.18500 &  3.49100\\\\\n",
       "\t1949 &  3.21900 &  2.75900 &  5.07700 &  8.34400 & 11.30900 & 13.22300 & 14.19900 & 13.82600 & 11.95700 &  9.53100 &  6.14800 &  3.44900\\\\\n",
       "\t1950 &  2.00800 &  2.72100 &  5.24700 &  8.12300 & 11.29700 & 13.38200 & 14.14000 & 13.46000 & 11.95200 &  9.15300 &  5.37200 &  3.52800\\\\\n",
       "\t1951 &  2.13800 &  2.33200 &  5.09100 &  8.36700 & 11.43800 & 13.25000 & 14.32400 & 14.02100 & 12.32400 &  9.67000 &  6.22500 &  4.32800\\\\\n",
       "\t1952 &  3.04900 &  3.39600 &  4.96700 &  8.46100 & 11.35200 & 13.44200 & 14.54900 & 13.96400 & 12.23800 &  9.15700 &  5.42500 &  3.65900\\\\\n",
       "\t1953 &  2.96400 &  3.62900 &  5.71200 &  8.89200 & 11.51400 & 13.61200 & 14.39200 & 14.05900 & 12.19900 &  9.59000 &  5.92400 &  3.99800\\\\\n",
       "\t1954 &  2.05900 &  3.08400 &  5.14800 &  8.15800 & 10.98800 & 13.40000 & 14.24100 & 13.86800 & 12.09800 &  9.54600 &  6.57900 &  3.55900\\\\\n",
       "\t1955 &  3.41200 &  3.13700 &  4.58500 &  8.13600 & 11.19200 & 13.56000 & 14.24200 & 14.28300 & 11.95400 &  9.73500 &  5.97300 &  3.30600\\\\\n",
       "\t1956 &  2.46600 &  2.78100 &  4.88900 &  7.92200 & 10.72100 & 13.16000 & 14.18000 & 13.18900 & 11.78300 &  8.92800 &  5.73800 &  3.59800\\\\\n",
       "\t1957 &  2.48800 &  3.12000 &  5.03600 &  8.36600 & 11.25900 & 13.78300 & 14.12900 & 14.08200 & 12.31200 &  9.49600 &  6.39100 &  4.32800\\\\\n",
       "\t1958 &  3.57400 &  3.69500 &  5.45300 &  8.52000 & 11.51900 & 13.18700 & 14.43800 & 13.59700 & 11.84500 &  9.37500 &  6.26000 &  3.82200\\\\\n",
       "\t1959 &  2.95900 &  3.33000 &  5.85400 &  8.81900 & 11.32300 & 13.57700 & 14.44900 & 13.85300 & 11.94600 &  9.16000 &  5.75200 &  3.77000\\\\\n",
       "\t1960 &  2.71300 &  3.79800 &  4.30300 &  8.13300 & 10.87200 & 13.48400 & 14.19800 & 13.82500 & 12.09500 &  9.49700 &  5.82800 &  4.25900\\\\\n",
       "\t1961 &  2.92600 &  3.68300 &  5.58900 &  8.63100 & 11.62400 & 13.70200 & 14.28800 & 13.84900 & 12.24700 &  9.32800 &  6.20500 &  3.50000\\\\\n",
       "\t1962 &  3.00300 &  3.69600 &  5.53000 &  8.54000 & 11.12800 & 13.42700 & 14.20500 & 13.71300 & 12.01800 &  9.46800 &  6.28300 &  3.94000\\\\\n",
       "\t1963 &  2.90100 &  4.02000 &  5.09700 &  8.17300 & 11.04500 & 13.41200 & 14.50600 & 14.30900 & 12.55500 &  9.94300 &  6.56100 &  3.75000\\\\\n",
       "\t1964 &  2.88100 &  3.02800 &  4.86500 &  7.92200 & 10.90500 & 13.45900 & 14.30100 & 13.67800 & 11.60400 &  8.83200 &  5.98300 &  3.45800\\\\\n",
       "\t1965 &  2.86200 &  3.03600 &  5.18200 &  7.99000 & 11.22200 & 13.30800 & 14.07800 & 13.80700 & 11.73000 &  9.48800 &  5.86000 &  3.76600\\\\\n",
       "\t1966 &  2.49000 &  3.29000 &  5.52700 &  8.16100 & 11.20000 & 13.58700 & 14.56900 & 13.73100 & 12.13300 &  9.15300 &  5.96900 &  3.38200\\\\\n",
       "\t1967 &  2.71000 &  2.90500 &  5.39600 &  8.45800 & 11.63200 & 13.19400 & 14.33100 & 13.82100 & 12.05400 &  9.80900 &  6.17600 &  3.91500\\\\\n",
       "\t1968 &  2.35300 &  3.24500 &  6.11700 &  8.45500 & 11.06800 & 13.20400 & 14.02600 & 13.52400 & 11.62000 &  9.45300 &  5.89100 &  3.24000\\\\\n",
       "\t1969 &  1.96600 &  2.45000 &  5.13100 &  8.57600 & 11.35400 & 13.47500 & 14.21800 & 13.80400 & 12.04800 &  9.48900 &  6.42000 &  4.21000\\\\\n",
       "\t1970 &  2.83600 &  3.73500 &  5.27200 &  8.60300 & 11.20600 & 13.51300 & 14.39500 & 13.65800 & 12.27700 &  9.34800 &  6.04700 &  3.52100\\\\\n",
       "\t1971 &  2.96700 &  2.86700 &  5.00100 &  8.33900 & 11.21100 & 13.09900 & 14.13900 & 13.87900 & 12.13900 &  9.38800 &  6.29500 &  3.86700\\\\\n",
       "\t1972 &  1.88200 &  2.60900 &  5.28700 &  8.33700 & 11.15500 & 13.50100 & 14.23100 & 14.17100 & 11.90100 &  9.34600 &  5.79700 &  3.77800\\\\\n",
       "\t1973 &  3.03800 &  3.89800 &  5.82000 &  8.93800 & 11.76900 & 13.82400 & 14.43500 & 13.86900 & 12.12500 &  9.60900 &  6.22200 &  3.83200\\\\\n",
       "\t1974 &  2.26100 &  2.58200 &  5.19000 &  8.38600 & 11.19800 & 13.38200 & 14.28800 & 14.01600 & 11.74400 &  9.09800 &  5.91500 &  3.55000\\\\\n",
       "\t1975 &  3.05900 &  3.39500 &  5.70600 &  8.58400 & 11.74200 & 13.55700 & 14.35100 & 13.51400 & 12.15200 &  9.31800 &  5.89300 &  3.66700\\\\\n",
       "\t1976 &  2.88400 &  3.03100 &  4.51700 &  8.29400 & 10.94200 & 13.08600 & 14.15500 & 13.51100 & 11.89500 &  8.51100 &  5.66000 &  3.68100\\\\\n",
       "\t1977 &  2.49200 &  3.47100 &  5.70200 &  8.85000 & 11.78000 & 13.87600 & 14.63100 & 14.09000 & 11.86200 &  9.15600 &  6.54400 &  3.74900\\\\\n",
       "\t1978 &  2.70500 &  3.45600 &  5.60700 &  8.79100 & 11.41400 & 13.22000 & 14.36400 & 13.29700 & 12.03000 &  9.33900 &  6.35000 &  3.74000\\\\\n",
       "\t1979 &  2.67900 &  2.84100 &  5.47400 &  8.45500 & 11.19900 & 13.48700 & 14.11400 & 13.83300 & 12.24700 &  9.58600 &  6.28600 &  4.60000\\\\\n",
       "\t1980 &  2.95600 &  3.65200 &  5.36700 &  8.93500 & 11.77000 & 13.58200 & 14.74200 & 14.18900 & 12.32100 &  9.55000 &  6.68400 &  4.01600\\\\\n",
       "\t1981 &  3.78500 &  4.02100 &  6.23900 &  8.95300 & 11.56500 & 13.76500 & 14.73800 & 14.50200 & 12.23600 &  9.39400 &  6.27300 &  4.51900\\\\\n",
       "\t1982 &  2.55800 &  3.28100 &  4.87300 &  8.46500 & 11.34800 & 13.24500 & 14.54500 & 13.79600 & 12.03900 &  9.23200 &  5.96100 &  4.32700\\\\\n",
       "\t1983 &  3.44500 &  3.81400 &  5.69900 &  8.69300 & 11.72900 & 13.47800 & 14.40800 & 14.30200 & 12.69800 &  9.47800 &  6.76500 &  3.82900\\\\\n",
       "\t1984 &  2.94100 &  3.09300 &  5.67100 &  8.43200 & 11.97600 & 13.38700 & 14.42900 & 13.98400 & 12.01500 &  9.37800 &  5.81100 &  3.18500\\\\\n",
       "\t1985 &  3.01000 &  2.70400 &  5.45100 &  8.63300 & 11.42600 & 13.56900 & 13.97300 & 14.05900 & 11.98000 &  9.33800 &  5.96800 &  3.78500\\\\\n",
       "\t1986 &  3.31500 &  3.99100 &  5.75500 &  8.87100 & 11.58100 & 13.43900 & 14.29300 & 13.97200 & 11.81700 &  9.29900 &  5.91900 &  3.75100\\\\\n",
       "\t1987 &  3.13900 &  4.13400 &  5.24500 &  8.59500 & 11.52500 & 13.92700 & 14.89000 & 13.89600 & 12.44700 &  9.59000 &  6.05600 &  4.48900\\\\\n",
       "\t1988 &  3.45400 &  3.42200 &  5.93100 &  8.99200 & 11.85200 & 14.09900 & 14.79800 & 14.55300 & 12.68100 &  9.97900 &  6.29500 &  4.36300\\\\\n",
       "\t1989 &  2.71000 &  3.62700 &  5.79200 &  8.68900 & 11.28000 & 13.44700 & 14.61200 & 14.13500 & 12.40300 &  9.76000 &  6.17900 &  4.43000\\\\\n",
       "\t1990 &  3.24300 &  3.64300 &  6.73000 &  9.16900 & 11.83100 & 13.89300 & 14.78400 & 14.09500 & 12.19500 &  9.88200 &  6.92000 &  4.42500\\\\\n",
       "\t1991 &  3.19500 &  4.04400 &  5.57400 &  9.22600 & 11.61600 & 14.26300 & 14.98700 & 14.31900 & 12.67700 &  9.75300 &  6.44000 &  4.05900\\\\\n",
       "\t1992 &  3.57900 &  3.93100 &  5.95200 &  8.57200 & 11.53500 & 13.57600 & 14.13900 & 13.76600 & 11.67200 &  9.35300 &  5.88900 &  4.07500\\\\\n",
       "\t1993 &  3.30100 &  3.74500 &  5.92300 &  8.69000 & 11.47500 & 13.51800 & 14.59500 & 13.83500 & 11.93000 &  9.61400 &  5.73800 &  4.03500\\\\\n",
       "\t1994 &  3.02400 &  2.81000 &  5.73100 &  9.01800 & 11.68400 & 14.14400 & 14.65800 & 13.97700 & 12.51600 & 10.00200 &  6.78800 &  4.11300\\\\\n",
       "\t1995 &  3.54000 &  4.65600 &  5.95600 &  8.97200 & 11.57000 & 14.16400 & 15.11600 & 14.63600 & 12.56500 & 10.10600 &  6.76100 &  4.12300\\\\\n",
       "\t1996 &  2.86200 &  4.01200 &  5.52400 &  8.67900 & 11.58800 & 13.68100 & 14.82700 & 14.60300 & 12.29400 &  9.52500 &  6.54700 &  4.32500\\\\\n",
       "\t1997 &  3.16500 &  3.76600 &  6.01200 &  8.89100 & 11.59300 & 14.13100 & 14.56500 & 14.25600 & 12.68500 & 10.10900 &  6.84100 &  4.41700\\\\\n",
       "\t1998 &  3.35200 &  4.82600 &  6.02300 &  9.35800 & 12.29100 & 14.52100 & 15.34000 & 14.87400 & 12.67300 &  9.94100 &  6.40400 &  4.66900\\\\\n",
       "\t1999 &  3.54400 &  4.69400 &  5.53000 &  8.83800 & 11.70600 & 14.03100 & 14.85300 & 14.34800 & 12.72300 &  9.99700 &  6.59200 &  4.56500\\\\\n",
       "\t2000 &  2.95000 &  4.18400 &  6.21900 &  9.55200 & 11.87400 & 14.06000 & 14.84800 & 14.51900 & 12.54700 &  9.48600 &  6.31200 &  3.86300\\\\\n",
       "\t2001 &  3.33600 &  3.72000 &  6.20800 &  9.24500 & 12.27100 & 14.11000 & 15.16100 & 14.42700 & 12.73600 &  9.93500 &  7.31900 &  4.50700\\\\\n",
       "\t2002 &  4.02600 &  4.70400 &  6.77200 &  9.22900 & 12.24800 & 14.08400 & 15.35400 & 14.56000 & 12.95000 &  9.98800 &  6.89200 &  4.03800\\\\\n",
       "\t2003 &  3.98100 &  4.08500 &  6.04800 &  9.15400 & 12.15300 & 14.01700 & 14.98300 & 14.69100 & 12.91100 & 10.42400 &  6.72700 &  5.13300\\\\\n",
       "\t2004 &  3.52500 &  4.49900 &  6.32100 &  9.24900 & 11.57100 & 13.88900 & 14.31200 & 14.18800 & 12.64200 & 10.12700 &  7.31500 &  4.25700\\\\\n",
       "\t2005 &  3.80800 &  3.92000 &  6.54400 &  9.61800 & 12.22600 & 14.47600 & 15.19000 & 14.51000 & 13.21700 & 10.60100 &  7.42300 &  4.87800\\\\\n",
       "\t2006 &  3.28600 &  4.43000 &  6.32900 &  9.05500 & 11.78600 & 14.44300 & 15.04200 & 14.91300 & 12.87500 & 10.28900 &  6.95500 &  4.98700\\\\\n",
       "\t2007 &  4.57900 &  4.22100 &  6.48500 &  9.82300 & 12.51800 & 14.30900 & 15.23000 & 14.75200 & 12.93000 & 10.33200 &  7.08400 &  4.52300\\\\\n",
       "\t2008 &  2.84400 &  3.57600 &  6.90600 &  9.29500 & 12.05400 & 14.14500 & 15.17400 & 14.37700 & 12.80200 & 10.39900 &  7.22400 &  4.38500\\\\\n",
       "\t2009 &  3.68700 &  4.09400 &  6.08600 &  9.36700 & 12.11200 & 14.20100 & 15.23100 & 14.65500 & 13.15300 & 10.13600 &  7.03100 &  4.31000\\\\\n",
       "\t2010 &  3.73700 &  4.39900 &  6.73800 &  9.67100 & 12.40600 & 14.42100 & 15.21300 & 14.76800 & 12.86300 & 10.44200 &  7.48700 &  4.29200\\\\\n",
       "\t2011 &  3.28200 &  3.74300 &  6.10100 &  9.48300 & 11.98600 & 14.37000 & 15.48200 & 15.01200 & 12.91200 & 10.35200 &  6.81400 &  4.65500\\\\\n",
       "\t2012 &  3.15700 &  3.62800 &  6.02300 &  9.67600 & 12.59000 & 14.49200 & 15.07600 & 14.72000 & 13.04000 & 10.42800 &  7.15600 &  4.10200\\\\\n",
       "\t2013 &  3.68500 &  4.22200 &  6.26100 &  9.04400 & 12.19500 & 14.56800 & 15.00300 & 14.74200 & 13.15400 & 10.25600 &  7.42400 &  4.72400\\\\\n",
       "\t2014 &  3.73200 &  3.50000 &  6.37800 &  9.58900 & 12.58200 & 14.33500 & 14.87300 & 14.87500 & 13.09100 & 10.33000 &  6.71300 &  4.85000\\\\\n",
       "\t2015 &  3.88100 &  4.66400 &  6.74000 &  9.31300 & 12.31200 & 14.50500 & 15.05100 & 14.75500 & 12.99900 & 10.80100 &  7.43300 &  5.51800\\\\\n",
       "\\end{tabular}\n"
      ],
      "text/plain": [
       "     Jan      Feb      Mar      Apr      May      Jun      Jul      Aug     \n",
       "1750  3.03400  3.08300  5.62600  8.49000 11.57300 12.93700 15.86800 14.75000\n",
       "1751  2.49500  0.96300  5.80000  7.67000 10.74850 13.82700 14.11600 14.40500\n",
       "1752  0.34800  3.07700  5.80600  8.26500  8.19400  8.12300  8.05200  7.98100\n",
       "1753  2.03900  0.71500  5.42400  8.27200 12.18600 14.58500 15.09200 14.14800\n",
       "1754  1.57400 -1.24900  3.67700 11.61000 11.93600 14.38800 14.68100 13.55600\n",
       "1755  1.06700 -0.10800  3.60700  9.26300 12.88100 15.38000 14.39700 13.51500\n",
       "1756  3.88700  5.66600  4.19200 10.04200 14.16400 14.54700 13.90600 13.43700\n",
       "1757 -0.27600  3.70400  4.52900  8.24600 13.03900 17.11500 17.61000 17.91000\n",
       "1758 -1.50300  0.80600  3.76500  7.21000  9.71500 13.13900 13.84700 11.81800\n",
       "1759  5.01400  4.08200  4.52000  5.98300 10.18900 13.51200 12.52600 14.58700\n",
       "1760 -0.81100  2.43600  1.86400  7.43600 10.66100 11.94500 12.88700 13.91700\n",
       "1761  0.60000  2.73500  5.97600  7.32100 13.45100 16.82100 19.02100 15.33100\n",
       "1762  6.86600  4.80100  3.52800  9.01900 10.88100 13.49900 14.72000 13.99200\n",
       "1763  1.36900  0.77100  1.57600  7.87100 10.70100 12.27100 16.39100 14.12600\n",
       "1764  1.74100  6.16200  5.52100  7.88000 11.17500 11.72300 12.50700 12.28200\n",
       "1765  3.78000  3.83200  6.85900  9.01300 10.73400 10.83300 13.95300 13.12000\n",
       "1766 -0.79300  4.89600  6.06200  8.00700 11.22800 13.65300 13.55500 13.75800\n",
       "1767 -0.64300  3.93200  7.02200  6.27800 10.19300 14.11200 13.36100 14.59700\n",
       "1768 -2.08000  0.50600  2.44600  6.92000  9.06600 12.49000 13.87500 12.35200\n",
       "1769  2.30500  2.16400  4.57000  8.96700 12.87300 15.14200 14.46100 13.49400\n",
       "1770  1.97400  4.10500  1.61200  9.78800  9.99600 11.88400 11.62100 11.41300\n",
       "1771  5.10100 -0.27400  2.81400  5.71700  9.62600 14.10400 13.82800 14.20400\n",
       "1772  1.25300  1.47800  3.05700  8.85800  9.53100 12.64700 14.58100 14.09800\n",
       "1773 -0.43700  1.42100  4.42200  9.41500 12.76400 12.81100 14.48400 13.62400\n",
       "1774 -0.32500  4.91400  5.64300 10.15300 16.02500 15.37100 16.52100 14.09900\n",
       "1775  4.26100  6.42700  7.75900  7.95200 11.39900 12.31400 14.71900 14.43500\n",
       "1776 -0.80600  4.82500  4.65200  7.44000 10.47500 14.56400 14.10800 14.83700\n",
       "1777  6.02100  4.91900  5.57200  6.36200 11.38900 12.32300 12.74300 12.81500\n",
       "1778  2.52100  6.09400  4.60400 10.98400 11.28600 11.73100 15.03700 12.86900\n",
       "1779  1.47000  5.14000  6.96700  9.96500 14.18000 12.54700 13.65900 13.79900\n",
       "1780  2.51500  4.08000  5.72400 13.73200 15.75700 14.74700 16.18300 12.94700\n",
       "1781  2.40100  2.26700  4.77200  6.92300 11.10200 11.67800 14.28500 14.14100\n",
       "1782  0.34100  0.63900  2.56500  8.61800 10.99000 13.80100 13.92500 15.68300\n",
       "1783 -1.43100  5.29400  4.79900  8.57400 11.81900 14.34000 13.06900 13.97100\n",
       "1784  2.59600  0.98900  3.91900  8.14200 10.01300 12.80300 14.94700 15.86100\n",
       "1785  0.86500  1.04500  2.28900  6.37900  9.85300 13.74400 14.46800 14.46600\n",
       "1786  0.76300  2.65700  5.64800  9.31800 11.58300 13.03500 15.29400 14.45500\n",
       "1787  2.84500  2.56300  4.69800  7.77200 11.40300 14.36900 13.45100 13.55500\n",
       "1788  0.73500  3.58100  5.33600  8.71400 10.42800 13.80800 16.46800 13.88500\n",
       "1789  3.70600  1.67500  3.98900  7.69400 11.66600 13.50700 15.46200 13.84000\n",
       "1790  2.44400  2.97300  4.58200  6.05300 10.35700 13.74600 13.81200 13.92500\n",
       "1791  1.49300  3.46600  4.79000  9.12700  9.85900 13.23100 13.61200 13.74400\n",
       "1792  0.34800  3.62000  4.42900  7.99400 11.32100 13.58100 14.21200 12.28100\n",
       "1793  0.52100  4.74500  5.04200  8.64300 11.05900 13.14600 14.33600 13.16000\n",
       "1794  3.71000  3.60500  5.69600  9.36700 12.37600 11.99400 12.87400 13.48400\n",
       "1795  2.73100  4.39000  5.70900  8.91800 11.02900 13.29300 14.29500 13.14000\n",
       "1796  2.84400  2.73600  3.47700  7.77300 11.27300 14.21600 14.31400 14.72200\n",
       "1797  4.39600  4.95700  4.05600  6.60000 10.41700 13.85200 14.10700 14.04000\n",
       "1798  2.67900  3.21300  7.00800  8.08300 11.76900 13.24600 14.95100 14.75400\n",
       "1799  1.92300  2.07800  3.98600  8.78600 11.35300 13.68000 14.86900 14.08600\n",
       "1800  2.81500  3.63400  4.45200  9.12500 11.09700 13.60600 13.76300 13.61900\n",
       "1801  2.68700  3.14900  6.45500  7.40400 12.12300 12.53600 14.67600 13.18700\n",
       "1802  3.74000  2.82800  5.20100  7.62300 10.45700 14.47100 14.62800 14.03900\n",
       "1803  0.60200  1.44300  4.87500  9.29100 11.79500 13.82100 15.10600 15.36600\n",
       "1804  2.44500  1.93900  4.42500 10.05700 12.10700 13.77400 15.77400 14.51100\n",
       "1805  2.82200  2.55700  5.76000  8.12300 11.10400 14.02700 14.70200 15.27000\n",
       "1806  2.91700  2.93700  4.69100  8.03200 11.50300 12.41800 13.92300 14.59300\n",
       "1807  1.05500  4.09400  4.78800  6.97100  9.33100 13.29300 14.13800 13.79900\n",
       "1808  1.13100  2.14200  4.36100  7.48200  9.35700 13.42900 14.49100 13.04700\n",
       "1809  0.20800  0.85600  3.42500  7.83300  9.24300 12.99800 12.65600 12.90500\n",
       "1810  0.88800  2.39100  5.01400  6.53300  9.06900 11.93400 12.55100 12.04100\n",
       "1811  1.37400  0.45000  3.70100  6.30200  9.44300 12.13700 11.95600 13.32600\n",
       "1812  0.97700  0.13100  2.04400  6.95000  9.58000 12.00500 14.35500 15.01800\n",
       "1813 -1.38500  2.25800  1.59600  8.18200 11.36700 13.24200 14.52100 13.09700\n",
       "1814  1.50200  1.68900  2.66400  7.19300  9.41700 12.81800 12.53200 12.66800\n",
       "1815  2.05100  2.27300  3.66300  6.58800  9.84500 11.16200 14.39400 13.20900\n",
       "1816  2.73700  0.67600  3.90500  7.60600 10.59400 11.79000 12.26700 12.57000\n",
       "1817  1.54000  3.64900  4.56900  7.88900  9.47600 11.28700 12.07200 13.40300\n",
       "1818  1.20400  0.75500  5.56500  9.90100 11.24700 13.82500 13.51000 13.16600\n",
       "1819  1.01400  2.28600  2.93100  7.02900  9.85100 12.52600 13.03800 12.55700\n",
       "1820  1.23600  2.14500  4.61800  8.70000 11.62000 13.32300 13.31100 11.97800\n",
       "1821  2.99900  3.75800  5.46200  7.73900 11.30000 12.60800 13.03900 13.14500\n",
       "1822  2.75900  4.46500  7.78700  8.27800 10.48600 13.06700 14.21200 13.21500\n",
       "1823  1.75800  1.96600  5.06800  7.66500 10.56300 13.95800 14.19700 13.13000\n",
       "1824  2.65100  2.67900  5.35700  8.37500 11.13200 13.42700 14.83000 13.43700\n",
       "1825  3.21300  3.09200  5.36500  8.98800 10.75100 13.76500 14.00700 13.26900\n",
       "1826  1.89300  1.53300  4.88800  8.40300 11.80400 13.02000 14.48200 13.10900\n",
       "1827  3.59300  4.41500  6.14100  9.42900 11.80700 13.54800 14.68400 13.69400\n",
       "1828  0.59500  1.85300  5.72900  8.73700 11.28100 14.12400 14.38400 13.63500\n",
       "1829  2.03200  1.71500  5.06100  7.81500 11.33600 12.86000 14.22500 13.39900\n",
       "1830  2.95700  4.08500  4.45400  8.84100 10.20200 12.82700 14.94200 13.38600\n",
       "1831  2.18200  2.47900  4.55800  7.73100 10.99400 13.20300 13.58000 12.49000\n",
       "1832  1.71700  1.83300  4.65000  8.05900 10.48900 12.85700 13.72700 11.96600\n",
       "1833  2.00600  2.81500  4.52100  7.86900 10.58100 13.04900 13.80300 13.22200\n",
       "1834  0.33400  2.32900  5.73600  8.08500 11.23400 12.79900 14.19700 13.41200\n",
       "1835  2.55100  2.96700  4.50700  7.76900 10.17100 12.00700 13.12900 12.32200\n",
       "1836  1.67000  2.37100  5.44800  7.31500 10.27900 12.54900 13.64600 12.83000\n",
       "1837  1.94000  2.61900  3.86500  6.55600  9.97300 12.09900 13.52600 13.01800\n",
       "1838 -0.55700  1.56300  3.72300  7.38300  9.98500 12.74200 14.36700 13.56800\n",
       "1839  2.15600  3.48200  2.67300  7.89200 10.28900 12.54800 14.41100 14.07000\n",
       "1840  2.56100  2.10200  4.04000  7.94300 11.17300 13.41100 14.71400 13.08600\n",
       "1841  0.64900  2.46800  3.30700  6.77000 10.76400 13.06200 14.55200 13.70800\n",
       "1842  1.63600  2.78700  5.75000  8.31000 10.53500 12.62900 13.58400 13.24100\n",
       "1843  2.97400  3.92000  4.74400  7.83000 10.04000 12.53000 13.99100 13.29500\n",
       "1844  1.86800  2.03800  4.73400  7.38900 10.10900 12.84000 13.92100 13.04600\n",
       "1845  2.66100  1.62700  4.65100  8.15800 10.43300 12.86300 14.31900 13.55600\n",
       "1846  3.21300  3.37600  6.31400  7.47300 10.89600 13.53000 14.92300 14.12100\n",
       "1847  2.75300  3.60200  4.04600  7.98000 10.62200 12.82800 14.25000 13.41400\n",
       "1848  0.51000  3.72600  4.80600  8.11000 10.58000 13.24700 14.46600 13.26800\n",
       "1849  1.94100  2.63800  5.30200  7.02800 10.15900 13.00000 14.45800 13.60300\n",
       "1850  0.74900  3.07100  4.95400  7.21700 10.00400 13.15000 14.49200 14.03900\n",
       "1851  2.43100  2.50800  4.19200  7.28700 11.11300 13.41800 14.53100 13.75100\n",
       "1852  2.37600  2.54000  3.88400  7.48700 11.16900 13.16400 14.51200 13.30400\n",
       "1853  1.78600  2.22800  4.07800  7.54100 10.97500 13.41000 14.64500 13.95300\n",
       "1854  1.28100  1.94100  4.69800  7.62200 11.09500 12.82900 14.69200 13.88900\n",
       "1855  2.52200  2.98200  4.61700  8.58000 11.18600 12.98400 13.92600 13.54700\n",
       "1856  2.76000  2.22600  4.37200  7.75100 10.53000 13.49600 14.01900 13.02100\n",
       "1857  1.82100  2.48100  4.31200  6.82700  9.88500 12.61100 13.95300 13.20300\n",
       "1858  2.73900  2.28400  4.83400  8.25000 10.85100 12.95600 13.67700 13.22000\n",
       "1859  2.01500  2.61100  5.02300  8.54200 11.45600 13.14200 13.82700 13.21700\n",
       "1860  2.07700  2.63200  3.49400  7.76000 11.06200 13.27200 14.20300 13.76500\n",
       "1861  0.40400  2.13700  4.48900  7.48700 10.51600 13.01700 13.96700 13.65600\n",
       "1862  0.68500  1.76900  4.48500  7.32300 10.73900 12.86000 13.92800 13.18800\n",
       "1863  3.03400  3.25300  4.68200  7.93100 11.08100 12.79400 13.76500 13.29400\n",
       "1864  1.55100  2.50600  4.65100  7.51500 10.95600 13.36500 14.16200 13.43400\n",
       "1865  2.97500  2.15200  4.03900  7.31400 10.91700 13.21400 14.22000 13.58000\n",
       "1866  2.93200  2.27400  4.42100  7.91400 10.89800 12.85300 14.60200 13.53200\n",
       "1867  2.48200  2.66400  4.45400  8.25800 10.49500 13.30300 14.22300 13.50600\n",
       "1868  1.83400  2.03900  4.53800  8.18300 11.30800 13.16200 14.51400 13.74400\n",
       "1869  2.11500  3.86400  4.37400  7.92100 11.29500 13.53700 14.33700 14.01000\n",
       "1870  2.08200  2.13400  4.65600  7.87900 11.33900 13.65300 14.59900 13.48400\n",
       "1871  1.44700  1.73600  4.68500  8.34000 10.78800 13.08000 14.29000 13.93200\n",
       "1872  1.65200  2.35000  4.92200  7.84600 11.19800 13.05500 14.28500 13.82100\n",
       "1873  2.01300  3.19500  4.70400  7.46200 11.00600 13.40500 14.28700 13.75500\n",
       "1874  2.68500  3.06900  4.22100  8.23100 11.30600 13.30600 14.12200 13.81500\n",
       "1875  1.53300  2.25900  4.25600  7.63600 10.74600 13.15700 14.14400 13.40100\n",
       "1876  1.85600  2.61700  4.74800  8.19900 10.69000 13.13100 14.31900 13.48100\n",
       "1877  2.28600  2.92800  5.29700  8.03900 11.05600 13.38400 14.64200 14.15100\n",
       "1878  2.01700  3.72800  6.60800  8.89900 11.01700 13.79600 14.74200 14.09400\n",
       "1879  2.30300  2.73700  4.92400  7.76800 10.80300 13.23000 14.23800 13.24500\n",
       "1880  1.75500  2.05200  4.63000  7.55900 11.09600 13.32700 14.14100 13.80700\n",
       "1881  2.46100  2.62600  5.01000  8.32300 11.16500 12.74500 14.20300 13.71000\n",
       "1882  2.99000  3.23100  5.04000  7.69100 10.88800 12.80500 13.74700 13.70300\n",
       "1883  1.46000  1.85600  4.92900  7.69100 10.83200 13.30200 14.01100 13.22400\n",
       "1884  2.12000  2.47400  3.89200  7.18600 10.19800 12.52700 13.62200 13.25700\n",
       "1885  1.00300  2.24300  4.62200  7.33600 10.56700 12.71600 13.97200 13.35100\n",
       "1886  1.43600  1.79300  4.26200  7.90900 10.78400 12.78900 14.22600 13.32300\n",
       "1887  0.82400  2.05400  4.55200  7.78900 10.84000 12.89000 14.02100 13.09700\n",
       "1888  1.70800  2.03900  4.30000  7.84500 10.62000 12.92100 14.24200 13.51100\n",
       "1889  1.76200  3.40900  5.29900  8.58900 11.24200 13.28800 14.22500 13.50400\n",
       "1890  1.83600  2.51600  4.21000  7.73900 10.46400 12.87200 14.03400 13.26600\n",
       "1891  1.67800  1.88000  4.75500  7.61800 10.78500 12.88800 13.93000 13.49600\n",
       "1892  2.01800  2.80500  4.36200  7.56200 10.62200 13.26300 13.89000 13.42000\n",
       "1893  0.50000  1.65400  4.97900  7.99400 10.74700 13.05100 14.31800 13.45400\n",
       "1894  1.69100  2.92300  5.11800  7.66300 10.94400 12.85800 14.00400 13.48800\n",
       "1895  1.29500  2.00000  4.68900  8.24700 10.86700 13.05800 14.05300 13.48900\n",
       "1896  2.29100  2.70700  4.27900  7.33000 10.89300 13.30400 14.23300 13.62400\n",
       "1897  1.89300  2.42900  4.34500  8.27800 11.37700 13.31900 14.31000 13.66800\n",
       "1898  2.73700  2.35400  3.75100  7.90700 10.83500 13.39500 14.13800 13.57900\n",
       "1899  2.51500  2.38000  4.61800  8.28100 11.02300 12.85600 14.15900 13.77700\n",
       "1900  1.46100  3.09800  5.49200  8.22300 11.38500 13.29300 14.17100 13.81600\n",
       "1901  2.19100  3.09200  5.67100  8.52200 11.17800 13.42300 14.33900 13.78900\n",
       "1902  2.68400  3.60600  4.88300  7.95600 10.89300 13.21400 14.23100 13.59900\n",
       "1903  2.51400  3.55500  4.93000  7.83200 10.79400 12.88600 13.99200 13.41200\n",
       "1904  1.63700  2.29700  4.50600  7.68400 10.84000 13.01400 13.83600 13.45900\n",
       "1905  2.25400  1.92700  4.63500  7.75500 10.98200 13.11200 14.07700 13.57800\n",
       "1906  2.06800  2.30100  4.86600  8.62600 11.24000 13.33400 14.12200 13.69100\n",
       "1907  1.79800  2.11700  4.57500  7.57900 10.37500 12.72900 13.76900 13.36200\n",
       "1908  2.30400  2.76900  4.13600  7.83200 11.14100 13.29300 14.19700 13.37600\n",
       "1909  1.39500  2.70600  4.58900  7.53400 10.61100 12.96200 14.06000 13.75200\n",
       "1910  2.33300  2.77900  4.60600  8.10500 11.00500 13.15100 14.27900 13.67700\n",
       "1911  1.66000  2.45300  4.34700  7.99000 10.82900 13.00900 14.08200 13.49900\n",
       "1912  2.40200  3.35400  4.35600  8.22900 11.25400 13.43500 13.72300 13.05300\n",
       "1913  2.08300  2.37600  4.51700  8.02300 10.74500 13.00500 14.13700 13.72400\n",
       "1914  3.37600  3.20000  4.94200  8.09800 11.28500 13.49600 14.29800 13.73000\n",
       "1915  2.29900  3.26500  5.14300  8.70500 11.49300 13.30000 14.44300 13.77000\n",
       "1916  2.61600  2.95700  4.84600  8.04700 10.97200 12.94200 14.05200 13.58000\n",
       "1917  2.13300  2.36000  4.48800  7.85500 10.44300 12.91500 14.25900 13.47100\n",
       "1918  1.93400  2.45500  4.81100  7.64400 10.54000 12.90800 14.00200 13.43100\n",
       "1919  2.18400  2.85200  4.74300  8.48700 10.96900 13.22800 14.27400 13.78600\n",
       "1920  2.84100  2.75500  5.22700  8.29300 11.13100 13.10500 14.24500 13.69800\n",
       "1921  2.98000  3.12500  5.08100  8.32400 11.24500 13.44000 14.43600 13.56100\n",
       "1922  2.15000  2.37600  5.15600  8.38000 11.09700 13.33100 14.27800 13.58400\n",
       "1923  2.48700  2.56300  4.86600  7.74900 10.84900 13.29600 13.98400 13.61100\n",
       "1924  2.33900  2.88800  5.35200  7.97000 11.18800 13.34200 14.30400 13.65400\n",
       "1925  2.26800  2.70100  5.12600  8.44200 11.03900 13.08900 14.06600 13.76900\n",
       "1926  3.45300  3.71700  5.83100  8.19300 10.93100 13.28500 14.16800 13.87700\n",
       "1927  2.37200  3.03900  4.66800  8.03500 11.10400 13.27200 14.32300 13.69800\n",
       "1928  3.04600  3.33300  4.95900  8.24400 11.16900 13.11300 14.31000 13.68700\n",
       "1929  2.05400  2.17200  5.09900  8.09400 10.91500 12.92800 13.95700 13.68000\n",
       "1930  2.40100  3.15200  5.48300  8.18200 11.10500 13.34700 14.46500 13.92800\n",
       "1931  2.76100  2.70800  5.22000  8.16300 11.02000 13.57300 14.57600 14.12000\n",
       "1932  3.60400  2.98900  4.94000  8.76900 11.23900 13.38300 14.37200 13.74000\n",
       "1933  2.16900  2.65700  4.86900  8.12500 11.04700 13.11000 14.23600 13.76000\n",
       "1934  2.47600  3.69900  4.81800  8.01600 11.47800 13.40200 14.34300 13.77800\n",
       "1935  2.17500  4.12500  5.39900  7.77100 10.90600 13.32600 14.33100 13.77500\n",
       "1936  2.24900  2.50600  5.03100  8.12700 11.25100 13.36300 14.62900 13.86000\n",
       "1937  2.45300  3.55300  4.85100  8.14000 11.42200 13.60300 14.37500 14.00700\n",
       "1938  2.91000  3.41700  5.65100  8.91300 11.45600 13.32100 14.48200 13.96300\n",
       "1939  2.93200  3.23200  4.92600  8.32800 11.52400 13.53100 14.39500 13.93200\n",
       "1940  2.33500  3.42300  5.42400  8.75600 11.33800 13.58300 14.57100 13.81100\n",
       "1941  2.73500  3.67000  5.21300  8.57500 11.49300 13.63000 14.69400 14.02800\n",
       "1942  3.10300  2.85700  5.30800  8.41600 11.33800 13.57800 14.24200 13.78600\n",
       "1943  2.39600  3.51300  5.13800  8.63800 11.48500 13.16100 14.46000 13.77400\n",
       "1944  3.50400  3.59100  5.53100  8.43400 11.33400 13.47800 14.46800 14.01700\n",
       "1945  2.52500  2.64600  5.18400  8.68100 11.09700 13.32800 14.21300 14.31300\n",
       "1946  2.97900  3.46100  5.23600  8.83700 11.35500 13.29800 14.40900 13.83400\n",
       "1947  2.59700  3.27700  5.80100  8.68600 11.32900 13.45900 14.34900 13.82700\n",
       "1948  3.36600  3.22000  4.91900  8.49900 11.53700 13.66400 14.44500 13.89600\n",
       "1949  3.21900  2.75900  5.07700  8.34400 11.30900 13.22300 14.19900 13.82600\n",
       "1950  2.00800  2.72100  5.24700  8.12300 11.29700 13.38200 14.14000 13.46000\n",
       "1951  2.13800  2.33200  5.09100  8.36700 11.43800 13.25000 14.32400 14.02100\n",
       "1952  3.04900  3.39600  4.96700  8.46100 11.35200 13.44200 14.54900 13.96400\n",
       "1953  2.96400  3.62900  5.71200  8.89200 11.51400 13.61200 14.39200 14.05900\n",
       "1954  2.05900  3.08400  5.14800  8.15800 10.98800 13.40000 14.24100 13.86800\n",
       "1955  3.41200  3.13700  4.58500  8.13600 11.19200 13.56000 14.24200 14.28300\n",
       "1956  2.46600  2.78100  4.88900  7.92200 10.72100 13.16000 14.18000 13.18900\n",
       "1957  2.48800  3.12000  5.03600  8.36600 11.25900 13.78300 14.12900 14.08200\n",
       "1958  3.57400  3.69500  5.45300  8.52000 11.51900 13.18700 14.43800 13.59700\n",
       "1959  2.95900  3.33000  5.85400  8.81900 11.32300 13.57700 14.44900 13.85300\n",
       "1960  2.71300  3.79800  4.30300  8.13300 10.87200 13.48400 14.19800 13.82500\n",
       "1961  2.92600  3.68300  5.58900  8.63100 11.62400 13.70200 14.28800 13.84900\n",
       "1962  3.00300  3.69600  5.53000  8.54000 11.12800 13.42700 14.20500 13.71300\n",
       "1963  2.90100  4.02000  5.09700  8.17300 11.04500 13.41200 14.50600 14.30900\n",
       "1964  2.88100  3.02800  4.86500  7.92200 10.90500 13.45900 14.30100 13.67800\n",
       "1965  2.86200  3.03600  5.18200  7.99000 11.22200 13.30800 14.07800 13.80700\n",
       "1966  2.49000  3.29000  5.52700  8.16100 11.20000 13.58700 14.56900 13.73100\n",
       "1967  2.71000  2.90500  5.39600  8.45800 11.63200 13.19400 14.33100 13.82100\n",
       "1968  2.35300  3.24500  6.11700  8.45500 11.06800 13.20400 14.02600 13.52400\n",
       "1969  1.96600  2.45000  5.13100  8.57600 11.35400 13.47500 14.21800 13.80400\n",
       "1970  2.83600  3.73500  5.27200  8.60300 11.20600 13.51300 14.39500 13.65800\n",
       "1971  2.96700  2.86700  5.00100  8.33900 11.21100 13.09900 14.13900 13.87900\n",
       "1972  1.88200  2.60900  5.28700  8.33700 11.15500 13.50100 14.23100 14.17100\n",
       "1973  3.03800  3.89800  5.82000  8.93800 11.76900 13.82400 14.43500 13.86900\n",
       "1974  2.26100  2.58200  5.19000  8.38600 11.19800 13.38200 14.28800 14.01600\n",
       "1975  3.05900  3.39500  5.70600  8.58400 11.74200 13.55700 14.35100 13.51400\n",
       "1976  2.88400  3.03100  4.51700  8.29400 10.94200 13.08600 14.15500 13.51100\n",
       "1977  2.49200  3.47100  5.70200  8.85000 11.78000 13.87600 14.63100 14.09000\n",
       "1978  2.70500  3.45600  5.60700  8.79100 11.41400 13.22000 14.36400 13.29700\n",
       "1979  2.67900  2.84100  5.47400  8.45500 11.19900 13.48700 14.11400 13.83300\n",
       "1980  2.95600  3.65200  5.36700  8.93500 11.77000 13.58200 14.74200 14.18900\n",
       "1981  3.78500  4.02100  6.23900  8.95300 11.56500 13.76500 14.73800 14.50200\n",
       "1982  2.55800  3.28100  4.87300  8.46500 11.34800 13.24500 14.54500 13.79600\n",
       "1983  3.44500  3.81400  5.69900  8.69300 11.72900 13.47800 14.40800 14.30200\n",
       "1984  2.94100  3.09300  5.67100  8.43200 11.97600 13.38700 14.42900 13.98400\n",
       "1985  3.01000  2.70400  5.45100  8.63300 11.42600 13.56900 13.97300 14.05900\n",
       "1986  3.31500  3.99100  5.75500  8.87100 11.58100 13.43900 14.29300 13.97200\n",
       "1987  3.13900  4.13400  5.24500  8.59500 11.52500 13.92700 14.89000 13.89600\n",
       "1988  3.45400  3.42200  5.93100  8.99200 11.85200 14.09900 14.79800 14.55300\n",
       "1989  2.71000  3.62700  5.79200  8.68900 11.28000 13.44700 14.61200 14.13500\n",
       "1990  3.24300  3.64300  6.73000  9.16900 11.83100 13.89300 14.78400 14.09500\n",
       "1991  3.19500  4.04400  5.57400  9.22600 11.61600 14.26300 14.98700 14.31900\n",
       "1992  3.57900  3.93100  5.95200  8.57200 11.53500 13.57600 14.13900 13.76600\n",
       "1993  3.30100  3.74500  5.92300  8.69000 11.47500 13.51800 14.59500 13.83500\n",
       "1994  3.02400  2.81000  5.73100  9.01800 11.68400 14.14400 14.65800 13.97700\n",
       "1995  3.54000  4.65600  5.95600  8.97200 11.57000 14.16400 15.11600 14.63600\n",
       "1996  2.86200  4.01200  5.52400  8.67900 11.58800 13.68100 14.82700 14.60300\n",
       "1997  3.16500  3.76600  6.01200  8.89100 11.59300 14.13100 14.56500 14.25600\n",
       "1998  3.35200  4.82600  6.02300  9.35800 12.29100 14.52100 15.34000 14.87400\n",
       "1999  3.54400  4.69400  5.53000  8.83800 11.70600 14.03100 14.85300 14.34800\n",
       "2000  2.95000  4.18400  6.21900  9.55200 11.87400 14.06000 14.84800 14.51900\n",
       "2001  3.33600  3.72000  6.20800  9.24500 12.27100 14.11000 15.16100 14.42700\n",
       "2002  4.02600  4.70400  6.77200  9.22900 12.24800 14.08400 15.35400 14.56000\n",
       "2003  3.98100  4.08500  6.04800  9.15400 12.15300 14.01700 14.98300 14.69100\n",
       "2004  3.52500  4.49900  6.32100  9.24900 11.57100 13.88900 14.31200 14.18800\n",
       "2005  3.80800  3.92000  6.54400  9.61800 12.22600 14.47600 15.19000 14.51000\n",
       "2006  3.28600  4.43000  6.32900  9.05500 11.78600 14.44300 15.04200 14.91300\n",
       "2007  4.57900  4.22100  6.48500  9.82300 12.51800 14.30900 15.23000 14.75200\n",
       "2008  2.84400  3.57600  6.90600  9.29500 12.05400 14.14500 15.17400 14.37700\n",
       "2009  3.68700  4.09400  6.08600  9.36700 12.11200 14.20100 15.23100 14.65500\n",
       "2010  3.73700  4.39900  6.73800  9.67100 12.40600 14.42100 15.21300 14.76800\n",
       "2011  3.28200  3.74300  6.10100  9.48300 11.98600 14.37000 15.48200 15.01200\n",
       "2012  3.15700  3.62800  6.02300  9.67600 12.59000 14.49200 15.07600 14.72000\n",
       "2013  3.68500  4.22200  6.26100  9.04400 12.19500 14.56800 15.00300 14.74200\n",
       "2014  3.73200  3.50000  6.37800  9.58900 12.58200 14.33500 14.87300 14.87500\n",
       "2015  3.88100  4.66400  6.74000  9.31300 12.31200 14.50500 15.05100 14.75500\n",
       "     Sep      Oct      Nov      Dec     \n",
       "1750 11.41300  6.36700  4.56950  2.77200\n",
       "1751 10.67300  8.09175  5.51050  2.92925\n",
       "1752  7.91000  7.83900  7.33500  5.08600\n",
       "1753 13.32200  8.96200  5.35300  0.55900\n",
       "1754 11.12900  9.58200  6.16100  4.58700\n",
       "1755 11.77300  9.97000  5.95800  2.56400\n",
       "1756 12.65200  7.31200  4.22500  2.16500\n",
       "1757 14.85200  6.48200  4.03200  1.02100\n",
       "1758 10.02800  1.89400  6.95500  3.24900\n",
       "1759 12.62600  8.26700  4.26800  0.24700\n",
       "1760 11.19700  6.70100  5.43600  2.55300\n",
       "1761 12.53500  7.22700  5.08900 -0.83700\n",
       "1762 10.32600  6.15600  6.36700  3.12300\n",
       "1763 11.37800  5.53500  4.58800  3.38400\n",
       "1764 10.69600 10.01100  5.79100  5.31500\n",
       "1765 10.99300  7.90400  5.60300  2.39900\n",
       "1766 12.25000  8.46500  7.45400  2.33300\n",
       "1767 11.67500  9.02700  7.91500  1.18900\n",
       "1768 10.82400  7.72900  4.58100  2.66700\n",
       "1769 11.25000  5.29700  2.79000 -0.97800\n",
       "1770 10.72400  8.66100  5.79100  4.73400\n",
       "1771 11.36300 10.31700  4.91600  2.52200\n",
       "1772 10.30300  9.26800  7.73600  5.51200\n",
       "1773 12.48800  9.20600  3.36900  5.09100\n",
       "1774 10.93600  8.59000  3.02900  0.31000\n",
       "1775 11.09600 10.37200  8.17900  1.28400\n",
       "1776 10.60200  8.06000  5.87000  5.02100\n",
       "1777 11.37900  6.95600  5.52900  3.06700\n",
       "1778 13.37700  8.04900  3.85400  2.10100\n",
       "1779 12.68300  9.35000  5.77000  2.26900\n",
       "1780  8.84400  9.37600  6.70600  2.58400\n",
       "1781 10.30400  8.54700  7.52300  3.28800\n",
       "1782 12.39800  8.97800  4.95600  1.92100\n",
       "1783  9.95800  7.35700  2.19600  2.22400\n",
       "1784 10.26600  6.83600  4.55700  3.41500\n",
       "1785 10.49700  7.35100  5.52600  1.87300\n",
       "1786 12.15800  7.71200  5.74100  0.73400\n",
       "1787 10.35700  7.77200  5.80100  1.79600\n",
       "1788 11.69900  9.34900  6.11100  1.25200\n",
       "1789 12.01800  7.39000  5.96400  3.09900\n",
       "1790 11.23300  8.57700  5.33100  2.75500\n",
       "1791 11.67700  8.08000  6.20600  3.52600\n",
       "1792 12.49100  8.09700  5.30600  3.38800\n",
       "1793 12.00200  8.39300  5.66600  2.03700\n",
       "1794 11.89600  9.10800  5.28400  2.91800\n",
       "1795 11.13300  7.78600  5.20700  2.57300\n",
       "1796 12.01200  8.92400  5.70200  1.25900\n",
       "1797 12.45900  9.19100  4.77700  3.27500\n",
       "1798 11.62700  8.65500  6.03100  2.02700\n",
       "1799 12.31100  9.60600  5.90400  3.48700\n",
       "1800 10.79500  9.46900  5.57200  3.86400\n",
       "1801 11.46200  9.09900  5.72000  4.57800\n",
       "1802 11.78800  9.74700  5.53500  2.88100\n",
       "1803 12.33000  9.11900  5.96100  2.32700\n",
       "1804 12.46800  9.28200  7.13200  2.22400\n",
       "1805 12.03900  7.63600  4.55500  4.15800\n",
       "1806 12.54900  8.42600  5.23100  3.98900\n",
       "1807 12.61500  8.85700  6.01500  4.42100\n",
       "1808 12.71100  7.97200  4.51200  0.88700\n",
       "1809 10.96700  8.65000  3.09900  2.07700\n",
       "1810  9.53200  6.63200  3.82700  2.66000\n",
       "1811 10.36800  6.58000  3.50300  3.17400\n",
       "1812 10.18500  7.59300  4.36900  1.34800\n",
       "1813 12.33900  8.66600  6.82500  2.17100\n",
       "1814 10.67600  7.37400  6.73900  5.82900\n",
       "1815 11.15100  7.13700  4.17800  1.22100\n",
       "1816 10.39000  5.69900  4.05800  0.95800\n",
       "1817  8.81200  6.20300  4.63800  0.17000\n",
       "1818 10.57800  6.65400  5.03500  2.50700\n",
       "1819 10.89400  9.31200  5.15000  1.84200\n",
       "1820 11.16000  7.58800  4.44300  1.27300\n",
       "1821 10.17800  8.53500  5.60100  2.71700\n",
       "1822 10.69500  7.77400  4.50100  1.02100\n",
       "1823 10.19800  7.64200  4.50800  1.97100\n",
       "1824 11.52800  8.19700  5.87700  5.07600\n",
       "1825 11.14800  7.97900  6.05800  3.03700\n",
       "1826 11.17800  8.45900  6.63400  4.87600\n",
       "1827 10.88300  8.51000  6.27900  2.72200\n",
       "1828 10.08000  8.65600  5.95700  2.95300\n",
       "1829 10.59800  8.80600  5.00300  2.45200\n",
       "1830 10.54000  7.99300  7.49300  4.48100\n",
       "1831  9.94600  7.83000  4.41200  2.26500\n",
       "1832 10.42600  8.63400  4.26200  0.78200\n",
       "1833 11.23600  7.90000  6.59600  2.55800\n",
       "1834 11.57100  8.61700  6.35500  3.09200\n",
       "1835  9.94200  7.83500  4.31200  1.19800\n",
       "1836 10.81200  8.75600  3.81400  2.86000\n",
       "1837 10.80500  7.65300  4.16900  2.28500\n",
       "1838 11.10600  8.52600  5.16000  2.61300\n",
       "1839 10.85300  8.21900  3.92000  1.07400\n",
       "1840 11.01000  7.50500  4.10100  1.90900\n",
       "1841 10.92100  8.76500  4.74400  2.54800\n",
       "1842 10.94000  8.30700  4.82400  3.73000\n",
       "1843 11.32600  8.72200  4.94700  3.76500\n",
       "1844 10.81900  8.70000  4.40100  1.89100\n",
       "1845 11.23400  7.78200  5.19400  1.73600\n",
       "1846 11.73800  8.22900  5.04400  3.77600\n",
       "1847 11.61900  8.61800  5.57400  1.72600\n",
       "1848 10.99700  8.65500  5.29000  2.09900\n",
       "1849 11.09300  8.89000  5.77800  1.92300\n",
       "1850 11.50500  8.09100  4.73300  2.80300\n",
       "1851 11.67700  9.12200  4.97300  3.14000\n",
       "1852 11.47800  8.91000  4.59300  3.78500\n",
       "1853 11.71000  8.53500  4.78300  2.85800\n",
       "1854 11.51400  9.76300  5.74500  3.45700\n",
       "1855 11.14100  8.44400  5.18600  2.21400\n",
       "1856 10.94800  8.08700  5.36000  3.38100\n",
       "1857 11.05600  8.19800  5.23600  3.51500\n",
       "1858 11.14800  8.81000  5.99000  2.44400\n",
       "1859 11.08000  8.83400  5.91200  3.36500\n",
       "1860 11.89200  8.71200  5.02700  1.63400\n",
       "1861 11.40900  8.47500  5.70700  2.89400\n",
       "1862 11.02800  8.28300  4.79200  1.62300\n",
       "1863 11.23000  8.23500  5.39200  2.65100\n",
       "1864 11.37000  8.79500  5.23200  2.26600\n",
       "1865 11.79700  9.13600  6.14400  2.64600\n",
       "1866 11.52700  8.50600  5.89500  4.15200\n",
       "1867 11.76300  9.21200  6.93900  3.93700\n",
       "1868 11.66900  9.44800  5.19200  3.34400\n",
       "1869 12.24700  9.00600  5.77300  2.70600\n",
       "1870 11.95200  8.81000  5.60000  2.22800\n",
       "1871 11.71100  9.09600  5.11300  3.16300\n",
       "1872 11.95800  9.24000  5.37200  2.62700\n",
       "1873 11.48700  9.23400  5.81900  3.84600\n",
       "1874 12.11100  9.12000  5.80900  3.40700\n",
       "1875 11.31900  8.58500  4.61400  2.66500\n",
       "1876 11.68700  8.94600  5.09300  2.19400\n",
       "1877 12.07500  9.27300  6.34800  2.99600\n",
       "1878 12.09300  9.17300  6.44600  3.34400\n",
       "1879 11.44900  9.22900  5.52600  2.53800\n",
       "1880 11.38600  8.67300  5.89300  3.10600\n",
       "1881 11.68900  8.85100  5.27200  3.19600\n",
       "1882 11.73600  8.44500  5.06600  2.20500\n",
       "1883 11.34300  8.90900  4.90500  3.26100\n",
       "1884 11.23500  8.58100  5.16400  3.02800\n",
       "1885 11.43500  8.72200  5.42500  3.64400\n",
       "1886 11.60000  8.60400  5.22600  3.50200\n",
       "1887 11.70700  8.73800  5.59200  2.87500\n",
       "1888 11.68500  9.20100  5.79200  3.22200\n",
       "1889 11.54700  8.86500  4.99900  3.09900\n",
       "1890 11.54600  9.17800  5.03000  2.96900\n",
       "1891 11.76300  8.72200  5.11500  3.60200\n",
       "1892 11.76400  9.29000  4.85900  2.93500\n",
       "1893 11.76700  9.16000  5.90200  3.15500\n",
       "1894 11.58000  9.12500  5.40500  3.13300\n",
       "1895 11.74300  9.11700  5.74400  3.46200\n",
       "1896 11.82400  9.41600  5.36600  3.31200\n",
       "1897 11.92500  9.19700  5.60800  3.17100\n",
       "1898 11.75300  8.82800  5.45200  3.40700\n",
       "1899 12.12800  9.40900  6.60500  3.00500\n",
       "1900 11.95500  9.66600  5.80400  3.65500\n",
       "1901 11.98400  9.00300  5.97600  3.33500\n",
       "1902 11.79900  8.80100  5.27400  2.71300\n",
       "1903 11.50100  8.81200  5.51600  2.89800\n",
       "1904 11.38100  8.83300  6.23000  3.37400\n",
       "1905 11.80400  9.04100  6.18300  3.35400\n",
       "1906 11.77200  9.26700  5.50100  3.76100\n",
       "1907 11.66500  9.23400  5.20700  2.95600\n",
       "1908 11.97700  8.86500  5.27200  3.07100\n",
       "1909 11.87900  9.19200  6.23600  3.22300\n",
       "1910 11.73300  9.00600  5.31800  2.68400\n",
       "1911 11.63800  9.26300  5.96400  3.39000\n",
       "1912 11.22200  8.36700  5.52100  3.06900\n",
       "1913 11.75900  9.07700  6.02400  4.10300\n",
       "1914 11.91500  9.38700  5.75900  3.60000\n",
       "1915 11.86700  8.98400  6.21600  3.63300\n",
       "1916 11.72600  9.05300  5.59600  2.31600\n",
       "1917 11.74500  8.54400  5.82000  2.24700\n",
       "1918 11.88100  9.43300  5.68300  2.84800\n",
       "1919 11.99000  9.36100  5.48900  3.22400\n",
       "1920 11.79400  9.02100  5.56600  2.62900\n",
       "1921 11.86900  9.26400  5.86400  3.66300\n",
       "1922 11.77500  9.05600  6.04600  3.66700\n",
       "1923 11.88300  9.52000  6.37800  3.88000\n",
       "1924 11.95700  9.20300  6.40000  3.48500\n",
       "1925 11.97900  9.19600  6.34000  4.39800\n",
       "1926 12.07500  9.55000  6.30000  3.36600\n",
       "1927 12.25400  9.88700  6.34600  3.26700\n",
       "1928 12.03000  9.48600  6.33600  3.87300\n",
       "1929 11.80700  9.46000  6.17200  2.57100\n",
       "1930 11.87400  9.26100  6.57400  3.83100\n",
       "1931 12.28300  9.93700  6.24300  4.02700\n",
       "1932 12.31000  9.68200  5.90800  3.52700\n",
       "1933 11.85400  9.23800  5.89000  3.10400\n",
       "1934 11.72700  9.42100  6.39700  3.98500\n",
       "1935 11.99900  9.51600  5.44300  3.42300\n",
       "1936 12.02100  9.45700  6.23300  3.92100\n",
       "1937 12.41300  9.72900  6.35600  3.47800\n",
       "1938 12.42700  9.78400  6.53000  3.51000\n",
       "1939 11.95800  9.21800  6.18900  4.95900\n",
       "1940 12.26800  9.45700  6.07600  4.13400\n",
       "1941 11.81600  9.71000  5.95300  3.70700\n",
       "1942 12.14600  9.62700  6.39500  3.94500\n",
       "1943 12.09600  9.90700  6.26000  4.23300\n",
       "1944 12.45000  9.80800  6.09100  3.43400\n",
       "1945 12.22500  9.57500  6.07300  3.15800\n",
       "1946 12.06400  9.28100  6.23500  3.13400\n",
       "1947 12.16600 10.01100  6.40700  3.65600\n",
       "1948 12.15500  9.58400  6.18500  3.49100\n",
       "1949 11.95700  9.53100  6.14800  3.44900\n",
       "1950 11.95200  9.15300  5.37200  3.52800\n",
       "1951 12.32400  9.67000  6.22500  4.32800\n",
       "1952 12.23800  9.15700  5.42500  3.65900\n",
       "1953 12.19900  9.59000  5.92400  3.99800\n",
       "1954 12.09800  9.54600  6.57900  3.55900\n",
       "1955 11.95400  9.73500  5.97300  3.30600\n",
       "1956 11.78300  8.92800  5.73800  3.59800\n",
       "1957 12.31200  9.49600  6.39100  4.32800\n",
       "1958 11.84500  9.37500  6.26000  3.82200\n",
       "1959 11.94600  9.16000  5.75200  3.77000\n",
       "1960 12.09500  9.49700  5.82800  4.25900\n",
       "1961 12.24700  9.32800  6.20500  3.50000\n",
       "1962 12.01800  9.46800  6.28300  3.94000\n",
       "1963 12.55500  9.94300  6.56100  3.75000\n",
       "1964 11.60400  8.83200  5.98300  3.45800\n",
       "1965 11.73000  9.48800  5.86000  3.76600\n",
       "1966 12.13300  9.15300  5.96900  3.38200\n",
       "1967 12.05400  9.80900  6.17600  3.91500\n",
       "1968 11.62000  9.45300  5.89100  3.24000\n",
       "1969 12.04800  9.48900  6.42000  4.21000\n",
       "1970 12.27700  9.34800  6.04700  3.52100\n",
       "1971 12.13900  9.38800  6.29500  3.86700\n",
       "1972 11.90100  9.34600  5.79700  3.77800\n",
       "1973 12.12500  9.60900  6.22200  3.83200\n",
       "1974 11.74400  9.09800  5.91500  3.55000\n",
       "1975 12.15200  9.31800  5.89300  3.66700\n",
       "1976 11.89500  8.51100  5.66000  3.68100\n",
       "1977 11.86200  9.15600  6.54400  3.74900\n",
       "1978 12.03000  9.33900  6.35000  3.74000\n",
       "1979 12.24700  9.58600  6.28600  4.60000\n",
       "1980 12.32100  9.55000  6.68400  4.01600\n",
       "1981 12.23600  9.39400  6.27300  4.51900\n",
       "1982 12.03900  9.23200  5.96100  4.32700\n",
       "1983 12.69800  9.47800  6.76500  3.82900\n",
       "1984 12.01500  9.37800  5.81100  3.18500\n",
       "1985 11.98000  9.33800  5.96800  3.78500\n",
       "1986 11.81700  9.29900  5.91900  3.75100\n",
       "1987 12.44700  9.59000  6.05600  4.48900\n",
       "1988 12.68100  9.97900  6.29500  4.36300\n",
       "1989 12.40300  9.76000  6.17900  4.43000\n",
       "1990 12.19500  9.88200  6.92000  4.42500\n",
       "1991 12.67700  9.75300  6.44000  4.05900\n",
       "1992 11.67200  9.35300  5.88900  4.07500\n",
       "1993 11.93000  9.61400  5.73800  4.03500\n",
       "1994 12.51600 10.00200  6.78800  4.11300\n",
       "1995 12.56500 10.10600  6.76100  4.12300\n",
       "1996 12.29400  9.52500  6.54700  4.32500\n",
       "1997 12.68500 10.10900  6.84100  4.41700\n",
       "1998 12.67300  9.94100  6.40400  4.66900\n",
       "1999 12.72300  9.99700  6.59200  4.56500\n",
       "2000 12.54700  9.48600  6.31200  3.86300\n",
       "2001 12.73600  9.93500  7.31900  4.50700\n",
       "2002 12.95000  9.98800  6.89200  4.03800\n",
       "2003 12.91100 10.42400  6.72700  5.13300\n",
       "2004 12.64200 10.12700  7.31500  4.25700\n",
       "2005 13.21700 10.60100  7.42300  4.87800\n",
       "2006 12.87500 10.28900  6.95500  4.98700\n",
       "2007 12.93000 10.33200  7.08400  4.52300\n",
       "2008 12.80200 10.39900  7.22400  4.38500\n",
       "2009 13.15300 10.13600  7.03100  4.31000\n",
       "2010 12.86300 10.44200  7.48700  4.29200\n",
       "2011 12.91200 10.35200  6.81400  4.65500\n",
       "2012 13.04000 10.42800  7.15600  4.10200\n",
       "2013 13.15400 10.25600  7.42400  4.72400\n",
       "2014 13.09100 10.33000  6.71300  4.85000\n",
       "2015 12.99900 10.80100  7.43300  5.51800"
      ]
     },
     "metadata": {},
     "output_type": "display_data"
    }
   ],
   "source": [
    "gt.ts"
   ]
  },
  {
   "cell_type": "code",
   "execution_count": 9,
   "id": "518f215f-8700-47f8-8c8d-5211d97a64d2",
   "metadata": {
    "colab": {
     "base_uri": "https://localhost:8080/",
     "height": 437
    },
    "id": "518f215f-8700-47f8-8c8d-5211d97a64d2",
    "outputId": "d83d67ff-72ea-40ed-8f2c-1472d3d65931"
   },
   "outputs": [
    {
     "data": {
      "image/png": "[encoded data removed]",
      "text/plain": [
       "Plot with title \"Global Temperature\""
      ]
     },
     "metadata": {},
     "output_type": "display_data"
    }
   ],
   "source": [
    "plot(gt.ts, xlab=\"Time\", ylab=\"Global Temperature\",\n",
    " main=\"Global Temperature\",\n",
    " col=\"darkblue\")"
   ]
  },
  {
   "cell_type": "markdown",
   "id": "74L2nZ8Gi8Ys",
   "metadata": {
    "id": "74L2nZ8Gi8Ys"
   },
   "source": [
    "=> we can hypothesize the presence of trend but due to the complexity of plot we can't determine the presence of saisonality. Also it seems that there's no structural change"
   ]
  },
  {
   "cell_type": "markdown",
   "id": "-DS57RBGgOC8",
   "metadata": {
    "id": "-DS57RBGgOC8"
   },
   "source": [
    "### <div style=\"color:darkblue;\"> Zoom on my dataset"
   ]
  },
  {
   "cell_type": "code",
   "execution_count": 10,
   "id": "G35DkANrgQhk",
   "metadata": {
    "colab": {
     "base_uri": "https://localhost:8080/",
     "height": 437
    },
    "id": "G35DkANrgQhk",
    "outputId": "b83ebba9-0cca-4954-9f34-635feb3b29bd"
   },
   "outputs": [
    {
     "data": {
      "image/png": "[encoded data removed]",
      "text/plain": [
       "Plot with title \"Global Temperature  (zoom 1750-2015)\""
      ]
     },
     "metadata": {},
     "output_type": "display_data"
    }
   ],
   "source": [
    "gt.ts.zoom<-window(gt.ts,start=c(1950,1),end=c(2000,12))\n",
    "plot(gt.ts.zoom,col=\"blue\",lwd=2,xlab=\"Time\",ylab=\"Global Temperature\", main=\"Global Temperature  (zoom 1750-2015)\")"
   ]
  },
  {
   "cell_type": "code",
   "execution_count": 11,
   "id": "ea0b67f6-be2f-4b1b-b12d-e8cf3a2ece90",
   "metadata": {
    "colab": {
     "base_uri": "https://localhost:8080/",
     "height": 437
    },
    "id": "ea0b67f6-be2f-4b1b-b12d-e8cf3a2ece90",
    "outputId": "07b298d4-a8c0-4c72-b942-5d4bac42ff48"
   },
   "outputs": [
    {
     "data": {
      "image/png": "[encoded data removed]",
      "text/plain": [
       "Plot with title \"ACF of Global Temperature\""
      ]
     },
     "metadata": {},
     "output_type": "display_data"
    }
   ],
   "source": [
    "acf(gt.ts,lag=480,main=\"ACF of Global Temperature\",lwd=2)"
   ]
  },
  {
   "cell_type": "code",
   "execution_count": 12,
   "id": "0wFBn4-0k3gf",
   "metadata": {
    "colab": {
     "base_uri": "https://localhost:8080/",
     "height": 437
    },
    "id": "0wFBn4-0k3gf",
    "outputId": "7b2a0b7c-d970-4fd6-95ef-a33750523829"
   },
   "outputs": [
    {
     "data": {
      "image/png": "[encoded data removed]",
      "text/plain": [
       "Plot with title \"PACF of Global Temperature\""
      ]
     },
     "metadata": {},
     "output_type": "display_data"
    }
   ],
   "source": [
    "pacf(gt.ts,lag=480,main=\"PACF of Global Temperature\",lwd=2)"
   ]
  },
  {
   "cell_type": "markdown",
   "id": "4zqmo3i4iuZT",
   "metadata": {
    "id": "4zqmo3i4iuZT"
   },
   "source": [
    "=> The acf has a slow decay which confirms our hypothesis of the presence of a trend\n",
    "as well as a damped repetitive behaviour which informs us about the presence of a\n",
    "seasonality"
   ]
  },
  {
   "cell_type": "markdown",
   "id": "vnMF1bMMjoQ-",
   "metadata": {
    "id": "vnMF1bMMjoQ-"
   },
   "source": [
    "### <div style=\"color:darkblue;\"> Check Serie Stationnarity"
   ]
  },
  {
   "cell_type": "code",
   "execution_count": 13,
   "id": "bKTR4riWj3Qc",
   "metadata": {
    "colab": {
     "base_uri": "https://localhost:8080/"
    },
    "id": "bKTR4riWj3Qc",
    "outputId": "24b1fe90-69c1-48f0-c0ad-b4afe6654ee5"
   },
   "outputs": [
    {
     "name": "stderr",
     "output_type": "stream",
     "text": [
      "Registered S3 method overwritten by 'xts':\n",
      "  method     from\n",
      "  as.zoo.xts zoo \n",
      "Registered S3 method overwritten by 'quantmod':\n",
      "  method            from\n",
      "  as.zoo.data.frame zoo \n"
     ]
    }
   ],
   "source": [
    "#library(forecast)\n",
    "library(tseries)"
   ]
  },
  {
   "cell_type": "code",
   "execution_count": 14,
   "id": "QyIFlKxsjtm3",
   "metadata": {
    "colab": {
     "base_uri": "https://localhost:8080/"
    },
    "id": "QyIFlKxsjtm3",
    "outputId": "8f23ad10-69e0-4d98-be98-353424ddde0b"
   },
   "outputs": [
    {
     "name": "stderr",
     "output_type": "stream",
     "text": [
      "Warning message in adf.test(gt.ts, alternative = \"stationary\"):\n",
      "\"p-value smaller than printed p-value\""
     ]
    }
   ],
   "source": [
    "adf_test <- adf.test(gt.ts, alternative = \"stationary\")"
   ]
  },
  {
   "cell_type": "code",
   "execution_count": 15,
   "id": "9_39IihVj9yd",
   "metadata": {
    "colab": {
     "base_uri": "https://localhost:8080/",
     "height": 121
    },
    "id": "9_39IihVj9yd",
    "outputId": "a1a4f084-9a57-42db-cba5-7613a9e9fae5"
   },
   "outputs": [
    {
     "data": {
      "text/plain": [
       "\n",
       "\tAugmented Dickey-Fuller Test\n",
       "\n",
       "data:  gt.ts\n",
       "Dickey-Fuller = -7.6711, Lag order = 14, p-value = 0.01\n",
       "alternative hypothesis: stationary\n"
      ]
     },
     "metadata": {},
     "output_type": "display_data"
    }
   ],
   "source": [
    "adf_test"
   ]
  },
  {
   "cell_type": "markdown",
   "id": "70d76f01-e8d1-4ac9-9a3c-7132c309f1d1",
   "metadata": {
    "id": "70d76f01-e8d1-4ac9-9a3c-7132c309f1d1"
   },
   "source": [
    "* **p-value:** The p-value is 0.01. Typically, a significance level (alpha) of 0.05 is used. Since the p-value (0.01) is lower than alpha (0.05), we reject the null hypothesis.\n",
    "\n",
    "**Test Interpretation:**\n",
    "\n",
    "* **Null Hypothesis:** The null hypothesis of the ADF test is that the data has a unit root (non-stationary).\n",
    "* **Alternative Hypothesis:** The alternative hypothesis is that the data is stationary.\n",
    "* **Rejection of Null Hypothesis:** Because the p-value (0.01) is less than alpha (0.05), we reject the null hypothesis. This suggests that the LandAverageTemperature data is likely stationary.\n",
    "\n"
   ]
  },
  {
   "cell_type": "markdown",
   "id": "b3953306-4e0c-4fdc-b5f0-5e220456ad08",
   "metadata": {
    "id": "b3953306-4e0c-4fdc-b5f0-5e220456ad08"
   },
   "source": [
    "## <div style=\"color:lightblue;\"> IV-MODELING"
   ]
  },
  {
   "cell_type": "markdown",
   "id": "ed24dd2f-1826-4a49-bba0-8148de059e76",
   "metadata": {
    "id": "ed24dd2f-1826-4a49-bba0-8148de059e76"
   },
   "source": [
    "### <div style=\"color: darkblue;\"> Time series modeling"
   ]
  },
  {
   "cell_type": "markdown",
   "id": "ea594aac-b2d2-49b4-8632-43044c3193ea",
   "metadata": {
    "id": "ea594aac-b2d2-49b4-8632-43044c3193ea"
   },
   "source": [
    "#### Breakpoints Identification"
   ]
  },
  {
   "cell_type": "code",
   "execution_count": 16,
   "id": "8efCFKvXnYWF",
   "metadata": {
    "colab": {
     "base_uri": "https://localhost:8080/"
    },
    "id": "8efCFKvXnYWF",
    "outputId": "c3c431c8-90e0-45ea-d4b0-7377ba2540a1"
   },
   "outputs": [
    {
     "name": "stderr",
     "output_type": "stream",
     "text": [
      "Warning message:\n",
      "\"unable to access index for repository https://cran.r-project.org/bin/windows/contrib/3.6:\n",
      "  cannot open URL 'https://cran.r-project.org/bin/windows/contrib/3.6/PACKAGES'\"Package which is only available in source form, and may need\n",
      "  compilation of C/C++/Fortran: 'strucchange'\n"
     ]
    },
    {
     "name": "stdout",
     "output_type": "stream",
     "text": [
      "  These will not be installed\n"
     ]
    }
   ],
   "source": [
    "install.packages(\"strucchange\")"
   ]
  },
  {
   "cell_type": "code",
   "execution_count": 17,
   "id": "ny9sN8nqn24F",
   "metadata": {
    "colab": {
     "base_uri": "https://localhost:8080/"
    },
    "id": "ny9sN8nqn24F",
    "outputId": "a4433a46-7321-44a6-f8af-f6dfeb82e721"
   },
   "outputs": [
    {
     "name": "stderr",
     "output_type": "stream",
     "text": [
      "Loading required package: zoo\n",
      "\n",
      "Attaching package: 'zoo'\n",
      "\n",
      "The following objects are masked from 'package:base':\n",
      "\n",
      "    as.Date, as.Date.numeric\n",
      "\n",
      "Loading required package: sandwich\n"
     ]
    }
   ],
   "source": [
    "library(strucchange)"
   ]
  },
  {
   "cell_type": "code",
   "execution_count": 18,
   "id": "45506493-71c3-4cb3-bec0-44db2a659336",
   "metadata": {
    "colab": {
     "base_uri": "https://localhost:8080/",
     "height": 676
    },
    "id": "45506493-71c3-4cb3-bec0-44db2a659336",
    "outputId": "f1a2dbe4-f0bd-43c7-f977-9d21c791c121"
   },
   "outputs": [
    {
     "name": "stdout",
     "output_type": "stream",
     "text": [
      "\n",
      "\t Optimal 1-segment partition: \n",
      "\n",
      "Call:\n",
      "breakpoints.formula(formula = gt.ts ~ time)\n",
      "\n",
      "Breakpoints at observation number:\n",
      "NA \n",
      "\n",
      "Corresponding to breakdates:\n",
      "NA \n"
     ]
    },
    {
     "data": {
      "text/plain": [
       "\n",
       "\t Optimal (m+1)-segment partition: \n",
       "\n",
       "Call:\n",
       "breakpoints.formula(formula = gt.ts ~ time)\n",
       "\n",
       "Breakpoints at observation number:\n",
       "                               \n",
       "m = 1   705                    \n",
       "m = 2   694                2566\n",
       "m = 3   706      1558      2566\n",
       "m = 4   706      1558 2080 2566\n",
       "m = 5   706 1186 1678 2164 2650\n",
       "\n",
       "Corresponding to breakdates:\n",
       "                                                   \n",
       "m = 1   1808(9)                                    \n",
       "m = 2   1807(10)                           1963(10)\n",
       "m = 3   1808(10)          1879(10)         1963(10)\n",
       "m = 4   1808(10)          1879(10) 1923(4) 1963(10)\n",
       "m = 5   1808(10) 1848(10) 1889(10) 1930(4) 1970(10)\n",
       "\n",
       "Fit:\n",
       "                                       \n",
       "m   0     1     2     3     4     5    \n",
       "RSS 60720 60475 60422 60392 60386 60389\n",
       "BIC 18485 18496 18518 18540 18564 18589"
      ]
     },
     "metadata": {},
     "output_type": "display_data"
    }
   ],
   "source": [
    "time<-c(1:length(gt.ts))\n",
    "bp<-breakpoints(gt.ts~time)\n",
    "print(bp)\n",
    "summary(bp)"
   ]
  },
  {
   "cell_type": "markdown",
   "id": "ba15628f-9227-42dd-a95d-3edbff067b89",
   "metadata": {
    "id": "ba15628f-9227-42dd-a95d-3edbff067b89"
   },
   "source": [
    "=> We Notice the absence of breakpoints"
   ]
  },
  {
   "cell_type": "markdown",
   "id": "0253d212-06be-4479-8bf6-834a1c739da6",
   "metadata": {
    "id": "0253d212-06be-4479-8bf6-834a1c739da6"
   },
   "source": [
    "### <div style=\"color: darkblue;\"> 1- Deterministic component modeling"
   ]
  },
  {
   "cell_type": "markdown",
   "id": "c88ffb4c-47a2-417b-88a6-aad0cba506b6",
   "metadata": {
    "id": "c88ffb4c-47a2-417b-88a6-aad0cba506b6"
   },
   "source": [
    "#### The trend component"
   ]
  },
  {
   "cell_type": "code",
   "execution_count": 19,
   "id": "6d365260-6579-4ac7-9195-1d95d6b577d1",
   "metadata": {
    "colab": {
     "base_uri": "https://localhost:8080/",
     "height": 437
    },
    "id": "6d365260-6579-4ac7-9195-1d95d6b577d1",
    "outputId": "a8bbc689-5589-4528-ab68-e0b3388e3b2e"
   },
   "outputs": [
    {
     "data": {
      "image/png": "[encoded data removed]",
      "text/plain": [
       "plot without title"
      ]
     },
     "metadata": {},
     "output_type": "display_data"
    }
   ],
   "source": [
    "plot(decompose(gt.ts,type=c(\"additive\")))"
   ]
  },
  {
   "cell_type": "code",
   "execution_count": 20,
   "id": "12ef6f54-35a8-4d6d-beb1-5aa71bfc0b28",
   "metadata": {
    "colab": {
     "base_uri": "https://localhost:8080/",
     "height": 437
    },
    "id": "12ef6f54-35a8-4d6d-beb1-5aa71bfc0b28",
    "outputId": "4705776a-26d0-40a6-fb25-8832ffc6553f"
   },
   "outputs": [
    {
     "data": {
      "image/png": "[encoded data removed]",
      "text/plain": [
       "Plot with title \"ACF of Global Temperature\""
      ]
     },
     "metadata": {},
     "output_type": "display_data"
    }
   ],
   "source": [
    "acf(gt.ts,lag=24,main=\"ACF of Global Temperature\",lwd=2)"
   ]
  },
  {
   "cell_type": "markdown",
   "id": "4dd4b97a-5b3e-452b-8ae8-dca4b540d3df",
   "metadata": {
    "id": "4dd4b97a-5b3e-452b-8ae8-dca4b540d3df"
   },
   "source": [
    " We notice the existence of saisonality"
   ]
  },
  {
   "cell_type": "markdown",
   "id": "2ced12f8-d36d-4760-b639-416eed93d6eb",
   "metadata": {
    "id": "2ced12f8-d36d-4760-b639-416eed93d6eb"
   },
   "source": [
    "#### The seasonal component"
   ]
  },
  {
   "cell_type": "code",
   "execution_count": 21,
   "id": "e588fbf0-4187-4008-adea-c1425a7bc64e",
   "metadata": {
    "id": "e588fbf0-4187-4008-adea-c1425a7bc64e"
   },
   "outputs": [],
   "source": [
    "# Determination of the descriptive variable related to the seasonal component\n",
    "t<-c(1:length(gt.ts))\n",
    "s.t<-(t-mean(t))/sd(t) # this variable is introduced in order to guarantee the #First method:\n",
    "# CS<-matrix(0,length(gt.ts),6)\n",
    "# SN<-matrix(0,length(gt.ts),6)\n",
    "# for (i in 1:6) CS[,i]<-cos(2*pi*i*t/12)\n",
    "# for (i in 1:6) SN[,i]<-sin(2*pi*i*t/12)"
   ]
  },
  {
   "cell_type": "code",
   "execution_count": 22,
   "id": "aIXubPLrqigq",
   "metadata": {
    "id": "aIXubPLrqigq"
   },
   "outputs": [
    {
     "name": "stderr",
     "output_type": "stream",
     "text": [
      "Registered S3 methods overwritten by 'ggplot2':\n",
      "  method         from \n",
      "  [.quosures     rlang\n",
      "  c.quosures     rlang\n",
      "  print.quosures rlang\n",
      "Registered S3 methods overwritten by 'forecast':\n",
      "  method             from    \n",
      "  fitted.fracdiff    fracdiff\n",
      "  residuals.fracdiff fracdiff\n"
     ]
    }
   ],
   "source": [
    "library(forecast)\n",
    "DV<-seasonaldummy(gt.ts) # a matrix composed of all dummy variables"
   ]
  },
  {
   "cell_type": "markdown",
   "id": "c5584887-12c7-49da-84b2-8ea10533ca29",
   "metadata": {
    "id": "c5584887-12c7-49da-84b2-8ea10533ca29"
   },
   "source": [
    "### First deterministic model:"
   ]
  },
  {
   "cell_type": "code",
   "execution_count": 23,
   "id": "2c84471b-2f4f-4a26-9309-874a277842d0",
   "metadata": {
    "colab": {
     "base_uri": "https://localhost:8080/",
     "height": 520
    },
    "id": "2c84471b-2f4f-4a26-9309-874a277842d0",
    "outputId": "12304301-5ff9-4629-fcf5-402ca82b511d"
   },
   "outputs": [
    {
     "data": {
      "text/plain": [
       "\n",
       "Call:\n",
       "lm(formula = gt.ts ~ s.t + DV)\n",
       "\n",
       "Residuals:\n",
       "    Min      1Q  Median      3Q     Max \n",
       "-6.4040 -0.3940 -0.0450  0.3746  5.9641 \n",
       "\n",
       "Coefficients:\n",
       "            Estimate Std. Error t value Pr(>|t|)    \n",
       "(Intercept)  3.19581    0.05365  59.563  < 2e-16 ***\n",
       "s.t          0.36021    0.01549  23.253  < 2e-16 ***\n",
       "DVJan       -0.91845    0.07588 -12.104  < 2e-16 ***\n",
       "DVFeb       -0.23210    0.07588  -3.059  0.00224 ** \n",
       "DVMar        1.76243    0.07588  23.227  < 2e-16 ***\n",
       "DVApr        5.05385    0.07588  66.604  < 2e-16 ***\n",
       "DVMay        7.94518    0.07588 104.708  < 2e-16 ***\n",
       "DVJun       10.12817    0.07588 133.478  < 2e-16 ***\n",
       "DVJul       11.08754    0.07588 146.121  < 2e-16 ***\n",
       "DVAug       10.54194    0.07588 138.931  < 2e-16 ***\n",
       "DVSep        8.51204    0.07588 112.179  < 2e-16 ***\n",
       "DVOct        5.68478    0.07588  74.919  < 2e-16 ***\n",
       "DVNov        2.53955    0.07588  33.468  < 2e-16 ***\n",
       "---\n",
       "Signif. codes:  0 '***' 0.001 '**' 0.01 '*' 0.05 '.' 0.1 ' ' 1\n",
       "\n",
       "Residual standard error: 0.8751 on 3179 degrees of freedom\n",
       "Multiple R-squared:  0.9602,\tAdjusted R-squared:   0.96 \n",
       "F-statistic:  6389 on 12 and 3179 DF,  p-value: < 2.2e-16\n"
      ]
     },
     "metadata": {},
     "output_type": "display_data"
    }
   ],
   "source": [
    "Model1<-lm(gt.ts~s.t+DV)\n",
    "summary(Model1)"
   ]
  },
  {
   "cell_type": "code",
   "execution_count": 24,
   "id": "2ed63b63-b0b8-4c70-a5a2-e302789c2a5f",
   "metadata": {
    "colab": {
     "base_uri": "https://localhost:8080/",
     "height": 437
    },
    "id": "2ed63b63-b0b8-4c70-a5a2-e302789c2a5f",
    "outputId": "e52ca48e-a5f2-4f03-fd8a-267244c0d5dd"
   },
   "outputs": [
    {
     "data": {
      "image/png": "[encoded data removed]",
      "text/plain": [
       "plot without title"
      ]
     },
     "metadata": {},
     "output_type": "display_data"
    }
   ],
   "source": [
    "plot(gt.ts)\n",
    "points(time(gt.ts),fitted(Model1),col=\"blue2\",type=\"l\",lwd=,lty=1)"
   ]
  },
  {
   "cell_type": "markdown",
   "id": "39913a3b-9b4c-44df-ba8f-872de559adce",
   "metadata": {
    "id": "39913a3b-9b4c-44df-ba8f-872de559adce"
   },
   "source": [
    "### Second deterministic model:"
   ]
  },
  {
   "cell_type": "code",
   "execution_count": 25,
   "id": "03a237a2-ff80-4f0f-8a4c-b26e0b5be5fe",
   "metadata": {
    "colab": {
     "base_uri": "https://localhost:8080/",
     "height": 538
    },
    "id": "03a237a2-ff80-4f0f-8a4c-b26e0b5be5fe",
    "outputId": "2a5ccf31-a9f1-4beb-e844-191e5b4c6ce3"
   },
   "outputs": [
    {
     "data": {
      "text/plain": [
       "\n",
       "Call:\n",
       "lm(formula = gt.ts ~ s.t + I(s.t^2) + DV)\n",
       "\n",
       "Residuals:\n",
       "    Min      1Q  Median      3Q     Max \n",
       "-6.8116 -0.3370  0.0013  0.3495  5.7651 \n",
       "\n",
       "Coefficients:\n",
       "            Estimate Std. Error t value Pr(>|t|)    \n",
       "(Intercept)  2.94365    0.05448  54.036  < 2e-16 ***\n",
       "s.t          0.36021    0.01497  24.065  < 2e-16 ***\n",
       "I(s.t^2)     0.25224    0.01674  15.070  < 2e-16 ***\n",
       "DVJan       -0.91845    0.07332 -12.527  < 2e-16 ***\n",
       "DVFeb       -0.23210    0.07332  -3.166  0.00156 ** \n",
       "DVMar        1.76243    0.07332  24.039  < 2e-16 ***\n",
       "DVApr        5.05386    0.07332  68.932  < 2e-16 ***\n",
       "DVMay        7.94519    0.07332 108.368  < 2e-16 ***\n",
       "DVJun       10.12818    0.07332 138.143  < 2e-16 ***\n",
       "DVJul       11.08754    0.07332 151.228  < 2e-16 ***\n",
       "DVAug       10.54195    0.07332 143.787  < 2e-16 ***\n",
       "DVSep        8.51205    0.07332 116.100  < 2e-16 ***\n",
       "DVOct        5.68479    0.07332  77.538  < 2e-16 ***\n",
       "DVNov        2.53955    0.07332  34.638  < 2e-16 ***\n",
       "---\n",
       "Signif. codes:  0 '***' 0.001 '**' 0.01 '*' 0.05 '.' 0.1 ' ' 1\n",
       "\n",
       "Residual standard error: 0.8455 on 3178 degrees of freedom\n",
       "Multiple R-squared:  0.9628,\tAdjusted R-squared:  0.9627 \n",
       "F-statistic:  6334 on 13 and 3178 DF,  p-value: < 2.2e-16\n"
      ]
     },
     "metadata": {},
     "output_type": "display_data"
    }
   ],
   "source": [
    "Model2<-lm(gt.ts~s.t+I(s.t^2)+DV)\n",
    "summary(Model2)"
   ]
  },
  {
   "cell_type": "code",
   "execution_count": 26,
   "id": "dfea45a7-e203-44ce-b8d6-f1538d35eaad",
   "metadata": {
    "colab": {
     "base_uri": "https://localhost:8080/",
     "height": 437
    },
    "id": "dfea45a7-e203-44ce-b8d6-f1538d35eaad",
    "outputId": "f2f13807-97e0-43ce-bd10-5fa2964bf590"
   },
   "outputs": [
    {
     "data": {
      "image/png": "[encoded data removed]",
      "text/plain": [
       "plot without title"
      ]
     },
     "metadata": {},
     "output_type": "display_data"
    }
   ],
   "source": [
    "plot(gt.ts)\n",
    "points(time(gt.ts),fitted(Model2),col=\"red\",type=\"l\",lwd=,lty=1)"
   ]
  },
  {
   "cell_type": "markdown",
   "id": "fc3db403-284b-406e-8d7a-76cb297f0de6",
   "metadata": {
    "id": "fc3db403-284b-406e-8d7a-76cb297f0de6"
   },
   "source": [
    "### Third deterministic model:"
   ]
  },
  {
   "cell_type": "code",
   "execution_count": 27,
   "id": "0715555e-b2bb-448f-8cb0-aa1dcd62beb9",
   "metadata": {
    "colab": {
     "base_uri": "https://localhost:8080/",
     "height": 555
    },
    "id": "0715555e-b2bb-448f-8cb0-aa1dcd62beb9",
    "outputId": "c85055dd-dc9c-4822-ae79-7ef034113b1f"
   },
   "outputs": [
    {
     "data": {
      "text/plain": [
       "\n",
       "Call:\n",
       "lm(formula = gt.ts ~ s.t + I(s.t^2) + I(s.t^3) + DV)\n",
       "\n",
       "Residuals:\n",
       "    Min      1Q  Median      3Q     Max \n",
       "-6.7818 -0.3396  0.0050  0.3516  5.7647 \n",
       "\n",
       "Coefficients:\n",
       "            Estimate Std. Error t value Pr(>|t|)    \n",
       "(Intercept)  2.94349    0.05447  54.036  < 2e-16 ***\n",
       "s.t          0.31974    0.03742   8.545  < 2e-16 ***\n",
       "I(s.t^2)     0.25224    0.01674  15.071  < 2e-16 ***\n",
       "I(s.t^3)     0.02249    0.01906   1.180  0.23807    \n",
       "DVJan       -0.91813    0.07331 -12.523  < 2e-16 ***\n",
       "DVFeb       -0.23180    0.07331  -3.162  0.00158 ** \n",
       "DVMar        1.76270    0.07331  24.044  < 2e-16 ***\n",
       "DVApr        5.05409    0.07331  68.939  < 2e-16 ***\n",
       "DVMay        7.94539    0.07331 108.377  < 2e-16 ***\n",
       "DVJun       10.12836    0.07331 138.154  < 2e-16 ***\n",
       "DVJul       11.08769    0.07331 151.239  < 2e-16 ***\n",
       "DVAug       10.54206    0.07331 143.797  < 2e-16 ***\n",
       "DVSep        8.51214    0.07331 116.108  < 2e-16 ***\n",
       "DVOct        5.68484    0.07331  77.543  < 2e-16 ***\n",
       "DVNov        2.53958    0.07331  34.641  < 2e-16 ***\n",
       "---\n",
       "Signif. codes:  0 '***' 0.001 '**' 0.01 '*' 0.05 '.' 0.1 ' ' 1\n",
       "\n",
       "Residual standard error: 0.8455 on 3177 degrees of freedom\n",
       "Multiple R-squared:  0.9629,\tAdjusted R-squared:  0.9627 \n",
       "F-statistic:  5883 on 14 and 3177 DF,  p-value: < 2.2e-16\n"
      ]
     },
     "metadata": {},
     "output_type": "display_data"
    }
   ],
   "source": [
    "Model3<-lm(gt.ts~s.t+I(s.t^2)+I(s.t^3)+DV)\n",
    "summary(Model3)"
   ]
  },
  {
   "cell_type": "code",
   "execution_count": 28,
   "id": "abf97883-1ead-4dbd-aacb-eae424b294a0",
   "metadata": {
    "colab": {
     "base_uri": "https://localhost:8080/",
     "height": 437
    },
    "id": "abf97883-1ead-4dbd-aacb-eae424b294a0",
    "outputId": "f24b852d-9abf-4bc9-e1e3-f4abf8b444b3"
   },
   "outputs": [
    {
     "data": {
      "image/png": "[encoded data removed]",
      "text/plain": [
       "plot without title"
      ]
     },
     "metadata": {},
     "output_type": "display_data"
    }
   ],
   "source": [
    "plot(gt.ts)\n",
    "points(time(gt.ts),fitted(Model3),col=\"orange\",type=\"l\",lwd=,lty=1)"
   ]
  },
  {
   "cell_type": "code",
   "execution_count": 29,
   "id": "f050ef86-f16e-4c29-a1ef-82abd9abfb80",
   "metadata": {
    "colab": {
     "base_uri": "https://localhost:8080/",
     "height": 1000
    },
    "id": "f050ef86-f16e-4c29-a1ef-82abd9abfb80",
    "outputId": "53a1bf17-19e0-4697-b631-ac1dbacfa20e"
   },
   "outputs": [
    {
     "data": {
      "image/png": "[encoded data removed]",
      "text/plain": [
       "plot without title"
      ]
     },
     "metadata": {},
     "output_type": "display_data"
    },
    {
     "data": {
      "image/png": "[encoded data removed]",
      "text/plain": [
       "plot without title"
      ]
     },
     "metadata": {},
     "output_type": "display_data"
    },
    {
     "data": {
      "image/png": "[encoded data removed]",
      "text/plain": [
       "plot without title"
      ]
     },
     "metadata": {},
     "output_type": "display_data"
    }
   ],
   "source": [
    "plot(gt.ts)\n",
    "points(time(gt.ts),fitted(Model1),col=\"pink\",type=\"l\",lwd=,lty=1)\n",
    "plot(gt.ts)\n",
    "points(time(gt.ts),fitted(Model2),col=\"lightblue\",type=\"l\",lwd=,lty=1)\n",
    "plot(gt.ts)\n",
    "points(time(gt.ts),fitted(Model3),col=\"lightgreen\",type=\"l\",lwd=,lty=1)"
   ]
  },
  {
   "cell_type": "code",
   "execution_count": 30,
   "id": "389be597-6433-4f46-b463-6d24c8a57d14",
   "metadata": {
    "colab": {
     "base_uri": "https://localhost:8080/",
     "height": 121
    },
    "id": "389be597-6433-4f46-b463-6d24c8a57d14",
    "outputId": "3328f681-7fbd-4dc8-9240-4f469115906d"
   },
   "outputs": [
    {
     "data": {
      "text/html": [
       "8221.60134906678"
      ],
      "text/latex": [
       "8221.60134906678"
      ],
      "text/markdown": [
       "8221.60134906678"
      ],
      "text/plain": [
       "[1] 8221.601"
      ]
     },
     "metadata": {},
     "output_type": "display_data"
    },
    {
     "data": {
      "text/html": [
       "8003.27217489324"
      ],
      "text/latex": [
       "8003.27217489324"
      ],
      "text/markdown": [
       "8003.27217489324"
      ],
      "text/plain": [
       "[1] 8003.272"
      ]
     },
     "metadata": {},
     "output_type": "display_data"
    },
    {
     "data": {
      "text/html": [
       "8003.87336731714"
      ],
      "text/latex": [
       "8003.87336731714"
      ],
      "text/markdown": [
       "8003.87336731714"
      ],
      "text/plain": [
       "[1] 8003.873"
      ]
     },
     "metadata": {},
     "output_type": "display_data"
    },
    {
     "data": {
      "text/html": [
       "8306.55899048675"
      ],
      "text/latex": [
       "8306.55899048675"
      ],
      "text/markdown": [
       "8306.55899048675"
      ],
      "text/plain": [
       "[1] 8306.559"
      ]
     },
     "metadata": {},
     "output_type": "display_data"
    },
    {
     "data": {
      "text/html": [
       "8094.29821927179"
      ],
      "text/latex": [
       "8094.29821927179"
      ],
      "text/markdown": [
       "8094.29821927179"
      ],
      "text/plain": [
       "[1] 8094.298"
      ]
     },
     "metadata": {},
     "output_type": "display_data"
    },
    {
     "data": {
      "text/html": [
       "8100.96781465426"
      ],
      "text/latex": [
       "8100.96781465426"
      ],
      "text/markdown": [
       "8100.96781465426"
      ],
      "text/plain": [
       "[1] 8100.968"
      ]
     },
     "metadata": {},
     "output_type": "display_data"
    }
   ],
   "source": [
    "AIC(Model1)\n",
    "AIC(Model2)\n",
    "AIC(Model3)\n",
    "BIC(Model1)\n",
    "BIC(Model2)\n",
    "BIC(Model3)"
   ]
  },
  {
   "cell_type": "markdown",
   "id": "a80adcc4-d528-4f89-906a-4de1513da65a",
   "metadata": {
    "id": "a80adcc4-d528-4f89-906a-4de1513da65a"
   },
   "source": [
    "=> The `Model2` presents better **AIC** and **BIC** with `Model3` presenting the same results. We choose `Model2` due to complexity of `Model3`"
   ]
  },
  {
   "cell_type": "markdown",
   "id": "dc623ea6-b8f4-45e6-b1af-4d0a604823e7",
   "metadata": {
    "id": "dc623ea6-b8f4-45e6-b1af-4d0a604823e7"
   },
   "source": [
    "### <div style=\"color: darkblue;\"> 2- Modelling the stochastic component (residual)"
   ]
  },
  {
   "cell_type": "markdown",
   "id": "50d49c0a-fba7-4a72-a54b-627370895b38",
   "metadata": {
    "id": "50d49c0a-fba7-4a72-a54b-627370895b38"
   },
   "source": [
    "### Graphical representation of the residual component"
   ]
  },
  {
   "cell_type": "code",
   "execution_count": 31,
   "id": "58bd95c8-3b6d-4dfc-a6fa-47d65953d8ac",
   "metadata": {
    "colab": {
     "base_uri": "https://localhost:8080/",
     "height": 437
    },
    "id": "58bd95c8-3b6d-4dfc-a6fa-47d65953d8ac",
    "outputId": "81f774ba-8561-4e8b-a2aa-786999323149"
   },
   "outputs": [
    {
     "data": {
      "image/png": "[encoded data removed]",
      "text/plain": [
       "Plot with title \"Residual component\""
      ]
     },
     "metadata": {},
     "output_type": "display_data"
    }
   ],
   "source": [
    "plot(time(gt.ts),Model2$residuals, xlab=\"Time\", ylab=\"\",\n",
    " main=\"Residual component\",\n",
    " col=\"purple4\",lwd=1,type=\"l\")"
   ]
  },
  {
   "cell_type": "markdown",
   "id": "e4f13e61-b270-4f3f-a272-f906680fd691",
   "metadata": {
    "id": "e4f13e61-b270-4f3f-a272-f906680fd691"
   },
   "source": [
    "### Check if residuals correspond to a White Noise"
   ]
  },
  {
   "cell_type": "markdown",
   "id": "9cde5567-1590-44c4-939e-59c612b2b182",
   "metadata": {
    "id": "9cde5567-1590-44c4-939e-59c612b2b182"
   },
   "source": [
    "#### Box \\& Pierce test:"
   ]
  },
  {
   "cell_type": "code",
   "execution_count": 32,
   "id": "3c39b808-28c2-471d-b45a-b8fded9b0a64",
   "metadata": {
    "colab": {
     "base_uri": "https://localhost:8080/",
     "height": 524
    },
    "id": "3c39b808-28c2-471d-b45a-b8fded9b0a64",
    "outputId": "cbffe550-d0af-457c-d59a-a473b0c56098"
   },
   "outputs": [
    {
     "data": {
      "text/plain": [
       "\n",
       "\tBox-Pierce test\n",
       "\n",
       "data:  Model2$residuals\n",
       "X-squared = 498, df = 1, p-value < 2.2e-16\n"
      ]
     },
     "metadata": {},
     "output_type": "display_data"
    },
    {
     "data": {
      "image/png": "[encoded data removed]",
      "text/plain": [
       "Plot with title \"Series  Model2$residuals\""
      ]
     },
     "metadata": {},
     "output_type": "display_data"
    }
   ],
   "source": [
    "acf(Model2$residuals)\n",
    "Box.test(Model2$residuals)"
   ]
  },
  {
   "cell_type": "markdown",
   "id": "378459da-556e-4ad7-9585-c58ab5be1334",
   "metadata": {
    "id": "378459da-556e-4ad7-9585-c58ab5be1334"
   },
   "source": [
    "The autocorrelation function (ACF) analysis suggests the presence of autocorrelation, corroborated by the Box-Pierce test with a p-value below 0.05. This indicates that the alternative hypothesis is favored: **it is not a white noise**."
   ]
  },
  {
   "cell_type": "markdown",
   "id": "337a5e4b-aa28-45a0-a8c7-04086ebb0b64",
   "metadata": {
    "id": "337a5e4b-aa28-45a0-a8c7-04086ebb0b64"
   },
   "source": [
    "### <div style=\"color: darkblue;\"> 3-Stationarity test"
   ]
  },
  {
   "cell_type": "code",
   "execution_count": 33,
   "id": "95cbedb4-0d9e-4bf7-aaf0-7ce11820a796",
   "metadata": {
    "colab": {
     "base_uri": "https://localhost:8080/",
     "height": 156
    },
    "id": "95cbedb4-0d9e-4bf7-aaf0-7ce11820a796",
    "outputId": "32682808-dc9f-4ae7-d438-59c707e16f9a"
   },
   "outputs": [
    {
     "name": "stderr",
     "output_type": "stream",
     "text": [
      "Warning message in adf.test(Model2$residuals):\n",
      "\"p-value smaller than printed p-value\""
     ]
    },
    {
     "data": {
      "text/plain": [
       "\n",
       "\tAugmented Dickey-Fuller Test\n",
       "\n",
       "data:  Model2$residuals\n",
       "Dickey-Fuller = -10.199, Lag order = 14, p-value = 0.01\n",
       "alternative hypothesis: stationary\n"
      ]
     },
     "metadata": {},
     "output_type": "display_data"
    }
   ],
   "source": [
    "library(tseries)\n",
    "adf.test(Model2$residuals)"
   ]
  },
  {
   "cell_type": "markdown",
   "id": "b834b2fc-0b11-4320-9bbf-95c748e90f36",
   "metadata": {
    "id": "b834b2fc-0b11-4320-9bbf-95c748e90f36"
   },
   "source": [
    "Upon comparison of the p-value obtained from the Dickey-Fuller test, it is evident that it falls below the significance level of 0.05. Therefore, we accept the first hypothesis, indicating stationarity.\n",
    "<br>                                                                                                                                                 We now need to proceed with modeling the stationary data using an `ARMA model`."
   ]
  },
  {
   "cell_type": "markdown",
   "id": "613beb50-7c69-4c88-91d6-c7fc83c273d4",
   "metadata": {
    "id": "613beb50-7c69-4c88-91d6-c7fc83c273d4"
   },
   "source": [
    "### <div style=\"color: darkblue;\"> 4-ARMA model for the residual component"
   ]
  },
  {
   "cell_type": "code",
   "execution_count": 34,
   "id": "bf069bb2-c03c-42f3-b1f1-8784465e04e4",
   "metadata": {
    "colab": {
     "base_uri": "https://localhost:8080/",
     "height": 437
    },
    "id": "bf069bb2-c03c-42f3-b1f1-8784465e04e4",
    "outputId": "26d9f1a9-1dcf-4118-cb06-c3e8590aa29f"
   },
   "outputs": [
    {
     "data": {
      "image/png": "[encoded data removed]",
      "text/plain": [
       "Plot with title \"Series  Model2$residuals\""
      ]
     },
     "metadata": {},
     "output_type": "display_data"
    }
   ],
   "source": [
    "par(mfrow=c(1,2))\n",
    "acf(Model2$residuals,50)\n",
    "pacf(Model2$residuals,50)"
   ]
  },
  {
   "cell_type": "markdown",
   "id": "168b21ed-9fc0-4aa9-b8f0-ec088a4b74a4",
   "metadata": {
    "id": "168b21ed-9fc0-4aa9-b8f0-ec088a4b74a4"
   },
   "source": [
    "It appears that it's possible to determine the appropriate orders of AR and MA terms from the plots of the autocorrelation function (ACF) and partial autocorrelation function (PACF) that's why we will use `ARIMA`."
   ]
  },
  {
   "cell_type": "code",
   "execution_count": 35,
   "id": "46a5e7cc-86d6-440e-a8c7-81f71b514b43",
   "metadata": {
    "colab": {
     "base_uri": "https://localhost:8080/"
    },
    "id": "46a5e7cc-86d6-440e-a8c7-81f71b514b43",
    "outputId": "80221e68-246b-4211-b123-7fe9e0ba3976"
   },
   "outputs": [
    {
     "name": "stdout",
     "output_type": "stream",
     "text": [
      "\n",
      " Fitting models using approximations to speed things up...\n",
      "\n",
      " ARIMA(2,1,2) with drift         : 7418.326\n",
      " ARIMA(0,1,0) with drift         : 8581.708\n",
      " ARIMA(1,1,0) with drift         : 8152.745\n",
      " ARIMA(0,1,1) with drift         : 7756.135\n",
      " ARIMA(0,1,0)                    : 8579.706\n",
      " ARIMA(1,1,2) with drift         : 7404.777\n",
      " ARIMA(0,1,2) with drift         : 7480.43\n",
      " ARIMA(1,1,1) with drift         : 7408.057\n",
      " ARIMA(1,1,3) with drift         : 7401.63\n",
      " ARIMA(0,1,3) with drift         : 7425.33\n",
      " ARIMA(2,1,3) with drift         : 7411.219\n",
      " ARIMA(1,1,4) with drift         : 7397.191\n",
      " ARIMA(0,1,4) with drift         : 7406.455\n",
      " ARIMA(2,1,4) with drift         : 7406.356\n",
      " ARIMA(1,1,5) with drift         : 7387.844\n",
      " ARIMA(0,1,5) with drift         : 7408.039\n",
      " ARIMA(2,1,5) with drift         : 7401.228\n",
      " ARIMA(1,1,5)                    : 7385.932\n",
      " ARIMA(0,1,5)                    : 7406.034\n",
      " ARIMA(1,1,4)                    : 7395.195\n",
      " ARIMA(2,1,5)                    : 7399.216\n",
      " ARIMA(0,1,4)                    : 7404.451\n",
      " ARIMA(2,1,4)                    : 7404.343\n",
      "\n",
      " Now re-fitting the best model(s) without approximations...\n",
      "\n",
      " ARIMA(1,1,5)                    : 7387.291\n",
      "\n",
      " Best model: ARIMA(1,1,5)                    \n",
      "\n"
     ]
    }
   ],
   "source": [
    "library(forecast)\n",
    "ARIMA=auto.arima(Model2$residuals,d=1,trace=TRUE)"
   ]
  },
  {
   "cell_type": "markdown",
   "id": "34101ced-c498-46d1-bd57-f862cbe0b186",
   "metadata": {
    "id": "34101ced-c498-46d1-bd57-f862cbe0b186"
   },
   "source": [
    "The result from the auto.arima() function suggests that the appropriate model to consider is an ARIMA(1,1,5). Let's proceed with fitting this model."
   ]
  },
  {
   "cell_type": "code",
   "execution_count": 36,
   "id": "ba05ca21-5eed-42c3-8b29-321358173f7f",
   "metadata": {
    "colab": {
     "base_uri": "https://localhost:8080/",
     "height": 715
    },
    "id": "ba05ca21-5eed-42c3-8b29-321358173f7f",
    "outputId": "bf9ae315-e829-40e0-a1fd-ffa708aa8851"
   },
   "outputs": [
    {
     "name": "stderr",
     "output_type": "stream",
     "text": [
      "Warning message in adf.test(Model.res$residuals):\n",
      "\"p-value smaller than printed p-value\""
     ]
    },
    {
     "data": {
      "text/plain": [
       "\n",
       "\tAugmented Dickey-Fuller Test\n",
       "\n",
       "data:  Model.res$residuals\n",
       "Dickey-Fuller = -13.498, Lag order = 14, p-value = 0.01\n",
       "alternative hypothesis: stationary\n"
      ]
     },
     "metadata": {},
     "output_type": "display_data"
    },
    {
     "name": "stdout",
     "output_type": "stream",
     "text": [
      "\n",
      "\tLjung-Box test\n",
      "\n",
      "data:  Residuals from ARIMA(1,1,5)\n",
      "Q* = 13.557, df = 4, p-value = 0.008852\n",
      "\n",
      "Model df: 6.   Total lags used: 10\n",
      "\n"
     ]
    },
    {
     "data": {
      "image/png": "[encoded data removed]",
      "text/plain": [
       "plot without title"
      ]
     },
     "metadata": {},
     "output_type": "display_data"
    }
   ],
   "source": [
    "Model.res<-arima(Model2$residuals,order = c(1, 1, 5))\n",
    "adf.test(Model.res$residuals)\n",
    "checkresiduals(Model.res)"
   ]
  },
  {
   "cell_type": "code",
   "execution_count": 37,
   "id": "d4d448ba-5a79-4a09-ad82-f429419a6fbb",
   "metadata": {},
   "outputs": [
    {
     "name": "stderr",
     "output_type": "stream",
     "text": [
      "Warning message:\n",
      "\"unable to access index for repository https://cran.r-project.org/bin/windows/contrib/3.6:\n",
      "  cannot open URL 'https://cran.r-project.org/bin/windows/contrib/3.6/PACKAGES'\"installing the source package 'aTSA'\n",
      "\n"
     ]
    }
   ],
   "source": [
    "install.packages(\"aTSA\")"
   ]
  },
  {
   "cell_type": "code",
   "execution_count": 38,
   "id": "05fe1769-f7a7-414b-b6b9-6a1c1dacdd94",
   "metadata": {},
   "outputs": [
    {
     "name": "stderr",
     "output_type": "stream",
     "text": [
      "\n",
      "Attaching package: 'aTSA'\n",
      "\n",
      "The following object is masked from 'package:forecast':\n",
      "\n",
      "    forecast\n",
      "\n",
      "The following objects are masked from 'package:tseries':\n",
      "\n",
      "    adf.test, kpss.test, pp.test\n",
      "\n",
      "The following object is masked from 'package:graphics':\n",
      "\n",
      "    identify\n",
      "\n"
     ]
    },
    {
     "data": {
      "image/png": "[encoded data removed]",
      "text/plain": [
       "Plot with title \"\""
      ]
     },
     "metadata": {},
     "output_type": "display_data"
    }
   ],
   "source": [
    "library(aTSA)\n",
    "ts.diag(Model.res)"
   ]
  },
  {
   "cell_type": "markdown",
   "id": "2510b4f4-2dbd-4747-8d5f-d48e56a08990",
   "metadata": {},
   "source": [
    "## Check if residuals of residuals are a White Noise"
   ]
  },
  {
   "cell_type": "code",
   "execution_count": 39,
   "id": "be7d2172-dea5-41df-bddb-7e8232f5a108",
   "metadata": {},
   "outputs": [
    {
     "data": {
      "text/plain": [
       "\n",
       "\tBox-Pierce test\n",
       "\n",
       "data:  Model.res$residuals\n",
       "X-squared = 0.045817, df = 1, p-value = 0.8305\n"
      ]
     },
     "metadata": {},
     "output_type": "display_data"
    },
    {
     "data": {
      "image/png": "[encoded data removed]",
      "text/plain": [
       "Plot with title \"Series  Model.res$residuals\""
      ]
     },
     "metadata": {},
     "output_type": "display_data"
    }
   ],
   "source": [
    "Box.test(Model.res$residuals)\n",
    "acf(Model.res$residuals)"
   ]
  },
  {
   "cell_type": "markdown",
   "id": "466a4d6e-651c-4893-98e1-c754806704bf",
   "metadata": {},
   "source": [
    "Given that the p-value is 0.8305 and based on the ACF plot, we can interpret this as evidence supporting the presence of white noise"
   ]
  },
  {
   "cell_type": "code",
   "execution_count": 40,
   "id": "fce10b14-e178-428e-86e9-23fe83cad144",
   "metadata": {},
   "outputs": [
    {
     "data": {
      "text/html": [
       "7387.2555481119"
      ],
      "text/latex": [
       "7387.2555481119"
      ],
      "text/markdown": [
       "7387.2555481119"
      ],
      "text/plain": [
       "[1] 7387.256"
      ]
     },
     "metadata": {},
     "output_type": "display_data"
    },
    {
     "data": {
      "text/html": [
       "7429.73217549585"
      ],
      "text/latex": [
       "7429.73217549585"
      ],
      "text/markdown": [
       "7429.73217549585"
      ],
      "text/plain": [
       "[1] 7429.732"
      ]
     },
     "metadata": {},
     "output_type": "display_data"
    }
   ],
   "source": [
    "AIC(Model.res)\n",
    "BIC(Model.res)"
   ]
  },
  {
   "cell_type": "code",
   "execution_count": 41,
   "id": "cb2d1981-bc21-4fef-a9cb-3d49e27e6d3b",
   "metadata": {},
   "outputs": [
    {
     "data": {
      "image/png": "[encoded data removed]",
      "text/plain": [
       "plot without title"
      ]
     },
     "metadata": {},
     "output_type": "display_data"
    }
   ],
   "source": [
    "plot(Model2$residuals,type=\"l\")\n",
    "points(fitted(Model.res),col='2',type=\"l\")"
   ]
  },
  {
   "cell_type": "markdown",
   "id": "c36bb5c6-85d1-478d-a3b6-2aece24b5ed4",
   "metadata": {},
   "source": [
    "### Applying SARIMA model on the original time series"
   ]
  },
  {
   "cell_type": "code",
   "execution_count": 42,
   "id": "101c5d52-42a8-41f0-af69-bc805f9f1128",
   "metadata": {},
   "outputs": [
    {
     "data": {
      "image/png": "[encoded data removed]",
      "text/plain": [
       "Plot with title \"\""
      ]
     },
     "metadata": {},
     "output_type": "display_data"
    }
   ],
   "source": [
    "tsdisplay(gt.ts)"
   ]
  },
  {
   "cell_type": "code",
   "execution_count": 43,
   "id": "0e06527e-c81f-488a-9869-811ae87b2857",
   "metadata": {},
   "outputs": [
    {
     "name": "stdout",
     "output_type": "stream",
     "text": [
      "\n",
      " Fitting models using approximations to speed things up...\n",
      "\n",
      " ARIMA(2,0,2)(1,1,1)[12] with drift         : Inf\n",
      " ARIMA(0,0,0)(0,1,0)[12] with drift         : 9610.729\n",
      " ARIMA(1,0,0)(1,1,0)[12] with drift         : 8383.27\n",
      " ARIMA(0,0,1)(0,1,1)[12] with drift         : Inf\n",
      " ARIMA(0,0,0)(0,1,0)[12]                    : 9608.807\n",
      " ARIMA(1,0,0)(0,1,0)[12] with drift         : 9229.262\n",
      " ARIMA(1,0,0)(2,1,0)[12] with drift         : 8039.674\n",
      " ARIMA(1,0,0)(2,1,1)[12] with drift         : 7778.694\n",
      " ARIMA(1,0,0)(1,1,1)[12] with drift         : Inf\n",
      " ARIMA(1,0,0)(2,1,2)[12] with drift         : Inf\n",
      " ARIMA(1,0,0)(1,1,2)[12] with drift         : Inf\n",
      " ARIMA(0,0,0)(2,1,1)[12] with drift         : 8282.362\n",
      " ARIMA(2,0,0)(2,1,1)[12] with drift         : 7759.439\n",
      " ARIMA(2,0,0)(1,1,1)[12] with drift         : Inf\n",
      " ARIMA(2,0,0)(2,1,0)[12] with drift         : 8031.432\n",
      " ARIMA(2,0,0)(2,1,2)[12] with drift         : Inf\n",
      " ARIMA(2,0,0)(1,1,0)[12] with drift         : 8376.305\n",
      " ARIMA(2,0,0)(1,1,2)[12] with drift         : Inf\n",
      " ARIMA(3,0,0)(2,1,1)[12] with drift         : 7764.093\n",
      " ARIMA(2,0,1)(2,1,1)[12] with drift         : 7761.077\n",
      " ARIMA(1,0,1)(2,1,1)[12] with drift         : 7773.375\n",
      " ARIMA(3,0,1)(2,1,1)[12] with drift         : 7712.14\n",
      " ARIMA(3,0,1)(1,1,1)[12] with drift         : Inf\n",
      " ARIMA(3,0,1)(2,1,0)[12] with drift         : 8030.736\n",
      " ARIMA(3,0,1)(2,1,2)[12] with drift         : Inf\n",
      " ARIMA(3,0,1)(1,1,0)[12] with drift         : 8365.508\n",
      " ARIMA(3,0,1)(1,1,2)[12] with drift         : Inf\n",
      " ARIMA(4,0,1)(2,1,1)[12] with drift         : 7709.435\n",
      " ARIMA(4,0,1)(1,1,1)[12] with drift         : Inf\n",
      " ARIMA(4,0,1)(2,1,0)[12] with drift         : 8028.665\n",
      " ARIMA(4,0,1)(2,1,2)[12] with drift         : Inf\n",
      " ARIMA(4,0,1)(1,1,0)[12] with drift         : 8365.687\n",
      " ARIMA(4,0,1)(1,1,2)[12] with drift         : Inf\n",
      " ARIMA(4,0,0)(2,1,1)[12] with drift         : 7754.727\n",
      " ARIMA(5,0,1)(2,1,1)[12] with drift         : 7544.224\n",
      " ARIMA(5,0,1)(1,1,1)[12] with drift         : Inf\n",
      " ARIMA(5,0,1)(2,1,0)[12] with drift         : 8011.209\n",
      " ARIMA(5,0,1)(2,1,2)[12] with drift         : Inf\n",
      " ARIMA(5,0,1)(1,1,0)[12] with drift         : 8318.915\n",
      " ARIMA(5,0,1)(1,1,2)[12] with drift         : Inf\n",
      " ARIMA(5,0,0)(2,1,1)[12] with drift         : 7706.254\n",
      " ARIMA(5,0,2)(2,1,1)[12] with drift         : 7412.773\n",
      " ARIMA(5,0,2)(1,1,1)[12] with drift         : Inf\n",
      " ARIMA(5,0,2)(2,1,0)[12] with drift         : 7940.562\n",
      " ARIMA(5,0,2)(2,1,2)[12] with drift         : Inf\n",
      " ARIMA(5,0,2)(1,1,0)[12] with drift         : 8253.997\n",
      " ARIMA(5,0,2)(1,1,2)[12] with drift         : Inf\n",
      " ARIMA(4,0,2)(2,1,1)[12] with drift         : Inf\n",
      " ARIMA(5,0,3)(2,1,1)[12] with drift         : 7413.971\n",
      " ARIMA(4,0,3)(2,1,1)[12] with drift         : 7538.373\n",
      " ARIMA(5,0,2)(2,1,1)[12]                    : 7412.862\n",
      "\n",
      " Now re-fitting the best model(s) without approximations...\n",
      "\n",
      " ARIMA(5,0,2)(2,1,1)[12] with drift         : Inf\n",
      " ARIMA(5,0,2)(2,1,1)[12]                    : Inf\n",
      " ARIMA(5,0,3)(2,1,1)[12] with drift         : Inf\n",
      " ARIMA(4,0,3)(2,1,1)[12] with drift         : Inf\n",
      " ARIMA(5,0,1)(2,1,1)[12] with drift         : Inf\n",
      " ARIMA(5,0,0)(2,1,1)[12] with drift         : Inf\n",
      " ARIMA(4,0,1)(2,1,1)[12] with drift         : Inf\n",
      " ARIMA(3,0,1)(2,1,1)[12] with drift         : Inf\n",
      " ARIMA(4,0,0)(2,1,1)[12] with drift         : Inf\n",
      " ARIMA(2,0,0)(2,1,1)[12] with drift         : Inf\n",
      " ARIMA(2,0,1)(2,1,1)[12] with drift         : Inf\n",
      " ARIMA(3,0,0)(2,1,1)[12] with drift         : Inf\n",
      " ARIMA(1,0,1)(2,1,1)[12] with drift         : Inf\n",
      " ARIMA(1,0,0)(2,1,1)[12] with drift         : Inf\n",
      " ARIMA(5,0,2)(2,1,0)[12] with drift         : Inf\n",
      " ARIMA(5,0,1)(2,1,0)[12] with drift         : 8140.091\n",
      "\n",
      " Best model: ARIMA(5,0,1)(2,1,0)[12] with drift         \n",
      "\n"
     ]
    },
    {
     "data": {
      "text/plain": [
       "Series: gt.ts \n",
       "ARIMA(5,0,1)(2,1,0)[12] with drift \n",
       "\n",
       "Coefficients:\n",
       "         ar1      ar2      ar3      ar4     ar5      ma1     sar1     sar2\n",
       "      1.1663  -0.2179  -0.0654  -0.0444  0.0546  -0.8304  -0.6147  -0.2808\n",
       "s.e.  0.1162   0.0474   0.0283   0.0274  0.0180   0.1151   0.0174   0.0175\n",
       "       drift\n",
       "      0.0005\n",
       "s.e.  0.0011\n",
       "\n",
       "sigma^2 estimated as 0.7534:  log likelihood=-4060.01\n",
       "AIC=8140.02   AICc=8140.09   BIC=8200.67"
      ]
     },
     "metadata": {},
     "output_type": "display_data"
    }
   ],
   "source": [
    "auto.arima(gt.ts,trace=TRUE)"
   ]
  },
  {
   "cell_type": "code",
   "execution_count": 44,
   "id": "69e89a69-55c5-4f2c-935c-da4ebab16f80",
   "metadata": {},
   "outputs": [
    {
     "name": "stdout",
     "output_type": "stream",
     "text": [
      "\n",
      "\tLjung-Box test\n",
      "\n",
      "data:  Residuals from ARIMA(5,0,1) with non-zero mean\n",
      "Q* = 1786.5, df = 17, p-value < 2.2e-16\n",
      "\n",
      "Model df: 7.   Total lags used: 24\n",
      "\n"
     ]
    },
    {
     "data": {
      "image/png": "[encoded data removed]",
      "text/plain": [
       "plot without title"
      ]
     },
     "metadata": {},
     "output_type": "display_data"
    }
   ],
   "source": [
    "ModelS<-arima(gt.ts, order=c(5,0,1))\n",
    "checkresiduals(ModelS)"
   ]
  },
  {
   "cell_type": "code",
   "execution_count": 45,
   "id": "b09b4901-29bb-4268-9c7d-53ef65d8a136",
   "metadata": {},
   "outputs": [
    {
     "data": {
      "image/png": "[encoded data removed]",
      "text/plain": [
       "Plot with title \"\""
      ]
     },
     "metadata": {},
     "output_type": "display_data"
    }
   ],
   "source": [
    "ts.diag(ModelS)"
   ]
  },
  {
   "cell_type": "code",
   "execution_count": 46,
   "id": "70cdfcd1-f8bf-406e-9cf1-53c381fce039",
   "metadata": {},
   "outputs": [
    {
     "data": {
      "text/html": [
       "8777.66115621793"
      ],
      "text/latex": [
       "8777.66115621793"
      ],
      "text/markdown": [
       "8777.66115621793"
      ],
      "text/plain": [
       "[1] 8777.661"
      ]
     },
     "metadata": {},
     "output_type": "display_data"
    },
    {
     "data": {
      "text/html": [
       "8826.20837988649"
      ],
      "text/latex": [
       "8826.20837988649"
      ],
      "text/markdown": [
       "8826.20837988649"
      ],
      "text/plain": [
       "[1] 8826.208"
      ]
     },
     "metadata": {},
     "output_type": "display_data"
    }
   ],
   "source": [
    "AIC(ModelS)\n",
    "BIC(ModelS)"
   ]
  },
  {
   "cell_type": "markdown",
   "id": "7e3a7e0d-2314-4182-8839-fb0216b43d24",
   "metadata": {},
   "source": [
    "### A graphical evaluation of the SARIMA model"
   ]
  },
  {
   "cell_type": "code",
   "execution_count": 47,
   "id": "3f3119d0-1284-4d2a-83cc-f9e2d7e77c73",
   "metadata": {},
   "outputs": [
    {
     "data": {
      "image/png": "[encoded data removed]",
      "text/plain": [
       "Plot with title \"Original Series (blue) vs SARIMA model (red)\""
      ]
     },
     "metadata": {},
     "output_type": "display_data"
    }
   ],
   "source": [
    "plot(time(gt.ts),gt.ts, xlab=\"Time\", ylab=\"\",\n",
    "     main=\"Original Series (blue) vs SARIMA model (red)\",\n",
    "     col=\"blue\",lwd=6,type=\"l\")\n",
    "points(fitted(ModelS),col='red',lwd=3,type=\"l\")"
   ]
  },
  {
   "cell_type": "markdown",
   "id": "34448798-d044-4be7-b940-1a0ebc4177ea",
   "metadata": {},
   "source": [
    "## <span style=\"color: lightblue;\">V-EVALUATION</span>"
   ]
  },
  {
   "cell_type": "code",
   "execution_count": 48,
   "id": "7c50b2e4-ed8b-4bda-96d4-5581693a119b",
   "metadata": {},
   "outputs": [
    {
     "data": {
      "image/png": "[encoded data removed]",
      "text/plain": [
       "Plot with title \"Original Series (lightblue) vs SARIMA model (pink)\""
      ]
     },
     "metadata": {},
     "output_type": "display_data"
    }
   ],
   "source": [
    "plot(time(gt.ts), gt.ts, \n",
    "     xlab = \"Time\", \n",
    "     ylab = \"\",\n",
    "     main = \"Original Series (lightblue) vs SARIMA model (pink)\",\n",
    "     col = \"black\", \n",
    "     lwd = 5, \n",
    "     type = \"l\")\n",
    "points(time(gt.ts), fitted(Model2) + fitted(Model.res), \n",
    "       col = \"grey\", \n",
    "       type = \"l\", \n",
    "       lwd = 4, \n",
    "       lty = 2)\n",
    "points(time(gt.ts), fitted(Model2), \n",
    "       col = \"lightblue\", \n",
    "       type = \"l\", \n",
    "       lwd = 4, \n",
    "       lty = 3)\n",
    "points(time(gt.ts), fitted(Model1), \n",
    "       col = \"violet\", \n",
    "       type = \"l\", \n",
    "       lwd = 4, \n",
    "       lty = 4)\n",
    "points(time(gt.ts), fitted(ModelS), \n",
    "       col = \"lightgreen\", \n",
    "       type = \"l\", \n",
    "       lwd = 2, \n",
    "       lty = 5)\n",
    "legend(\"topleft\", \n",
    "       legend = c(\"Original Series\", \"Model2 + Residuals\", \"Model2\", \"Model1\", \"Modelf\"),\n",
    "       col = c(\"black\", \"grey\", \"lightblue\", \"violet\", \"lightgreen\"), \n",
    "       lwd = 2, \n",
    "       lty = c(1, 2, 3, 4, 5),\n",
    "       cex = 0.8)\n"
   ]
  },
  {
   "cell_type": "markdown",
   "id": "94951d99-5a26-4648-b6a4-759705d6f3ac",
   "metadata": {},
   "source": [
    "### Comparative Summary Table"
   ]
  },
  {
   "cell_type": "markdown",
   "id": "77c5bea7-5a75-40f0-bf56-aeffe28cc7ef",
   "metadata": {},
   "source": [
    "|          | Model1   | Model2   | Modelres |    SARIMA Model |\n",
    "|----------|----------|----------|----------|----------|\n",
    "|   AIC       | 8221.6 |  8003.8 |  7387.25 | 8777.66|\n",
    "|          |          |          |          |          |\n",
    "|  BIC        |  8003.27|  8306.55 | 7429.73|    8826.20|\n"
   ]
  },
  {
   "cell_type": "markdown",
   "id": "2164bb64-2942-4998-a372-d8b20ffa49bf",
   "metadata": {},
   "source": [
    "The table compares AIC and BIC values for four models. Model.res has the lowest values, indicating the best fit, followed by Model2. Model1 and the SARIMA Model show higher values, suggesting poorer fit compared to the other models. Therefore, Model.res appears to be the most suitable choice based on these criteria."
   ]
  },
  {
   "cell_type": "markdown",
   "id": "BRG8qFFzeiV-",
   "metadata": {
    "id": "BRG8qFFzeiV-"
   },
   "source": [
    "### <div style=\"color: darkblue;\"> 5-Forecasting:"
   ]
  },
  {
   "cell_type": "code",
   "execution_count": 49,
   "id": "d1cb8c56-d4db-45fa-afda-46ef1b99aa45",
   "metadata": {},
   "outputs": [
    {
     "name": "stdout",
     "output_type": "stream",
     "text": [
      "Forecast for univariate time series: \n",
      "     Lead Forecast   S.E  Lower Upper\n",
      "3193    1    0.543 0.768 -0.962  2.05\n",
      "3194    2    0.320 0.814 -1.275  1.92\n",
      "3195    3    0.238 0.828 -1.384  1.86\n",
      "3196    4    0.151 0.832 -1.479  1.78\n",
      "3197    5    0.174 0.832 -1.456  1.80\n",
      "3198    6    0.190 0.832 -1.440  1.82\n",
      "3199    7    0.201 0.832 -1.430  1.83\n",
      "3200    8    0.209 0.832 -1.423  1.84\n",
      "3201    9    0.214 0.833 -1.419  1.85\n",
      "3202   10    0.217 0.834 -1.417  1.85\n",
      "3203   11    0.220 0.834 -1.416  1.86\n",
      "3204   12    0.221 0.835 -1.416  1.86\n",
      "3205   13    0.222 0.836 -1.416  1.86\n",
      "3206   14    0.223 0.837 -1.417  1.86\n",
      "3207   15    0.224 0.838 -1.419  1.87\n",
      "3208   16    0.224 0.839 -1.420  1.87\n",
      "3209   17    0.224 0.840 -1.422  1.87\n",
      "3210   18    0.224 0.841 -1.423  1.87\n",
      "3211   19    0.225 0.842 -1.425  1.87\n",
      "3212   20    0.225 0.843 -1.427  1.88\n",
      "3213   21    0.225 0.844 -1.429  1.88\n",
      "3214   22    0.225 0.845 -1.431  1.88\n",
      "3215   23    0.225 0.846 -1.432  1.88\n",
      "3216   24    0.225 0.846 -1.434  1.88\n",
      "3217   25    0.225 0.847 -1.436  1.89\n",
      "3218   26    0.225 0.848 -1.438  1.89\n",
      "3219   27    0.225 0.849 -1.440  1.89\n",
      "3220   28    0.225 0.850 -1.442  1.89\n",
      "3221   29    0.225 0.851 -1.444  1.89\n",
      "3222   30    0.225 0.852 -1.445  1.89\n",
      "3223   31    0.225 0.853 -1.447  1.90\n",
      "3224   32    0.225 0.854 -1.449  1.90\n",
      "3225   33    0.225 0.855 -1.451  1.90\n",
      "3226   34    0.225 0.856 -1.453  1.90\n",
      "3227   35    0.225 0.857 -1.455  1.90\n",
      "3228   36    0.225 0.858 -1.457  1.91\n",
      "3229   37    0.225 0.859 -1.458  1.91\n",
      "3230   38    0.225 0.860 -1.460  1.91\n",
      "3231   39    0.225 0.861 -1.462  1.91\n",
      "3232   40    0.225 0.862 -1.464  1.91\n",
      "3233   41    0.225 0.863 -1.466  1.92\n",
      "3234   42    0.225 0.863 -1.468  1.92\n",
      "3235   43    0.225 0.864 -1.469  1.92\n",
      "3236   44    0.225 0.865 -1.471  1.92\n",
      "3237   45    0.225 0.866 -1.473  1.92\n",
      "3238   46    0.225 0.867 -1.475  1.92\n",
      "3239   47    0.225 0.868 -1.477  1.93\n",
      "3240   48    0.225 0.869 -1.479  1.93\n",
      "------ \n",
      "Note: confidence level = 95 % \n"
     ]
    },
    {
     "data": {
      "image/png": "[encoded data removed]",
      "text/plain": [
       "plot without title"
      ]
     },
     "metadata": {},
     "output_type": "display_data"
    }
   ],
   "source": [
    "forecast(Model.res,48)"
   ]
  },
  {
   "cell_type": "markdown",
   "id": "pCtkjdHfnPTn",
   "metadata": {
    "id": "pCtkjdHfnPTn"
   },
   "source": [
    "**Interpretation of the Forecast Results:**<br>\n",
    "The forecast table outlines predictions for a univariate time series over the next 48 time points. Each row corresponds to a specific lead time, indicating how far into the future the forecast extends. <br> The \"Forecast\" column presents the predicted values for the time series at each lead time, providing insights into the expected trajectory of the series. Accompanying these forecasts are measures of uncertainty: the standard error (S.E) column quantifies the variability associated with each prediction, while the \"Lower\" and \"Upper\" columns establish 95% confidence intervals around the forecasted values. <br>These intervals offer a range within which the true values are expected to lie with 95% confidence. By considering both the forecasted values and their associated uncertainty estimates, analysts can make informed decisions regarding future trends and potential outcomes of the time series.\r",
    "\r\n",
    "\r\n",
    "\r\n"
   ]
  },
  {
   "cell_type": "markdown",
   "id": "f4085e1b-f52b-4194-9b8b-482b2c089b5a",
   "metadata": {},
   "source": [
    "## <span style=\"color: lightblue;\">CONCLUSION</span>"
   ]
  },
  {
   "cell_type": "markdown",
   "id": "11045ccc-4f7b-4b3f-a988-89698a3d86a0",
   "metadata": {},
   "source": [
    "The project delves into the contentious topic of climate change, acknowledging the diverse perspectives surrounding it. It highlights the complexities of analyzing climate data, emphasizing the challenges in data cleaning and preparation due to historical inconsistencies and technological advancements. By leveraging the Berkeley Earth Surface Temperature Study dataset, which integrates vast temperature reports from various sources, including shorter time series, the project offers a comprehensive resource for exploring climate trends."
   ]
  }
 ],
 "metadata": {
  "colab": {
   "provenance": []
  },
  "kernelspec": {
   "display_name": "R",
   "language": "R",
   "name": "ir"
  },
  "language_info": {
   "codemirror_mode": "r",
   "file_extension": ".r",
   "mimetype": "text/x-r-source",
   "name": "R",
   "pygments_lexer": "r",
   "version": "3.6.1"
  }
 },
 "nbformat": 4,
 "nbformat_minor": 5
}
